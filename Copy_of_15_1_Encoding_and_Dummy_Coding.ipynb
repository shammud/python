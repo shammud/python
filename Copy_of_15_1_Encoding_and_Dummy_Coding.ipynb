{
  "nbformat": 4,
  "nbformat_minor": 0,
  "metadata": {
    "colab": {
      "provenance": [],
      "collapsed_sections": [],
      "include_colab_link": true
    },
    "kernelspec": {
      "name": "python3",
      "display_name": "Python 3"
    },
    "language_info": {
      "name": "python"
    }
  },
  "cells": [
    {
      "cell_type": "markdown",
      "metadata": {
        "id": "view-in-github",
        "colab_type": "text"
      },
      "source": [
        "<a href=\"https://colab.research.google.com/github/shammud/python/blob/main/Copy_of_15_1_Encoding_and_Dummy_Coding.ipynb\" target=\"_parent\"><img src=\"https://colab.research.google.com/assets/colab-badge.svg\" alt=\"Open In Colab\"/></a>"
      ]
    },
    {
      "cell_type": "markdown",
      "metadata": {
        "id": "vQ_tQG_3WBXn"
      },
      "source": [
        "## Encoding Data  \n",
        "When we encode data, we remodel a numeric column in a dataframe to be on a standard scale (0 or 1).   \n",
        "For example if we had a column of BMI scores, we could encode that column so that all scores greater than or equal to 25 were recoded to the value 1 (bad) and all scores less than 25 were recoded to 0 (good).  \n",
        "\n",
        "For example:  \n",
        "\n",
        "` def encode_bmi(df):`       \n",
        "> `if df['bmi'] >= 25:`  \n",
        "> >  `return 1`   \n",
        "\n",
        ">`else`:  \n",
        "> >`return 0`  \n",
        "\n",
        "`df[\"bmi\"] = df.apply(encode_bmi, axis=1)`    "
      ]
    },
    {
      "cell_type": "markdown",
      "metadata": {
        "id": "gHU4-ADHU4eq"
      },
      "source": [
        "### Challenge 1 - prepare dataset for encoding \n",
        "---\n",
        "1. Read Covid vaccination data from the `by_country` sheet in the Excel file at this link : https://github.com/lilaceri/Working-with-data-/blob/342abab10d93c4bf23b5c55a50f189f12a137c5f/Data%20Sets%20for%20code%20divisio/Covid%20Vaccination%20Data.xlsx?raw=true\n",
        "2. Find out which columns have missing values\n",
        "3. Remove all rows with missing data in the total_vaccination column  \n",
        "4. Remove all rows with missing data in the daily_vaccinations_per_million \n",
        "4. find the median daily_vaccinations_per_million, storing this in a variable for use later     \n",
        "\n",
        "\n",
        "**Test output**:  \n",
        "1. dataframe is saved in a variable\n",
        "2. \n",
        "```\n",
        "RangeIndex: 14994 entries, 0 to 14993\n",
        "Data columns (total 15 columns):\n",
        "    Column                               Non-Null Count  Dtype         \n",
        "                                \n",
        " 0   country                              14994 non-null  object        \n",
        " 1   iso_code                             14994 non-null  object        \n",
        " 2   date                                 14994 non-null  datetime64[ns]\n",
        " 3   total_vaccinations                   9011 non-null   float64       \n",
        " 4   people_vaccinated                    8370 non-null   float64       \n",
        " 5   people_fully_vaccinated              6158 non-null   float64       \n",
        " 6   daily_vaccinations_raw               7575 non-null   float64       \n",
        " 7   daily_vaccinations                   14796 non-null  float64       \n",
        " 8   total_vaccinations_per_hundred       9011 non-null   float64       \n",
        " 9   people_vaccinated_per_hundred        8370 non-null   float64       \n",
        " 10  people_fully_vaccinated_per_hundred  6158 non-null   float64       \n",
        " 11  daily_vaccinations_per_million       14796 non-null  float64       \n",
        " 12  vaccines                             14994 non-null  object        \n",
        " 13  source_name                          14994 non-null  object        \n",
        " 14  source_website                       14994 non-null  object        \n",
        "dtypes: datetime64[ns](1), float64(9), object(5)\n",
        "memory usage: 1.7+ MB\n",
        "```\n",
        "3. 9011 rows × 15 columns  \n",
        "4. 8815 rows * 15 columns \n",
        "5. 1915.5\n",
        "\n"
      ]
    },
    {
      "cell_type": "code",
      "metadata": {
        "id": "Hb36AOCAbJIR",
        "colab": {
          "base_uri": "https://localhost:8080/"
        },
        "outputId": "4a1fee16-3d4d-4787-8775-a9dc6320ca6d"
      },
      "source": [
        "import pandas as pd\n",
        "url = \"https://github.com/lilaceri/Working-with-data-/blob/342abab10d93c4bf23b5c55a50f189f12a137c5f/Data%20Sets%20for%20code%20divisio/Covid%20Vaccination%20Data.xlsx?raw=true\"\n",
        "\n",
        "# Task 1 \n",
        "covid_vaccination=pd.read_excel(url,sheet_name=\"by_country\")\n",
        "\n",
        "# Task 2\n",
        "covid_vaccination.isnull().values.any()\n",
        "covid_vaccination.info()\n",
        "# Task 3\n",
        "covid_vaccination=covid_vaccination.dropna(subset = [\"total_vaccinations\"])\n",
        "print(len(covid_vaccination))\n",
        "# Task 4\n",
        "covid_vaccination=covid_vaccination.dropna(subset = [\"daily_vaccinations_per_million\"])\n",
        "print(len(covid_vaccination))\n",
        "\n",
        "# Task 5\n",
        "median_daily_vaccinations_per_million=covid_vaccination['daily_vaccinations_per_million'].median()\n",
        "print(median_daily_vaccinations_per_million)"
      ],
      "execution_count": null,
      "outputs": [
        {
          "output_type": "stream",
          "name": "stdout",
          "text": [
            "<class 'pandas.core.frame.DataFrame'>\n",
            "RangeIndex: 14994 entries, 0 to 14993\n",
            "Data columns (total 15 columns):\n",
            " #   Column                               Non-Null Count  Dtype         \n",
            "---  ------                               --------------  -----         \n",
            " 0   country                              14994 non-null  object        \n",
            " 1   iso_code                             14994 non-null  object        \n",
            " 2   date                                 14994 non-null  datetime64[ns]\n",
            " 3   total_vaccinations                   9011 non-null   float64       \n",
            " 4   people_vaccinated                    8370 non-null   float64       \n",
            " 5   people_fully_vaccinated              6158 non-null   float64       \n",
            " 6   daily_vaccinations_raw               7575 non-null   float64       \n",
            " 7   daily_vaccinations                   14796 non-null  float64       \n",
            " 8   total_vaccinations_per_hundred       9011 non-null   float64       \n",
            " 9   people_vaccinated_per_hundred        8370 non-null   float64       \n",
            " 10  people_fully_vaccinated_per_hundred  6158 non-null   float64       \n",
            " 11  daily_vaccinations_per_million       14796 non-null  float64       \n",
            " 12  vaccines                             14994 non-null  object        \n",
            " 13  source_name                          14994 non-null  object        \n",
            " 14  source_website                       14994 non-null  object        \n",
            "dtypes: datetime64[ns](1), float64(9), object(5)\n",
            "memory usage: 1.7+ MB\n",
            "9011\n",
            "8816\n",
            "1915.5\n"
          ]
        }
      ]
    },
    {
      "cell_type": "markdown",
      "metadata": {
        "id": "7br0m2QAn-9i"
      },
      "source": [
        "### Challenge 2 - encode daily vaccinations \n",
        "---\n",
        "\n",
        "Write a function to encode daily vaccinations per million, where values greater than or equal to median = 1 and values less than median = 0 \n",
        "\n",
        "**Test output**: \n",
        "\n",
        "using describe()\n",
        "```\n",
        "count    8816.000000\n",
        "mean        0.991493\n",
        "std         0.091847\n",
        "min         0.000000\n",
        "25%         1.000000\n",
        "50%         1.000000\n",
        "75%         1.000000\n",
        "max         1.000000\n",
        "Name: daily_vaccinations_per_million, dtype: float64\n",
        "```"
      ]
    },
    {
      "cell_type": "code",
      "metadata": {
        "id": "nwmvVLa0aYli",
        "colab": {
          "base_uri": "https://localhost:8080/"
        },
        "outputId": "9d35e337-f4ec-4550-fd42-90aa4e5b3bc5"
      },
      "source": [
        "# Task\n",
        "def encode_daily(df):\n",
        "\n",
        " if df['daily_vaccinations_per_million'] >= median_daily_vaccinations_per_million:\n",
        "  return 1\n",
        " else:\n",
        "  return 0\n",
        "covid_vaccination[\"daily_vaccinations_per_million\"] = covid_vaccination.apply(encode_daily,axis=1)\n",
        "covid_vaccination['daily_vaccinations_per_million'].describe()\n",
        "\n",
        "\n",
        "\n",
        "\n"
      ],
      "execution_count": null,
      "outputs": [
        {
          "output_type": "execute_result",
          "data": {
            "text/plain": [
              "count    8816.000000\n",
              "mean        0.500000\n",
              "std         0.500028\n",
              "min         0.000000\n",
              "25%         0.000000\n",
              "50%         0.500000\n",
              "75%         1.000000\n",
              "max         1.000000\n",
              "Name: daily_vaccinations_per_million, dtype: float64"
            ]
          },
          "metadata": {},
          "execution_count": 114
        }
      ]
    },
    {
      "cell_type": "markdown",
      "metadata": {
        "id": "yX9easCln-9m"
      },
      "source": [
        "### Challenge 3 - Encoding total vaccinations   \n",
        "---\n",
        "The United Kingdom has been praised for its fast vaccine rollout. \n",
        "1. Find the minimum total vaccinations for the United Kingdom \n",
        "2. Write a function to encode total_vaccinations column so that all values less than the UK's min are 0 and all values greater than or equal to the UK's min are coded as 1 \n",
        "3. Display the unique countries for which total vaccinated is at the same rate or more than the UK\n",
        "\n",
        "**Test output**:\n",
        "\n",
        "1. 2677971.0\n",
        "2. `df['total_vaccinations'].describe()` should output:\n",
        "```\n",
        "count    9011.00000\n",
        "mean        0.29808\n",
        "std         0.45744\n",
        "min         0.00000\n",
        "25%         0.00000\n",
        "50%         0.00000\n",
        "75%         1.00000\n",
        "max         1.00000\n",
        "Name: total_vaccinations, dtype: float64\n",
        "```\n",
        "3. \n",
        "```\n",
        "array(['Argentina', 'Australia', 'Austria', 'Azerbaijan', 'Bangladesh',\n",
        "       'Belgium', 'Brazil', 'Cambodia', 'Canada', 'Chile', 'China',\n",
        "       'Colombia', 'Czechia', 'Denmark', 'Dominican Republic', 'England',\n",
        "       'Finland', 'France', 'Germany', 'Greece', 'Hong Kong', 'Hungary',\n",
        "       'India', 'Indonesia', 'Ireland', 'Israel', 'Italy', 'Japan',\n",
        "       'Kazakhstan', 'Malaysia', 'Mexico', 'Morocco', 'Nepal',\n",
        "       'Netherlands', 'Norway', 'Pakistan', 'Peru', 'Philippines',\n",
        "       'Poland', 'Portugal', 'Qatar', 'Romania', 'Russia', 'Saudi Arabia',\n",
        "       'Scotland', 'Serbia', 'Singapore', 'Slovakia', 'South Korea',\n",
        "       'Spain', 'Sweden', 'Switzerland', 'Thailand', 'Turkey',\n",
        "       'United Arab Emirates', 'United Kingdom', 'United States',\n",
        "       'Uruguay', 'Wales'], dtype=object)\n",
        "```\n",
        "\n",
        "\n"
      ]
    },
    {
      "cell_type": "code",
      "metadata": {
        "id": "D6-QmeusbTIx",
        "colab": {
          "base_uri": "https://localhost:8080/"
        },
        "outputId": "1aef92ed-873d-4b29-e2f4-51c20f7721b2"
      },
      "source": [
        "import pandas as pd\n",
        "\n",
        "uk=covid_vaccination[covid_vaccination['country']=='United Kingdom'] \n",
        "uk_min_total_vaccinations=uk['total_vaccinations'].min()\n",
        "print(uk_min_total_vaccinations)\n"
      ],
      "execution_count": null,
      "outputs": [
        {
          "output_type": "stream",
          "name": "stdout",
          "text": [
            "2677971.0\n"
          ]
        }
      ]
    },
    {
      "cell_type": "code",
      "source": [
        "def encode_total_vaccinations(df):\n",
        "  if df['total_vaccinations'] >= uk_min_total_vaccinations:\n",
        "    return 1\n",
        "  else:\n",
        "    return 0\n",
        "  \n",
        "covid_vaccination[\"total_vaccinations\"] = covid_vaccination.apply(encode_total_vaccinations, axis=1)\n",
        "covid_vaccination['total_vaccinations'].describe()      "
      ],
      "metadata": {
        "colab": {
          "base_uri": "https://localhost:8080/"
        },
        "id": "H_KioEYRPVB2",
        "outputId": "a758b5dd-6189-45a4-bd3d-5b5c8bbef2ef"
      },
      "execution_count": null,
      "outputs": [
        {
          "output_type": "execute_result",
          "data": {
            "text/plain": [
              "count    8816.000000\n",
              "mean        0.214610\n",
              "std         0.410575\n",
              "min         0.000000\n",
              "25%         0.000000\n",
              "50%         0.000000\n",
              "75%         0.000000\n",
              "max         1.000000\n",
              "Name: total_vaccinations, dtype: float64"
            ]
          },
          "metadata": {},
          "execution_count": 116
        }
      ]
    },
    {
      "cell_type": "code",
      "source": [
        "unique_covid_vaccination=covid_vaccination[covid_vaccination['total_vaccinations']>=1]\n",
        "unique_country_covid_vaccination=unique_covid_vaccination['country'].unique()\n",
        "print(unique_country_covid_vaccination)\n"
      ],
      "metadata": {
        "colab": {
          "base_uri": "https://localhost:8080/"
        },
        "id": "5USobrXUPb_W",
        "outputId": "e13cf990-20e0-47cf-cb4c-80dc0e2cdd46"
      },
      "execution_count": null,
      "outputs": [
        {
          "output_type": "stream",
          "name": "stdout",
          "text": [
            "['Argentina' 'Austria' 'Bangladesh' 'Belgium' 'Brazil' 'Canada' 'Chile'\n",
            " 'China' 'Colombia' 'Czechia' 'England' 'France' 'Germany' 'Greece'\n",
            " 'Hungary' 'India' 'Indonesia' 'Israel' 'Italy' 'Japan' 'Mexico' 'Morocco'\n",
            " 'Netherlands' 'Poland' 'Portugal' 'Romania' 'Russia' 'Saudi Arabia'\n",
            " 'Scotland' 'Serbia' 'South Korea' 'Spain' 'Sweden' 'Turkey'\n",
            " 'United Arab Emirates' 'United Kingdom' 'United States']\n"
          ]
        }
      ]
    },
    {
      "cell_type": "markdown",
      "metadata": {
        "id": "t9DFDyr0n-9o"
      },
      "source": [
        "### Challenge 4 - create new series of total vaccinations for each manufacturer\n",
        "---\n",
        "\n",
        "To create a new column in your dataframe:\n",
        "\n",
        "`df['new_column'] = ...`\n",
        "\n",
        "For example:\n",
        "\n",
        "* to duplicate an existing column\n",
        "  * `df['new_column'] = df['old_column']`\n",
        "* to add two columns together \n",
        "  * `df['new_column'] = df['column1'] + df['column2']`\n",
        "* to make a percentages column \n",
        "  * `df['new_column'] = (df['column1']/df['column1].sum()) * 100`\n",
        "\n",
        "  \n",
        "1. read data from 'by_manufacturer' sheet from Covid data \n",
        "2. find the sum of total vaccinations for each manufacturer\n",
        "3. create a new column that has the total vaccinations as a percentage of the overall sum of total vaccinations \n",
        "4. find the median percentage \n",
        "5. create a new column called 'encoded_percentages' which duplicates the percentages column\n",
        "6. encode the encoded_percentages column so that any values greater than or equal to the median percentage = 1 and any lesser than = 0 \n",
        "\n",
        "\n",
        "**Test output**:\n",
        "\n",
        "1.\n",
        "2. \n",
        "```\n",
        "vaccine\n",
        "Johnson&Johnson        264839828\n",
        "Moderna               5548036383\n",
        "Oxford/AstraZeneca     539433203\n",
        "Pfizer/BioNTech       8690461304\n",
        "Sinovac                604660293\n",
        "Name: total_vaccinations, dtype: int64\n",
        "```\n",
        "3. \n",
        "```\n",
        "\tlocation\tdate\tvaccine\ttotal_vaccinations\tpercentages\n",
        "0\tChile\t2020-12-24\tPfizer/BioNTech\t420\t0.000003\n",
        "1\tChile\t2020-12-25\tPfizer/BioNTech\t5198\t0.000033\n",
        "2\tChile\t2020-12-26\tPfizer/BioNTech\t8338\t0.000053\n",
        "3\tChile\t2020-12-27\tPfizer/BioNTech\t8649\t0.000055\n",
        "4\tChile\t2020-12-28\tPfizer/BioNTech\t8649\t0.000055\n",
        "...\t...\t...\t...\t...\t...\n",
        "3291\tUnited States\t2021-05-01\tModerna\t105947940\t0.677095\n",
        "3292\tUnited States\t2021-05-01\tPfizer/BioNTech\t129013657\t0.824504\n",
        "3293\tUnited States\t2021-05-02\tJohnson&Johnson\t8374395\t0.053519\n",
        "3294\tUnited States\t2021-05-02\tModerna\t106780082\t0.682413\n",
        "3295\tUnited States\t2021-05-02\tPfizer/BioNTech\t130252779\t0.832423\n",
        "3296 rows × 5 columns\n",
        "```\n",
        "4. 0.0011110194374896931\n",
        "5. \n",
        "```\n",
        "location\tdate\tvaccine\ttotal_vaccinations\tpercentage_of_total\tencoded_percentages\n",
        "0\tChile\t2020-12-24\tPfizer/BioNTech\t420\t0.000003\t0.000003\n",
        "1\tChile\t2020-12-25\tPfizer/BioNTech\t5198\t0.000033\t0.000033\n",
        "2\tChile\t2020-12-26\tPfizer/BioNTech\t8338\t0.000053\t0.000053\n",
        "3\tChile\t2020-12-27\tPfizer/BioNTech\t8649\t0.000055\t0.000055\n",
        "4\tChile\t2020-12-28\tPfizer/BioNTech\t8649\t0.000055\t0.000055\n",
        "...\t...\t...\t...\t...\t...\t...\n",
        "3291\tUnited States\t2021-05-01\tModerna\t105947940\t0.677095\t0.677095\n",
        "3292\tUnited States\t2021-05-01\tPfizer/BioNTech\t129013657\t0.824504\t0.824504\n",
        "3293\tUnited States\t2021-05-02\tJohnson&Johnson\t8374395\t0.053519\t0.053519\n",
        "3294\tUnited States\t2021-05-02\tModerna\t106780082\t0.682413\t0.682413\n",
        "3295\tUnited States\t2021-05-02\tPfizer/BioNTech\t130252779\t0.832423\t0.832423\n",
        "3296 rows × 6 columns\n",
        "```\n",
        "6. \n",
        "```\n",
        "\tlocation\tdate\tvaccine\ttotal_vaccinations\tpercentages\tencode\tencoded\n",
        "0\tChile\t2020-12-24\tPfizer/BioNTech\t420\t0.000003\t0.000003\t0\n",
        "1\tChile\t2020-12-25\tPfizer/BioNTech\t5198\t0.000033\t0.000033\t0\n",
        "2\tChile\t2020-12-26\tPfizer/BioNTech\t8338\t0.000053\t0.000053\t0\n",
        "3\tChile\t2020-12-27\tPfizer/BioNTech\t8649\t0.000055\t0.000055\t0\n",
        "4\tChile\t2020-12-28\tPfizer/BioNTech\t8649\t0.000055\t0.000055\t0\n",
        "...\t...\t...\t...\t...\t...\t...\t...\n",
        "3291\tUnited States\t2021-05-01\tModerna\t105947940\t0.677095\t0.677095\t1\n",
        "3292\tUnited States\t2021-05-01\tPfizer/BioNTech\t129013657\t0.824504\t0.824504\t1\n",
        "3293\tUnited States\t2021-05-02\tJohnson&Johnson\t8374395\t0.053519\t0.053519\t1\n",
        "3294\tUnited States\t2021-05-02\tModerna\t106780082\t0.682413\t0.682413\t1\n",
        "3295\tUnited States\t2021-05-02\tPfizer/BioNTech\t130252779\t0.832423\t0.832423\t1\n",
        "3296 rows × 7 columns\n",
        "```\n",
        "\n"
      ]
    },
    {
      "cell_type": "code",
      "source": [
        "import pandas as pd\n",
        "url = \"https://github.com/lilaceri/Working-with-data-/blob/342abab10d93c4bf23b5c55a50f189f12a137c5f/Data%20Sets%20for%20code%20divisio/Covid%20Vaccination%20Data.xlsx?raw=true\"\n",
        "covid_data=pd.read_excel(url,sheet_name=\"by_manufacturer\")"
      ],
      "metadata": {
        "id": "o-UmBf_dWKWb"
      },
      "execution_count": null,
      "outputs": []
    },
    {
      "cell_type": "code",
      "source": [
        "print(covid_data.columns)\n",
        "a= covid_data[[\"vaccine\", \"total_vaccinations\"]].groupby(\"vaccine\").sum()\n",
        "print(a)"
      ],
      "metadata": {
        "colab": {
          "base_uri": "https://localhost:8080/"
        },
        "id": "sHpMhqCXXARi",
        "outputId": "6517a7b7-a64f-47e2-c2cd-b453dee86826"
      },
      "execution_count": null,
      "outputs": [
        {
          "output_type": "stream",
          "name": "stdout",
          "text": [
            "Index(['location', 'date', 'vaccine', 'total_vaccinations'], dtype='object')\n",
            "                    total_vaccinations\n",
            "vaccine                               \n",
            "Johnson&Johnson              264839828\n",
            "Moderna                     5548036383\n",
            "Oxford/AstraZeneca           539433203\n",
            "Pfizer/BioNTech             8690461304\n",
            "Sinovac                      604660293\n"
          ]
        }
      ]
    },
    {
      "cell_type": "code",
      "source": [
        "covid_data['percentage']=(covid_data['total_vaccinations']/covid_data['total_vaccinations'].sum())*100\n",
        "print(covid_data.head())"
      ],
      "metadata": {
        "colab": {
          "base_uri": "https://localhost:8080/"
        },
        "id": "ZVK9GeCjY9cj",
        "outputId": "dd543788-c709-423e-ec43-6a37cce4c330"
      },
      "execution_count": null,
      "outputs": [
        {
          "output_type": "stream",
          "name": "stdout",
          "text": [
            "  location       date          vaccine  total_vaccinations  percentage\n",
            "0    Chile 2020-12-24  Pfizer/BioNTech                 420    0.000003\n",
            "1    Chile 2020-12-25  Pfizer/BioNTech                5198    0.000033\n",
            "2    Chile 2020-12-26  Pfizer/BioNTech                8338    0.000053\n",
            "3    Chile 2020-12-27  Pfizer/BioNTech                8649    0.000055\n",
            "4    Chile 2020-12-28  Pfizer/BioNTech                8649    0.000055\n"
          ]
        }
      ]
    },
    {
      "cell_type": "code",
      "source": [
        "print(covid_data['percentage'].median())"
      ],
      "metadata": {
        "colab": {
          "base_uri": "https://localhost:8080/"
        },
        "id": "cpYNACNLZPyk",
        "outputId": "257c4df8-ffa4-4020-ef6a-1974efda48ec"
      },
      "execution_count": null,
      "outputs": [
        {
          "output_type": "stream",
          "name": "stdout",
          "text": [
            "0.0011110194374896931\n"
          ]
        }
      ]
    },
    {
      "cell_type": "code",
      "source": [
        "covid_data['encoded_percentages']=covid_data['percentage']\n",
        "print(covid_data.head())"
      ],
      "metadata": {
        "colab": {
          "base_uri": "https://localhost:8080/"
        },
        "id": "gIh0xrPwasP1",
        "outputId": "a31da3df-1165-486e-ddfc-af49afbb6eae"
      },
      "execution_count": null,
      "outputs": [
        {
          "output_type": "stream",
          "name": "stdout",
          "text": [
            "  location       date          vaccine  total_vaccinations  percentage  \\\n",
            "0    Chile 2020-12-24  Pfizer/BioNTech                 420    0.000003   \n",
            "1    Chile 2020-12-25  Pfizer/BioNTech                5198    0.000033   \n",
            "2    Chile 2020-12-26  Pfizer/BioNTech                8338    0.000053   \n",
            "3    Chile 2020-12-27  Pfizer/BioNTech                8649    0.000055   \n",
            "4    Chile 2020-12-28  Pfizer/BioNTech                8649    0.000055   \n",
            "\n",
            "   encoded_percentages  \n",
            "0             0.000003  \n",
            "1             0.000033  \n",
            "2             0.000053  \n",
            "3             0.000055  \n",
            "4             0.000055  \n"
          ]
        }
      ]
    },
    {
      "cell_type": "code",
      "source": [
        "def encode_encoded_percentage(df):\n",
        "  if df['encoded_percentages'] >=covid_data['percentage'].median() :\n",
        "    return 1\n",
        "  else:\n",
        "    return 0\n",
        "  \n",
        "covid_data[\"encoded\"] = covid_data.apply(encode_encoded_percentage, axis=1)\n",
        "print(covid_data)     \n",
        "\n"
      ],
      "metadata": {
        "colab": {
          "base_uri": "https://localhost:8080/"
        },
        "id": "DhqZiq4hbORe",
        "outputId": "322ab595-8773-474d-904c-55e23c66c9f1"
      },
      "execution_count": null,
      "outputs": [
        {
          "output_type": "stream",
          "name": "stdout",
          "text": [
            "           location       date          vaccine  total_vaccinations  \\\n",
            "0             Chile 2020-12-24  Pfizer/BioNTech                 420   \n",
            "1             Chile 2020-12-25  Pfizer/BioNTech                5198   \n",
            "2             Chile 2020-12-26  Pfizer/BioNTech                8338   \n",
            "3             Chile 2020-12-27  Pfizer/BioNTech                8649   \n",
            "4             Chile 2020-12-28  Pfizer/BioNTech                8649   \n",
            "...             ...        ...              ...                 ...   \n",
            "3291  United States 2021-05-01          Moderna           105947940   \n",
            "3292  United States 2021-05-01  Pfizer/BioNTech           129013657   \n",
            "3293  United States 2021-05-02  Johnson&Johnson             8374395   \n",
            "3294  United States 2021-05-02          Moderna           106780082   \n",
            "3295  United States 2021-05-02  Pfizer/BioNTech           130252779   \n",
            "\n",
            "      percentage  encoded_percentages  encoded  \n",
            "0       0.000003             0.000003        0  \n",
            "1       0.000033             0.000033        0  \n",
            "2       0.000053             0.000053        0  \n",
            "3       0.000055             0.000055        0  \n",
            "4       0.000055             0.000055        0  \n",
            "...          ...                  ...      ...  \n",
            "3291    0.677095             0.677095        1  \n",
            "3292    0.824504             0.824504        1  \n",
            "3293    0.053519             0.053519        1  \n",
            "3294    0.682413             0.682413        1  \n",
            "3295    0.832423             0.832423        1  \n",
            "\n",
            "[3296 rows x 7 columns]\n"
          ]
        }
      ]
    },
    {
      "cell_type": "markdown",
      "metadata": {
        "id": "G8yHJH706Cd9"
      },
      "source": [
        "### Exercise 8 - encode daily vaccinations \n",
        "\n",
        "1. find the median daily vaccinations per 1 million \n",
        "2. write a function to encode daily vaccinations per 1 million, where values greater than or equal to median = 1 and values less than median = 0 \n",
        "\n",
        "Output: \n",
        "\n",
        "1. 1915.5\n",
        "2. \n",
        "```\n",
        "0        0\n",
        "6        0\n",
        "22       0\n",
        "44       0\n",
        "59       0\n",
        "        ..\n",
        "14989    0\n",
        "14990    0\n",
        "14991    0\n",
        "14992    0\n",
        "14993    0\n",
        "Name: daily_vaccinations_per_million, Length: 9011, dtype: int64\n",
        "```"
      ]
    },
    {
      "cell_type": "code",
      "source": [
        "print(covid_vaccination['daily_vaccinations_per_million'].median())\n",
        "def encode_daily_vaccinations_per_million(df):\n",
        "  if df['daily_vaccinations_per_million'] >=covid_vaccination['daily_vaccinations_per_million'].median() :\n",
        "    return 1\n",
        "  else:\n",
        "    return 0\n",
        "  \n",
        "covid_vaccination[\"daily_vaccinations_per_million\"] = covid_vaccination.apply(encode_daily_vaccinations_per_million, axis=1)\n",
        "print(covid_vaccination[\"daily_vaccinations_per_million\"].head())   "
      ],
      "metadata": {
        "id": "J27AAmcIG4Pt",
        "colab": {
          "base_uri": "https://localhost:8080/"
        },
        "outputId": "486d6d59-44cc-4ab2-aab4-1928b388b436"
      },
      "execution_count": null,
      "outputs": [
        {
          "output_type": "stream",
          "name": "stdout",
          "text": [
            "0.5\n",
            "6     0\n",
            "22    0\n",
            "44    0\n",
            "59    0\n",
            "62    0\n",
            "Name: daily_vaccinations_per_million, dtype: int64\n"
          ]
        }
      ]
    },
    {
      "cell_type": "markdown",
      "metadata": {
        "id": "KznNiO1ooEcw"
      },
      "source": [
        "### Exercise 9 - Encoding vaccinations per hundred  \n",
        "---\n",
        "The United Kingdom has been praised for its fast vaccine rollout. \n",
        "1. find the minimum total vaccinations for the United Kingdom \n",
        "2. save this value in a variable rounded down to an integer\n",
        "3. write a function to encode total_vaccinations column so that all values less than the UK's min are 0 and all values greater than or equal to the UK's min are coded as 1 \n",
        "4. display the countries which total vaccinated is at the same rate or more than the UK\n",
        "\n",
        "Output:\n",
        "\n",
        "1. 1402432.0\n",
        "2. 1402432\n",
        "3. `df['people_vaccinated_per_hundred']` should output:\n",
        "```\n",
        "0        0\n",
        "6        0\n",
        "22       0\n",
        "44       0\n",
        "59       0\n",
        "        ..\n",
        "14989    0\n",
        "14990    0\n",
        "14991    0\n",
        "14992    0\n",
        "14993    0\n",
        "Name: total_vaccinations, Length: 9011, dtype: int64\n",
        "```\n",
        "4. \n",
        "```\n",
        "array(['Argentina', 'Australia', 'Austria', 'Azerbaijan', 'Bangladesh',\n",
        "       'Belgium', 'Brazil', 'Cambodia', 'Canada', 'Chile', 'China',\n",
        "       'Colombia', 'Czechia', 'Denmark', 'Dominican Republic', 'England',\n",
        "       'Finland', 'France', 'Germany', 'Greece', 'Hong Kong', 'Hungary',\n",
        "       'India', 'Indonesia', 'Ireland', 'Israel', 'Italy', 'Japan',\n",
        "       'Kazakhstan', 'Malaysia', 'Mexico', 'Morocco', 'Nepal',\n",
        "       'Netherlands', 'Norway', 'Pakistan', 'Peru', 'Philippines',\n",
        "       'Poland', 'Portugal', 'Qatar', 'Romania', 'Russia', 'Saudi Arabia',\n",
        "       'Scotland', 'Serbia', 'Singapore', 'Slovakia', 'South Korea',\n",
        "       'Spain', 'Sweden', 'Switzerland', 'Thailand', 'Turkey',\n",
        "       'United Arab Emirates', 'United Kingdom', 'United States',\n",
        "       'Uruguay', 'Wales'], dtype=object)\n",
        "```\n",
        "\n",
        "\n"
      ]
    },
    {
      "cell_type": "markdown",
      "metadata": {
        "id": "9upnqmDO9Yko"
      },
      "source": [
        "### Exercise 10 - create new series of total vaccinations percentages\n",
        "---\n",
        "\n",
        "To create a new column in your dataframe:\n",
        "\n",
        "`df['new_column'] = ...`\n",
        "\n",
        "For example:\n",
        "\n",
        "* to duplicate an existing column\n",
        "  * `df['new_column'] = df['old_column']`\n",
        "* to add two columns together \n",
        "  * `df['new_column'] = df['column1'] + df['column2']`\n",
        "* to make a percentages column \n",
        "  * `df['new_column'] = (df['column1']/df['column1].sum()) * 100`  \n",
        "  \n",
        "\n",
        "\n",
        "1. read data from 'by_manufacturer' sheet from Covid data \n",
        "2. find the sum of total vaccinations for each manufacturer\n",
        "3. create a new column that has the total vaccinations as a percentage of the overall sum of total vaccinations \n",
        "4. find the median percentage \n",
        "5. create a new column called 'encoded_percentages' which duplicates the percentages column\n",
        "6. encode the encoded_percentages column so that any values greater than or equal to the median percentage = 1 and any lesser than = 0 \n",
        "\n",
        "\n",
        "Output:\n",
        "\n",
        "1.\n",
        "2. \n",
        "```\n",
        "vaccine\n",
        "Johnson&Johnson        264839828\n",
        "Moderna               5548036383\n",
        "Oxford/AstraZeneca     539433203\n",
        "Pfizer/BioNTech       8690461304\n",
        "Sinovac                604660293\n",
        "Name: total_vaccinations, dtype: int64\n",
        "```\n",
        "3. \n",
        "```\n",
        "\tlocation\tdate\tvaccine\ttotal_vaccinations\tpercentages\n",
        "0\tChile\t2020-12-24\tPfizer/BioNTech\t420\t0.000003\n",
        "1\tChile\t2020-12-25\tPfizer/BioNTech\t5198\t0.000033\n",
        "2\tChile\t2020-12-26\tPfizer/BioNTech\t8338\t0.000053\n",
        "3\tChile\t2020-12-27\tPfizer/BioNTech\t8649\t0.000055\n",
        "4\tChile\t2020-12-28\tPfizer/BioNTech\t8649\t0.000055\n",
        "...\t...\t...\t...\t...\t...\n",
        "3291\tUnited States\t2021-05-01\tModerna\t105947940\t0.677095\n",
        "3292\tUnited States\t2021-05-01\tPfizer/BioNTech\t129013657\t0.824504\n",
        "3293\tUnited States\t2021-05-02\tJohnson&Johnson\t8374395\t0.053519\n",
        "3294\tUnited States\t2021-05-02\tModerna\t106780082\t0.682413\n",
        "3295\tUnited States\t2021-05-02\tPfizer/BioNTech\t130252779\t0.832423\n",
        "3296 rows × 5 columns\n",
        "```\n",
        "4. 0.0011110194374896931\n",
        "5. \n",
        "6. \n",
        "```\n",
        "\tlocation\tdate\tvaccine\ttotal_vaccinations\tpercentages\tencode\tencoded\n",
        "0\tChile\t2020-12-24\tPfizer/BioNTech\t420\t0.000003\t0.000003\t0\n",
        "1\tChile\t2020-12-25\tPfizer/BioNTech\t5198\t0.000033\t0.000033\t0\n",
        "2\tChile\t2020-12-26\tPfizer/BioNTech\t8338\t0.000053\t0.000053\t0\n",
        "3\tChile\t2020-12-27\tPfizer/BioNTech\t8649\t0.000055\t0.000055\t0\n",
        "4\tChile\t2020-12-28\tPfizer/BioNTech\t8649\t0.000055\t0.000055\t0\n",
        "...\t...\t...\t...\t...\t...\t...\t...\n",
        "3291\tUnited States\t2021-05-01\tModerna\t105947940\t0.677095\t0.677095\t1\n",
        "3292\tUnited States\t2021-05-01\tPfizer/BioNTech\t129013657\t0.824504\t0.824504\t1\n",
        "3293\tUnited States\t2021-05-02\tJohnson&Johnson\t8374395\t0.053519\t0.053519\t1\n",
        "3294\tUnited States\t2021-05-02\tModerna\t106780082\t0.682413\t0.682413\t1\n",
        "3295\tUnited States\t2021-05-02\tPfizer/BioNTech\t130252779\t0.832423\t0.832423\t1\n",
        "3296 rows × 7 columns\n",
        "```\n",
        "\n"
      ]
    },
    {
      "cell_type": "code",
      "source": [],
      "metadata": {
        "id": "TnM08FvbG7RW"
      },
      "execution_count": null,
      "outputs": []
    },
    {
      "cell_type": "markdown",
      "metadata": {
        "id": "UKC6Q_6i70V9"
      },
      "source": [
        "# Reflection\n",
        "----\n",
        "\n",
        "## What skills have you demonstrated in completing this notebook?"
      ]
    },
    {
      "cell_type": "markdown",
      "source": [
        "In this exercise , I learned encoding data based on different columns and their values."
      ],
      "metadata": {
        "id": "ZbAkATqriDjM"
      }
    },
    {
      "cell_type": "markdown",
      "metadata": {
        "id": "SOrbWOuFmObq"
      },
      "source": [
        "## What caused you the most difficulty?"
      ]
    },
    {
      "cell_type": "markdown",
      "metadata": {
        "id": "G_eGng1GmO78"
      },
      "source": [
        "Your answer:It took some time to understand data and column names are mostly similar.so while fetching column names it's bit cofusing.Here last two exercise are same as the previous ones."
      ]
    }
  ]
}