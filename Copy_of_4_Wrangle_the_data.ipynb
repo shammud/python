{
  "nbformat": 4,
  "nbformat_minor": 0,
  "metadata": {
    "colab": {
      "name": "Copy of 4. Wrangle-the-data.ipynb",
      "provenance": [],
      "collapsed_sections": [],
      "include_colab_link": true
    },
    "kernelspec": {
      "name": "python3",
      "display_name": "Python 3"
    },
    "language_info": {
      "name": "python"
    }
  },
  "cells": [
    {
      "cell_type": "markdown",
      "metadata": {
        "id": "view-in-github",
        "colab_type": "text"
      },
      "source": [
        "<a href=\"https://colab.research.google.com/github/shammud/python/blob/main/Copy_of_4_Wrangle_the_data.ipynb\" target=\"_parent\"><img src=\"https://colab.research.google.com/assets/colab-badge.svg\" alt=\"Open In Colab\"/></a>"
      ]
    },
    {
      "cell_type": "markdown",
      "metadata": {
        "id": "BKBQIxC4YPKX"
      },
      "source": [
        "# Merging dataframes, creating new columns, replacing with default or correctly formatted values\n",
        "---\n",
        "\n",
        "## Merging dataframes\n",
        "\n",
        "We often want to use data from a set of different data files, or a set of dataframes we have prepared, to combine into one dataframe.\n",
        "\n",
        "### To merge two dataframes together when both dataframes have column headings in common - stacking them one on top of another \n",
        "\n",
        "If `df1` and `df2` have some column headings in common, to combine the two into one dataframe we use:  \n",
        "\n",
        "`pd.concat([dataframes to combine])`\n",
        "\n",
        "This will create a new dataframe with all columns from the original two dataframes, which we can store in a new variable for later use.  Missing values are filled with null values. \n",
        "\n",
        "If we want only the column headings that appear in both tables, we can use join='inner':\n",
        "\n",
        "`pd.concat([dataframes to combine], join='inner')` \n",
        "\n",
        "We may also need to refactor the indexing, where two tables are indexed from 0 upwards, adding the two tables together will result in multiple occurences of the same index.  This can be overcome by using ignore_index=True:\n",
        "\n",
        "`pd.concat([dataframes to combine], join='inner', ignore_index=True)`\n",
        "\n",
        "\n",
        "### Merging dataframes by common column matching values\n",
        "\n",
        " `pd.merge(datframe1, dataframe2)`\n",
        "\n",
        " extra parameters: \n",
        " * which columns to merge by when the column name is the same in both dataframes: \n",
        "  * single column `pd.merge(df, df2, on='column_name')`  \n",
        "  * multiple columns `pd.merge(df, df2, on=['column1', 'column2']`\n",
        "\n",
        "* which columns to merge by when columns have different names in each dataframe \n",
        "  * single column `pd.merge(df1, df2, left_on = 'df1_column', right_on = 'df2_column')`\n",
        "  * multiple column `pd.merge(df1, df2, left_on = ['df1_column1', 'df1_column2'], right_on = ['df2_column1', 'df2_column2'])`\n",
        "* what kind of join (inner, left, right or cross) inner is default\n",
        "  * `pd.merge(df1, df2, how = '....')`\n",
        "  * inner will join with all columns\n",
        "  * left joins with just first stated df columns \n",
        "  * right joins with just second stated df columns\n",
        "  * cross is a mix of both\n",
        "\n",
        "* To specify only specific columns to be returned from each dataframe\n",
        "  * `pd.merge(df1[['column1', 'column2']], df2[['column1', 'column2', 'column3']], on = ['column1', 'column2'])\n",
        "  * you must include the columns from each dataframe that are being merged on\n",
        "\n",
        "\n",
        "\n",
        "### Difference between concat and merge: \n",
        "\n",
        "```\n",
        "df1:  \n",
        "          Key  data1\n",
        "      0   b   0\n",
        "      1   b   1\n",
        "      2   a   2\n",
        "      3   c   3\n",
        "      4   a   4\n",
        "      5   a   5\n",
        "      6   b   6\n",
        "\n",
        "df2:\n",
        "    Key data2\n",
        "0   a   0\n",
        "1   b   1\n",
        "2   d   2\n",
        "\n",
        "# merge would look like this:\n",
        "\n",
        "pd.merge(df1, df2)\n",
        "\n",
        "   Key data1 data2\n",
        "0   b    0    1\n",
        "1   b    1    1\n",
        "2   b    6    1\n",
        "3   a    2    0\n",
        "4   a    4    0\n",
        "5   a    5    0\n",
        "\n",
        "# concat would look like this\n",
        "\n",
        "pd.concat([df1, df2])\n",
        "\n",
        "   Key data1 data2\n",
        "0   b   0     NaN\n",
        "1   b   1     NaN\n",
        "2   a   2     NaN\n",
        "3   c   3     NaN\n",
        "4   a   4     NaN\n",
        "5   a   5     NaN\n",
        "6   b   6     NaN\n",
        "0   a   Nan   0\n",
        "1   b   Nan   1\n",
        "2   d   Nan   2\n",
        "```\n",
        "\n",
        "Merge is particularly useful with datasets that share a unique index eg. two datasets that were indexed by date or country \n"
      ]
    },
    {
      "cell_type": "markdown",
      "metadata": {
        "id": "g0mUEA5ugGyJ"
      },
      "source": [
        "### Exercise 1 - combine the two data sets\n",
        "\n",
        "The Excel file at this URL https://github.com/futureCodersSE/working-with-data/blob/main/Data%20sets/Income-Data.xlsx?raw=true contains TWO data sheets named county-level and state-level.  \n",
        "\n",
        "Read the county-level sheet into a dataframe called **county_level_df** \n",
        "Read the state-level sheet into a dataframe called **state_level_df** \n",
        "\n",
        "Write a function called **combine_whole** which: \n",
        "\n",
        "Uses `pd.concat([list of dataframes])` to combine the two dataframes into a new dataframe called **income_df**, filling missing values with null values.  \n"
      ]
    },
    {
      "cell_type": "code",
      "metadata": {
        "id": "s6qHNDn-YN0i",
        "colab": {
          "base_uri": "https://localhost:8080/"
        },
        "outputId": "4fe1fcf5-828c-48cb-82e1-49d29f759358"
      },
      "source": [
        "import pandas as pd\n",
        "county_level_df = pd.read_excel(\"https://github.com/futureCodersSE/working-with-data/blob/main/Data%20sets/Income-Data.xlsx?raw=true\",sheet_name=\"county-level\")\n",
        "state_level_df =pd.read_excel(\"https://github.com/futureCodersSE/working-with-data/blob/main/Data%20sets/Income-Data.xlsx?raw=true\",sheet_name=\"state-level\")\n",
        "\n",
        "def combine_whole():\n",
        "  # add code to combine the 2 dataframes, filling missing values with NA\n",
        " income_df=pd.concat([county_level_df,state_level_df])\n",
        " return income_df\n",
        "\n",
        "\n",
        "# create new dataframe from your function above \n",
        "income_df = combine_whole()\n",
        "\n",
        "# This will run and test your code to check your new dataframe contains null values \n",
        "actual = income_df.isnull().values.any()\n",
        "expected = True \n",
        "\n",
        "if actual == expected:\n",
        "  print(\"Test passed\", actual)\n",
        "else:\n",
        "  print(\"Test failed, expected\", expected, \"got\", actual)"
      ],
      "execution_count": 2,
      "outputs": [
        {
          "output_type": "stream",
          "name": "stdout",
          "text": [
            "Test passed True\n"
          ]
        }
      ]
    },
    {
      "cell_type": "markdown",
      "metadata": {
        "id": "aekH_ewx7FM3"
      },
      "source": [
        "### Exercise 2 - ignoring index to get a new indexing system\n",
        "---\n",
        "\n",
        "All rows in each dataframe are indexed from 0 to one less than the number of rows.  You may have noticed that the concatenation in the previous exercise has kept the indexing from the individual tables.  \n",
        "\n",
        "If we are making a new table it may make sense to create a new set of indices, from 0 to one less than the length of the new table.   Do this by adding an extra paramater ignore_index=True.  ignore_index is False by default and all original indices are kept.\n",
        "\n",
        "We can also use `join='inner'` to only join columns which are common to both tables\n",
        "\n",
        "Write a function called **combine_common** which will: \n",
        "\n",
        "Combine the dataframes `county_level_df` and `state_level_df` into a new dataframe called `income_df`, adding the parameter `ignore_index=True` and join via inner join. \n"
      ]
    },
    {
      "cell_type": "code",
      "metadata": {
        "id": "Z5ABjwed8Rpo",
        "colab": {
          "base_uri": "https://localhost:8080/"
        },
        "outputId": "b0fa89c0-7ce8-4277-d252-a38005ef2edf"
      },
      "source": [
        "import pandas as pd\n",
        "county_level_df = pd.read_excel(\"https://github.com/futureCodersSE/working-with-data/blob/main/Data%20sets/Income-Data.xlsx?raw=true\",sheet_name=\"county-level\")\n",
        "state_level_df =pd.read_excel(\"https://github.com/futureCodersSE/working-with-data/blob/main/Data%20sets/Income-Data.xlsx?raw=true\",sheet_name=\"state-level\")\n",
        "def combine_common():\n",
        "  # add code to combine the 2 dataframes ignoring index and using inner join\n",
        " income_df=pd.concat([county_level_df,state_level_df],ignore_index=True,join='inner' )\n",
        " return income_df\n",
        "\n",
        "# create new dataframe from your function above \n",
        "income_df = combine_common()\n",
        "\n",
        "\n",
        "# This will run and test your code to check your new dataframe ends with the correct index and has the right number of columns \n",
        "actual = income_df.index[-1]\n",
        "expected = 22\n",
        "\n",
        "if actual == expected and len(income_df.columns) == 3:\n",
        "  print(\"Test passed\", actual)\n",
        "else:\n",
        "  print(\"Test failed, expected last row index of\", expected, \"got\", actual, \"and expected 3 columns but got\", len(income_df.columns))"
      ],
      "execution_count": 5,
      "outputs": [
        {
          "output_type": "stream",
          "name": "stdout",
          "text": [
            "Test passed 22\n"
          ]
        }
      ]
    },
    {
      "cell_type": "markdown",
      "metadata": {
        "id": "4QAJS3TJCz_p"
      },
      "source": [
        "# Appending rows to a dataframe\n",
        "\n",
        "Where two dataframes have matching columns, we can append one to the other to add the records from one onto the end of the other.\n",
        "\n",
        "We do this using dataframe.append()\n",
        "\n",
        "`income_2 = income.append()`"
      ]
    },
    {
      "cell_type": "markdown",
      "metadata": {
        "id": "Cwarv13blWyg"
      },
      "source": [
        "### Exercise 3 - add new rows to the end of the income dataframe\n",
        "\n",
        "The sheet `income` in the Excel data file has 10 further records showing State, Age and Income only, so this table matches the income dataframe exactly.\n",
        "\n",
        "Read the data from sheet_name `income` in the same Excel data file into a new dataframe called **income_new**.  \n",
        " \n",
        "Write a function called **combine_income** which will: \n",
        "\n",
        "Append this dataframe to the `income_df` dataframe to form a new dataframe called **income_df_v2**.  Use the ignore_index=True parameter to reindex.  \n"
      ]
    },
    {
      "cell_type": "code",
      "metadata": {
        "id": "Exik-fYQ_ORy",
        "colab": {
          "base_uri": "https://localhost:8080/"
        },
        "outputId": "6626d4d4-1369-4b03-9b25-282ad08f9676"
      },
      "source": [
        "import pandas as pd\n",
        "income_new =pd.read_excel(\"https://github.com/futureCodersSE/working-with-data/blob/main/Data%20sets/Income-Data.xlsx?raw=true\",sheet_name=\"income\") \n",
        "def combine_income():\n",
        "  # add code below to join the income_new dataframe with the income_df dataframe ignoring the index\n",
        " income_df_v2=income_new.append(income_df,ignore_index=True)\n",
        " return income_df_v2\n",
        "\n",
        "# save returned dataframe in a variable\n",
        "income_df_v2 = combine_income()\n",
        "\n",
        "# This will run and test your code to see if new dataframe has correct number of columns and correct indexing \n",
        "actual = income_df_v2.index[-1]\n",
        "expected = 32\n",
        "\n",
        "if actual == expected and len(income_df_v2.columns) == 4:\n",
        "  print(\"Test passed\", actual)\n",
        "else:\n",
        "  print(\"Test failed, expected last row index of\", expected, \"got\", actual, \"and expected 4 columns but got\", len(income_df_v2.columns))"
      ],
      "execution_count": 23,
      "outputs": [
        {
          "output_type": "stream",
          "name": "stdout",
          "text": [
            "Test passed 32\n"
          ]
        }
      ]
    },
    {
      "cell_type": "markdown",
      "metadata": {
        "id": "X6W6V8P9Eo2A"
      },
      "source": [
        "### Exercise 4 - Create a new Pop column in county_level_df\n",
        "\n",
        "Looking at the tables country_level_df and state_level_df, each has a column containing data on population.  One column is headed *Population* and the other is headed *Pop*.  Ideally these would be merged into one column and this would minimise the number of NaN entries.  \n",
        "\n",
        "Write a function called **create_pop** that:\n",
        "\n",
        "*  Add a new column called '`Pop`' to the `county_level_df` dataframe which contains a copy of all the values in the '`Population`' column  (`df['new_name'] = df['existing_name']`)  \n",
        "*  Drop the 'Population' column `df.drop([column name], axis=1)` from `county_level_df` and store the result in a new dataframe called **county_level_df_v2**\n",
        "\n"
      ]
    },
    {
      "cell_type": "code",
      "metadata": {
        "id": "Yb_FWSLbG_zo",
        "colab": {
          "base_uri": "https://localhost:8080/"
        },
        "outputId": "60a26f7f-3e5f-4011-ff0d-91bf9747647b"
      },
      "source": [
        "import pandas as pd\n",
        "county_level_df = pd.read_excel(\"https://github.com/futureCodersSE/working-with-data/blob/main/Data%20sets/Income-Data.xlsx?raw=true\",sheet_name=\"county-level\")\n",
        "\n",
        "def create_pop():\n",
        "  # add code below to add 'Pop' column \n",
        " county_level_df['Pop']=county_level_df['Population']\n",
        " county_level_df_v2=county_level_df.drop(['Population'],axis=1)\n",
        " return county_level_df_v2\n",
        "\n",
        "\n",
        "\n",
        "\n",
        "\n",
        "\n",
        "\n",
        "# save returned dataframe in a variable\n",
        "county_level_df_v2 = create_pop()\n",
        "\n",
        "# This will run and test your code to see if new dataframe contains pop column and dropped population column \n",
        "if 'Pop' in county_level_df_v2.columns and len(county_level_df_v2.columns) == 5:\n",
        "  print(\"Test passed, contains 5 columns including Pop column\")\n",
        "elif 'Pop' in county_level_df_v2.columns and len(county_level_df_v2.columns) != 5:\n",
        "  print(\"Test not passed, expected 5 columns, instead got\", len(county_level_df_v2.columns))\n",
        "else: \n",
        "  print(\"Test not passed, column Pop not present\")\n"
      ],
      "execution_count": 19,
      "outputs": [
        {
          "output_type": "stream",
          "name": "stdout",
          "text": [
            "Test passed, contains 5 columns including Pop column\n"
          ]
        }
      ]
    },
    {
      "cell_type": "markdown",
      "metadata": {
        "id": "d9ku407dEU_3"
      },
      "source": [
        "## Exercise 5 - clean up the format of the Pop column in state_level_df\n",
        "\n",
        "Now that both dataframes hava a Pop column, we should make the data consisent in format for both dataframes.\n",
        "\n",
        "In `state_level_df` the values in the `Pop` column are in 1000s.  In `county_level_df_v2` the values in the `Pop` column are actual numbers.  Let's convert the `state_level_df` values from 1000s for consistency.  We can do this by performing an operation on a column ( `df[column name] = df[column name] // 1000 `) \n",
        "\n",
        "first copy the state_level_df into a new variable called **state_level_df_copy** you can do this like: `df_new = df.copy()` \n",
        "\n",
        "Write a function called **clean_pop** which will:\n",
        "\n",
        "*  convert the values in the `Pop` column of the `state_level_df.copy` dataframe from actual numbers to numbers of 1000s, rounding to whole numbers, then return the result\n",
        "\n"
      ]
    },
    {
      "cell_type": "code",
      "metadata": {
        "id": "k5xM8g68N-wY",
        "colab": {
          "base_uri": "https://localhost:8080/"
        },
        "outputId": "f7a14e3f-2957-40bd-9594-ec660cb27e9f"
      },
      "source": [
        "import pandas as pd\n",
        "import numpy as np\n",
        "\n",
        "state_level_df = pd.read_excel(\"https://github.com/futureCodersSE/working-with-data/blob/main/Data%20sets/Income-Data.xlsx?raw=true\", sheet_name = 'state-level')\n",
        "county_level_df = pd.read_excel(\"https://github.com/futureCodersSE/working-with-data/blob/main/Data%20sets/Income-Data.xlsx?raw=true\", sheet_name = 'county-level')\n",
        "state_level_df_copy = state_level_df.copy()\n",
        "\n",
        "def clean_pop(df):\n",
        "  #add code below which converts the Pop column to number of 1000s rather than actual numbers \n",
        " state_level_df_copy['Pop']=state_level_df_copy['Pop']//1000\n",
        "\n",
        " return df\n",
        "  \n",
        "\n",
        "# create new variable \n",
        "state_level_df_v2 = clean_pop(state_level_df_copy)\n",
        "\n",
        "# This will run and test your code to see if you've correctly converted the column to 10s instead of 1000s\n",
        "actual = state_level_df_v2['Pop'].max()\n",
        "expected = 29\n",
        "\n",
        "if actual == expected and len(state_level_df_v2.columns) == 5:\n",
        "  print(\"Test passed\", actual)\n",
        "else:\n",
        "  print(\"Test failed, expected max of\", expected, \"got\", actual)\n"
      ],
      "execution_count": 21,
      "outputs": [
        {
          "output_type": "stream",
          "name": "stdout",
          "text": [
            "Test passed 29.0\n"
          ]
        }
      ]
    },
    {
      "cell_type": "markdown",
      "metadata": {
        "id": "rRoghwoOilff"
      },
      "source": [
        "### Exercise 6 - combine the two v2 dataframes using concat\n",
        "\n",
        "Write function **combine_v2** which will: \n",
        "\n",
        "Combine `county_level_df_v2` and `state_level_df_v2` to create a new dataframe called **income_df_v3**.  The join type should be 'inner' and ignore_index should be True\n"
      ]
    },
    {
      "cell_type": "code",
      "metadata": {
        "id": "SbSGRddLJXO3",
        "colab": {
          "base_uri": "https://localhost:8080/"
        },
        "outputId": "34fa0a4e-f142-4b6a-8dbe-cc88d86b6165"
      },
      "source": [
        "import pandas as pd\n",
        "def combine_v2():\n",
        "  # return the 2 dataframes combined joined inner and ignoring index \n",
        " income_df_v3=pd.concat([county_level_df_v2,state_level_df_v2],ignore_index=True,join='inner' )\n",
        "\n",
        "# save within a new dataframe \n",
        " return income_df_v3\n",
        "income_df_v3=combine_v2()\n",
        "# This will run and test your code to see if your new dataframe is correct length and has correct number of columns \n",
        "\n",
        "actual =len(income_df_v3)\n",
        "actual2 =len(income_df_v3.columns)\n",
        "expected = 23 \n",
        "expected2 = 4 \n",
        "if actual == expected and actual2 == expected2:\n",
        " print(\"Test passed\", actual, \"rows and 4 columns\")\n",
        "else:\n",
        " print(\"Test failed, expected\", expected, \"rows\", expected2, \"columns but got\", actual, \"rows and\", actual2,\"columns\")\n"
      ],
      "execution_count": 41,
      "outputs": [
        {
          "output_type": "stream",
          "name": "stdout",
          "text": [
            "Test passed 23 rows and 4 columns\n"
          ]
        }
      ]
    },
    {
      "cell_type": "markdown",
      "metadata": {
        "id": "qXvA-Va2d3QM"
      },
      "source": [
        "### Exercise 7 - Combining dataframes using merge \n",
        "---\n",
        "read in 2 new dataframes called **skill_df** and **industry_df** using the 'Skill Migration' sheet and 'Industry Migration' sheet from the following excel spreadsheet:\n",
        "\"https://github.com/futureCodersSE/working-with-data/blob/main/Data%20sets/public_use-talent-migration.xlsx?raw=true\"\n",
        "\n",
        "Write a function called `get_combine()` which will: \n",
        "\n",
        "Use the merge() function to combine the industry and skill migration dataframes, merging on the country column and the skill group column (industry_name in industry sheet). Only keep the two merge columns and 'wb_income' and 'net_per_10k_2019' columns when merging to create a new dataframe called `migration_df`. "
      ]
    },
    {
      "cell_type": "code",
      "metadata": {
        "id": "rC2b4eBhi3-v",
        "colab": {
          "base_uri": "https://localhost:8080/"
        },
        "outputId": "bb22dd22-e1a2-4109-aea8-8d55bf3adb13"
      },
      "source": [
        "import pandas as pd\n",
        "skills_df = pd.read_excel(\"https://github.com/futureCodersSE/working-with-data/blob/main/Data%20sets/public_use-talent-migration.xlsx?raw=true\", sheet_name=\"Skill Migration\")\n",
        "industry_df = pd.read_excel(\"https://github.com/futureCodersSE/working-with-data/blob/main/Data%20sets/public_use-talent-migration.xlsx?raw=true\", sheet_name=\"Industry Migration\")\n",
        "\n",
        "def get_combine():\n",
        "  # merge dataframes into variable called migration_df and return it \n",
        " migration_df=pd.merge(skills_df[['country_name','skill_group_name','wb_income',\"net_per_10K_2019\"]],industry_df[['country_name','industry_name','wb_income',\"net_per_10K_2019\"]],left_on=['country_name','skill_group_name'],right_on=['country_name','industry_name'])\n",
        " \n",
        " return migration_df\n",
        "get_combine() \n",
        "migration_df=get_combine()\n",
        "# This will run and test your code to see if your new dataframe is correct length and has correct number of columns \n",
        "\n",
        "actual = len(get_combine())\n",
        "actual2 = len(get_combine().columns)\n",
        "expected = 873 \n",
        "expected2 = 7\n",
        "\n",
        "if actual == expected and actual2 == expected2:\n",
        "   print(\"Test passed\", actual, \"rows\", actual2, \"columns\")\n",
        "else:\n",
        "   print(\"Test failed, expected\", expected, \"rows\", expected2, \"columns but got\", actual, \"rows and\", actual2,\"columns\")\n"
      ],
      "execution_count": 77,
      "outputs": [
        {
          "output_type": "stream",
          "name": "stdout",
          "text": [
            "Test passed 873 rows 7 columns\n"
          ]
        }
      ]
    },
    {
      "cell_type": "code",
      "source": [
        "industry_df"
      ],
      "metadata": {
        "colab": {
          "base_uri": "https://localhost:8080/",
          "height": 676
        },
        "id": "Dyz1VvI57HcH",
        "outputId": "d64cc6f2-550a-4167-8153-5940075e6b74"
      },
      "execution_count": 76,
      "outputs": [
        {
          "output_type": "execute_result",
          "data": {
            "text/plain": [
              "     country_code          country_name    wb_income  \\\n",
              "0              ae  United Arab Emirates  High income   \n",
              "1              ae  United Arab Emirates  High income   \n",
              "2              ae  United Arab Emirates  High income   \n",
              "3              ae  United Arab Emirates  High income   \n",
              "4              ae  United Arab Emirates  High income   \n",
              "...           ...                   ...          ...   \n",
              "5290           zw              Zimbabwe   Low income   \n",
              "5291           zw              Zimbabwe   Low income   \n",
              "5292           zw              Zimbabwe   Low income   \n",
              "5293           zw              Zimbabwe   Low income   \n",
              "5294           zw              Zimbabwe   Low income   \n",
              "\n",
              "                       wb_region isic_section_index  \\\n",
              "0     Middle East & North Africa                  C   \n",
              "1     Middle East & North Africa                  J   \n",
              "2     Middle East & North Africa                  J   \n",
              "3     Middle East & North Africa                  J   \n",
              "4     Middle East & North Africa                  J   \n",
              "...                          ...                ...   \n",
              "5290         Sub-Saharan Africa                   B   \n",
              "5291         Sub-Saharan Africa                   P   \n",
              "5292         Sub-Saharan Africa                   O   \n",
              "5293         Sub-Saharan Africa                   J   \n",
              "5294         Sub-Saharan Africa                   S   \n",
              "\n",
              "                                      isic_section_name  industry_id  \\\n",
              "0                                         Manufacturing            1   \n",
              "1                         Information and communication            3   \n",
              "2                         Information and communication            4   \n",
              "3                         Information and communication            5   \n",
              "4                         Information and communication            6   \n",
              "...                                                 ...          ...   \n",
              "5290                               Mining and quarrying           56   \n",
              "5291                                          Education           68   \n",
              "5292  Public administration and defence; compulsory ...           74   \n",
              "5293                      Information and communication           96   \n",
              "5294                           Other service activities          100   \n",
              "\n",
              "                           industry_name  net_per_10K_2015  net_per_10K_2016  \\\n",
              "0                        Defense & Space            378.74            127.94   \n",
              "1                      Computer Hardware            100.97            358.14   \n",
              "2                      Computer Software           1079.36            848.15   \n",
              "3                    Computer Networking            401.46            447.39   \n",
              "4                               Internet           1840.33           1368.42   \n",
              "...                                  ...               ...               ...   \n",
              "5290                     Mining & Metals            257.36            187.70   \n",
              "5291                    Higher Education            190.84             50.76   \n",
              "5292               International Affairs             25.23            -46.12   \n",
              "5293   Information Technology & Services             46.65             35.93   \n",
              "5294  Non-Profit Organization Management            133.56             88.48   \n",
              "\n",
              "      net_per_10K_2017  net_per_10K_2018  net_per_10K_2019  \n",
              "0                 8.20             68.51             49.55  \n",
              "1               112.98            149.57            182.22  \n",
              "2               596.48            409.18            407.41  \n",
              "3               163.99            236.69            188.07  \n",
              "4               877.71            852.39            519.40  \n",
              "...                ...               ...               ...  \n",
              "5290            -17.45             70.60            -18.30  \n",
              "5291            -68.74           -234.59           -304.36  \n",
              "5292            214.29            311.03            -55.88  \n",
              "5293           -142.64           -108.16           -213.82  \n",
              "5294              6.96            -39.32            -92.51  \n",
              "\n",
              "[5295 rows x 13 columns]"
            ],
            "text/html": [
              "\n",
              "  <div id=\"df-e02aab2b-7e3e-42b9-a4aa-3e24c32922c2\">\n",
              "    <div class=\"colab-df-container\">\n",
              "      <div>\n",
              "<style scoped>\n",
              "    .dataframe tbody tr th:only-of-type {\n",
              "        vertical-align: middle;\n",
              "    }\n",
              "\n",
              "    .dataframe tbody tr th {\n",
              "        vertical-align: top;\n",
              "    }\n",
              "\n",
              "    .dataframe thead th {\n",
              "        text-align: right;\n",
              "    }\n",
              "</style>\n",
              "<table border=\"1\" class=\"dataframe\">\n",
              "  <thead>\n",
              "    <tr style=\"text-align: right;\">\n",
              "      <th></th>\n",
              "      <th>country_code</th>\n",
              "      <th>country_name</th>\n",
              "      <th>wb_income</th>\n",
              "      <th>wb_region</th>\n",
              "      <th>isic_section_index</th>\n",
              "      <th>isic_section_name</th>\n",
              "      <th>industry_id</th>\n",
              "      <th>industry_name</th>\n",
              "      <th>net_per_10K_2015</th>\n",
              "      <th>net_per_10K_2016</th>\n",
              "      <th>net_per_10K_2017</th>\n",
              "      <th>net_per_10K_2018</th>\n",
              "      <th>net_per_10K_2019</th>\n",
              "    </tr>\n",
              "  </thead>\n",
              "  <tbody>\n",
              "    <tr>\n",
              "      <th>0</th>\n",
              "      <td>ae</td>\n",
              "      <td>United Arab Emirates</td>\n",
              "      <td>High income</td>\n",
              "      <td>Middle East &amp; North Africa</td>\n",
              "      <td>C</td>\n",
              "      <td>Manufacturing</td>\n",
              "      <td>1</td>\n",
              "      <td>Defense &amp; Space</td>\n",
              "      <td>378.74</td>\n",
              "      <td>127.94</td>\n",
              "      <td>8.20</td>\n",
              "      <td>68.51</td>\n",
              "      <td>49.55</td>\n",
              "    </tr>\n",
              "    <tr>\n",
              "      <th>1</th>\n",
              "      <td>ae</td>\n",
              "      <td>United Arab Emirates</td>\n",
              "      <td>High income</td>\n",
              "      <td>Middle East &amp; North Africa</td>\n",
              "      <td>J</td>\n",
              "      <td>Information and communication</td>\n",
              "      <td>3</td>\n",
              "      <td>Computer Hardware</td>\n",
              "      <td>100.97</td>\n",
              "      <td>358.14</td>\n",
              "      <td>112.98</td>\n",
              "      <td>149.57</td>\n",
              "      <td>182.22</td>\n",
              "    </tr>\n",
              "    <tr>\n",
              "      <th>2</th>\n",
              "      <td>ae</td>\n",
              "      <td>United Arab Emirates</td>\n",
              "      <td>High income</td>\n",
              "      <td>Middle East &amp; North Africa</td>\n",
              "      <td>J</td>\n",
              "      <td>Information and communication</td>\n",
              "      <td>4</td>\n",
              "      <td>Computer Software</td>\n",
              "      <td>1079.36</td>\n",
              "      <td>848.15</td>\n",
              "      <td>596.48</td>\n",
              "      <td>409.18</td>\n",
              "      <td>407.41</td>\n",
              "    </tr>\n",
              "    <tr>\n",
              "      <th>3</th>\n",
              "      <td>ae</td>\n",
              "      <td>United Arab Emirates</td>\n",
              "      <td>High income</td>\n",
              "      <td>Middle East &amp; North Africa</td>\n",
              "      <td>J</td>\n",
              "      <td>Information and communication</td>\n",
              "      <td>5</td>\n",
              "      <td>Computer Networking</td>\n",
              "      <td>401.46</td>\n",
              "      <td>447.39</td>\n",
              "      <td>163.99</td>\n",
              "      <td>236.69</td>\n",
              "      <td>188.07</td>\n",
              "    </tr>\n",
              "    <tr>\n",
              "      <th>4</th>\n",
              "      <td>ae</td>\n",
              "      <td>United Arab Emirates</td>\n",
              "      <td>High income</td>\n",
              "      <td>Middle East &amp; North Africa</td>\n",
              "      <td>J</td>\n",
              "      <td>Information and communication</td>\n",
              "      <td>6</td>\n",
              "      <td>Internet</td>\n",
              "      <td>1840.33</td>\n",
              "      <td>1368.42</td>\n",
              "      <td>877.71</td>\n",
              "      <td>852.39</td>\n",
              "      <td>519.40</td>\n",
              "    </tr>\n",
              "    <tr>\n",
              "      <th>...</th>\n",
              "      <td>...</td>\n",
              "      <td>...</td>\n",
              "      <td>...</td>\n",
              "      <td>...</td>\n",
              "      <td>...</td>\n",
              "      <td>...</td>\n",
              "      <td>...</td>\n",
              "      <td>...</td>\n",
              "      <td>...</td>\n",
              "      <td>...</td>\n",
              "      <td>...</td>\n",
              "      <td>...</td>\n",
              "      <td>...</td>\n",
              "    </tr>\n",
              "    <tr>\n",
              "      <th>5290</th>\n",
              "      <td>zw</td>\n",
              "      <td>Zimbabwe</td>\n",
              "      <td>Low income</td>\n",
              "      <td>Sub-Saharan Africa</td>\n",
              "      <td>B</td>\n",
              "      <td>Mining and quarrying</td>\n",
              "      <td>56</td>\n",
              "      <td>Mining &amp; Metals</td>\n",
              "      <td>257.36</td>\n",
              "      <td>187.70</td>\n",
              "      <td>-17.45</td>\n",
              "      <td>70.60</td>\n",
              "      <td>-18.30</td>\n",
              "    </tr>\n",
              "    <tr>\n",
              "      <th>5291</th>\n",
              "      <td>zw</td>\n",
              "      <td>Zimbabwe</td>\n",
              "      <td>Low income</td>\n",
              "      <td>Sub-Saharan Africa</td>\n",
              "      <td>P</td>\n",
              "      <td>Education</td>\n",
              "      <td>68</td>\n",
              "      <td>Higher Education</td>\n",
              "      <td>190.84</td>\n",
              "      <td>50.76</td>\n",
              "      <td>-68.74</td>\n",
              "      <td>-234.59</td>\n",
              "      <td>-304.36</td>\n",
              "    </tr>\n",
              "    <tr>\n",
              "      <th>5292</th>\n",
              "      <td>zw</td>\n",
              "      <td>Zimbabwe</td>\n",
              "      <td>Low income</td>\n",
              "      <td>Sub-Saharan Africa</td>\n",
              "      <td>O</td>\n",
              "      <td>Public administration and defence; compulsory ...</td>\n",
              "      <td>74</td>\n",
              "      <td>International Affairs</td>\n",
              "      <td>25.23</td>\n",
              "      <td>-46.12</td>\n",
              "      <td>214.29</td>\n",
              "      <td>311.03</td>\n",
              "      <td>-55.88</td>\n",
              "    </tr>\n",
              "    <tr>\n",
              "      <th>5293</th>\n",
              "      <td>zw</td>\n",
              "      <td>Zimbabwe</td>\n",
              "      <td>Low income</td>\n",
              "      <td>Sub-Saharan Africa</td>\n",
              "      <td>J</td>\n",
              "      <td>Information and communication</td>\n",
              "      <td>96</td>\n",
              "      <td>Information Technology &amp; Services</td>\n",
              "      <td>46.65</td>\n",
              "      <td>35.93</td>\n",
              "      <td>-142.64</td>\n",
              "      <td>-108.16</td>\n",
              "      <td>-213.82</td>\n",
              "    </tr>\n",
              "    <tr>\n",
              "      <th>5294</th>\n",
              "      <td>zw</td>\n",
              "      <td>Zimbabwe</td>\n",
              "      <td>Low income</td>\n",
              "      <td>Sub-Saharan Africa</td>\n",
              "      <td>S</td>\n",
              "      <td>Other service activities</td>\n",
              "      <td>100</td>\n",
              "      <td>Non-Profit Organization Management</td>\n",
              "      <td>133.56</td>\n",
              "      <td>88.48</td>\n",
              "      <td>6.96</td>\n",
              "      <td>-39.32</td>\n",
              "      <td>-92.51</td>\n",
              "    </tr>\n",
              "  </tbody>\n",
              "</table>\n",
              "<p>5295 rows × 13 columns</p>\n",
              "</div>\n",
              "      <button class=\"colab-df-convert\" onclick=\"convertToInteractive('df-e02aab2b-7e3e-42b9-a4aa-3e24c32922c2')\"\n",
              "              title=\"Convert this dataframe to an interactive table.\"\n",
              "              style=\"display:none;\">\n",
              "        \n",
              "  <svg xmlns=\"http://www.w3.org/2000/svg\" height=\"24px\"viewBox=\"0 0 24 24\"\n",
              "       width=\"24px\">\n",
              "    <path d=\"M0 0h24v24H0V0z\" fill=\"none\"/>\n",
              "    <path d=\"M18.56 5.44l.94 2.06.94-2.06 2.06-.94-2.06-.94-.94-2.06-.94 2.06-2.06.94zm-11 1L8.5 8.5l.94-2.06 2.06-.94-2.06-.94L8.5 2.5l-.94 2.06-2.06.94zm10 10l.94 2.06.94-2.06 2.06-.94-2.06-.94-.94-2.06-.94 2.06-2.06.94z\"/><path d=\"M17.41 7.96l-1.37-1.37c-.4-.4-.92-.59-1.43-.59-.52 0-1.04.2-1.43.59L10.3 9.45l-7.72 7.72c-.78.78-.78 2.05 0 2.83L4 21.41c.39.39.9.59 1.41.59.51 0 1.02-.2 1.41-.59l7.78-7.78 2.81-2.81c.8-.78.8-2.07 0-2.86zM5.41 20L4 18.59l7.72-7.72 1.47 1.35L5.41 20z\"/>\n",
              "  </svg>\n",
              "      </button>\n",
              "      \n",
              "  <style>\n",
              "    .colab-df-container {\n",
              "      display:flex;\n",
              "      flex-wrap:wrap;\n",
              "      gap: 12px;\n",
              "    }\n",
              "\n",
              "    .colab-df-convert {\n",
              "      background-color: #E8F0FE;\n",
              "      border: none;\n",
              "      border-radius: 50%;\n",
              "      cursor: pointer;\n",
              "      display: none;\n",
              "      fill: #1967D2;\n",
              "      height: 32px;\n",
              "      padding: 0 0 0 0;\n",
              "      width: 32px;\n",
              "    }\n",
              "\n",
              "    .colab-df-convert:hover {\n",
              "      background-color: #E2EBFA;\n",
              "      box-shadow: 0px 1px 2px rgba(60, 64, 67, 0.3), 0px 1px 3px 1px rgba(60, 64, 67, 0.15);\n",
              "      fill: #174EA6;\n",
              "    }\n",
              "\n",
              "    [theme=dark] .colab-df-convert {\n",
              "      background-color: #3B4455;\n",
              "      fill: #D2E3FC;\n",
              "    }\n",
              "\n",
              "    [theme=dark] .colab-df-convert:hover {\n",
              "      background-color: #434B5C;\n",
              "      box-shadow: 0px 1px 3px 1px rgba(0, 0, 0, 0.15);\n",
              "      filter: drop-shadow(0px 1px 2px rgba(0, 0, 0, 0.3));\n",
              "      fill: #FFFFFF;\n",
              "    }\n",
              "  </style>\n",
              "\n",
              "      <script>\n",
              "        const buttonEl =\n",
              "          document.querySelector('#df-e02aab2b-7e3e-42b9-a4aa-3e24c32922c2 button.colab-df-convert');\n",
              "        buttonEl.style.display =\n",
              "          google.colab.kernel.accessAllowed ? 'block' : 'none';\n",
              "\n",
              "        async function convertToInteractive(key) {\n",
              "          const element = document.querySelector('#df-e02aab2b-7e3e-42b9-a4aa-3e24c32922c2');\n",
              "          const dataTable =\n",
              "            await google.colab.kernel.invokeFunction('convertToInteractive',\n",
              "                                                     [key], {});\n",
              "          if (!dataTable) return;\n",
              "\n",
              "          const docLinkHtml = 'Like what you see? Visit the ' +\n",
              "            '<a target=\"_blank\" href=https://colab.research.google.com/notebooks/data_table.ipynb>data table notebook</a>'\n",
              "            + ' to learn more about interactive tables.';\n",
              "          element.innerHTML = '';\n",
              "          dataTable['output_type'] = 'display_data';\n",
              "          await google.colab.output.renderOutput(dataTable, element);\n",
              "          const docLink = document.createElement('div');\n",
              "          docLink.innerHTML = docLinkHtml;\n",
              "          element.appendChild(docLink);\n",
              "        }\n",
              "      </script>\n",
              "    </div>\n",
              "  </div>\n",
              "  "
            ]
          },
          "metadata": {},
          "execution_count": 76
        }
      ]
    },
    {
      "cell_type": "markdown",
      "metadata": {
        "id": "wZOHWyPOHkmy"
      },
      "source": [
        "### Exercise 8 - pivot table of state and population \n",
        "---\n",
        "\n",
        "Write a function called **create_pivot** which will:\n",
        "\n",
        "Create a pivot table of `Pop` by `State` and store the result in a new dataframe called **population_pivot**  using `income_df_v3` created in exercise 6\n",
        "\n",
        "To make a pivot table:\n",
        "\n",
        "`df_pivot = pd.pivot_table(\n",
        "      df, \n",
        "      values = 'column1 name',\n",
        "      index = 'column2 name', \n",
        "      columns = 'column3 name',\n",
        "      aggfunc = np.mean\n",
        ")`  \n",
        "If index column is not specified, it will automatically use the existing dataframe index   \n",
        "Make sure to `import numpy as np` if you want to aggregate the means using `aggfunc`. \n",
        "\n",
        "**Test Input**  \n",
        "population_pivot.shape   \n",
        "**Test Output**  \n",
        "(1, 5)\n",
        "\n",
        "\n"
      ]
    },
    {
      "cell_type": "code",
      "metadata": {
        "id": "3ZC9EuabJIGi",
        "colab": {
          "base_uri": "https://localhost:8080/"
        },
        "outputId": "bb53b2cb-1ea6-4a3d-b0d4-045a3fdd0f66"
      },
      "source": [
        "import pandas as pd\n",
        "import numpy as np\n",
        "state_level_df = pd.read_excel(\"https://github.com/futureCodersSE/working-with-data/blob/main/Data%20sets/Income-Data.xlsx?raw=true\", sheet_name = 'state-level')\n",
        "def create_pivot(df):\n",
        "  #add code below which creates a pivot table of Pop and State \n",
        "  Pop=pd.concat([county_level_df_v2,state_level_df_v2],ignore_index=True,join='inner' )\n",
        "  df_pivot=pd.pivot_table(Pop,values='Pop',index='State',aggfunc=np.mean)\n",
        "  return df_pivot\n",
        "\n",
        "\n",
        "\n",
        "#save series in a new variable\n",
        "population_pivot = create_pivot(income_df_v3)\n",
        "\n",
        "\n",
        "# This will run and test your code to see if your new series is the correct length\n",
        "actual = len(population_pivot)\n",
        "expected = 5 \n",
        "\n",
        "if actual == expected:\n",
        "  print(\"Test passed\", actual)\n",
        "else:\n",
        "  print(\"Test failed expected\", expected, \"got\", actual)"
      ],
      "execution_count": 55,
      "outputs": [
        {
          "output_type": "stream",
          "name": "stdout",
          "text": [
            "Test passed 5\n"
          ]
        }
      ]
    },
    {
      "cell_type": "markdown",
      "metadata": {
        "id": "yQyytEbnZ1lw"
      },
      "source": [
        "# Reflection\n",
        "----\n",
        "\n",
        "## What skills have you demonstrated in completing this notebook?"
      ]
    },
    {
      "cell_type": "markdown",
      "metadata": {
        "id": "MM00hR5aZk1-"
      },
      "source": [
        "Your answer: I gained Knowledge about Data merging with single and multiple columns using left on and right on.Also learned how to append data into a new dataframe by creating or modifying the exisisting column. "
      ]
    },
    {
      "cell_type": "markdown",
      "metadata": {
        "id": "Zgexd27sZ1ly"
      },
      "source": [
        "## What caused you the most difficulty?"
      ]
    },
    {
      "cell_type": "markdown",
      "metadata": {
        "id": "-Y_nrVBwaGXr"
      },
      "source": [
        "Your answer: In exercise 7 ,column names are not clearly defined to perform merge operation.Lila helped me in this to solve the issue."
      ]
    }
  ]
}