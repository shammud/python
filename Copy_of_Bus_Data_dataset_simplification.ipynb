{
  "nbformat": 4,
  "nbformat_minor": 0,
  "metadata": {
    "colab": {
      "provenance": [],
      "collapsed_sections": [],
      "include_colab_link": true
    },
    "kernelspec": {
      "name": "python3",
      "display_name": "Python 3"
    },
    "language_info": {
      "name": "python"
    }
  },
  "cells": [
    {
      "cell_type": "markdown",
      "metadata": {
        "id": "view-in-github",
        "colab_type": "text"
      },
      "source": [
        "<a href=\"https://colab.research.google.com/github/shammud/python/blob/main/Copy_of_Bus_Data_dataset_simplification.ipynb\" target=\"_parent\"><img src=\"https://colab.research.google.com/assets/colab-badge.svg\" alt=\"Open In Colab\"/></a>"
      ]
    },
    {
      "cell_type": "markdown",
      "source": [
        "# Creating a simplified dataset\n",
        "----\n"
      ],
      "metadata": {
        "id": "IEP-Rt7W8Ckk"
      }
    },
    {
      "cell_type": "markdown",
      "source": [
        "### Introduction\n",
        "---\n",
        "As the data refreshes every 10 seconds, in order to get a complete overview of bus emissions in the AQMA, it is necessary to pull the data every few minutes. The result however is many many JSON files. \n",
        "\n",
        "In order to analyse the data, we need to simplify the data by creating a large  dataset which only contains the information we really need. \n",
        "\n",
        "To do this:\n",
        "* find all the individual filenames\n",
        "* read all the files into dataframes\n",
        "* create a list of dataframes\n",
        "* concatenate the dataframes to create 1 big dataframe\n",
        "* remove unnecessary columns \n",
        "* remove duplicate rows\n",
        "* remove all rows which are not Euro III buses \n",
        "* remove all rows which are not in the AQMA Rainham boundary (listed in the presentation)\n"
      ],
      "metadata": {
        "id": "urv17hCb8KEu"
      }
    },
    {
      "cell_type": "markdown",
      "source": [
        "### Finding the filenames\n",
        "---\n",
        "Due to all the data files having long names, we don't know the exact filenames.\n",
        "Run the code cell below to generate a list of the filenames in the data folder.\n",
        " "
      ],
      "metadata": {
        "id": "ppB5NEwmhJnh"
      }
    },
    {
      "cell_type": "code",
      "source": [
        "import os\n",
        "import pandas as pd\n",
        "import json \n",
        "from google.colab import drive\n",
        "\n",
        "def mount_drive():\n",
        "  drive.mount('/content/drive', force_remount=True)\n",
        "  project_dir = \"/content/drive/MyDrive/OneHourOfData\"\n",
        "  return project_dir\n",
        "\n",
        "def unmount_drive():\n",
        "  drive.flush_and_unmount()\n",
        "  print('Drive Unmounted')\n",
        "\n",
        "def get_file_names(project_dir):\n",
        "  path = os.path.join(os.getcwd(),project_dir)\n",
        "  filenames = [os.path.join(path,i) for i in os.listdir(path) if os.path.isfile(os.path.join(path,i))]\n",
        "  return filenames\n",
        "\n",
        "\n",
        "project_dir = mount_drive()\n",
        "\n",
        "filenames = get_file_names(project_dir)\n",
        "filenames = filenames[:6]\n",
        "\n"
      ],
      "metadata": {
        "colab": {
          "base_uri": "https://localhost:8080/"
        },
        "id": "o3t9KX-ChaAe",
        "outputId": "7f203370-fef8-4f31-b0b8-6a2830feed6f"
      },
      "execution_count": null,
      "outputs": [
        {
          "output_type": "stream",
          "name": "stdout",
          "text": [
            "Mounted at /content/drive\n"
          ]
        }
      ]
    },
    {
      "cell_type": "markdown",
      "source": [
        "### Task 1 \n",
        "---\n",
        "\n",
        "Create a dataframe from the first json file in the `filenames` list. \n",
        "\n",
        "*(hint: use pd.read_json())*"
      ],
      "metadata": {
        "id": "PIynWFZQhGA8"
      }
    },
    {
      "cell_type": "code",
      "execution_count": null,
      "metadata": {
        "id": "G--ZbH1B77dl",
        "colab": {
          "base_uri": "https://localhost:8080/",
          "height": 424
        },
        "outputId": "83459b67-2563-4de1-f60b-24c4ef4c0bcd"
      },
      "outputs": [
        {
          "output_type": "display_data",
          "data": {
            "text/plain": [
              "                RecordedAtTime                        ItemIdentifier  \\\n",
              "0    2022-09-07T07:07:19+00:00  467dce63-7573-45d9-8713-7337ed464c80   \n",
              "1    2022-09-07T07:07:24+00:00  14f33ea4-9c31-4d9a-bfbd-daf3577a3e0d   \n",
              "2    2022-09-07T07:07:07+00:00  67470c05-e1c5-4178-89cc-075f0036c562   \n",
              "3    2022-09-07T07:07:21+00:00  40333a3d-7fc0-4f01-95fb-370b9832197b   \n",
              "4    2022-09-07T07:07:24+00:00  2ed7b0ad-8703-4e98-b52d-7e7a81e14ee1   \n",
              "..                         ...                                   ...   \n",
              "127  2022-09-07T07:07:25+00:00  f7b4f1d7-5e64-4f33-964a-a869c0484a73   \n",
              "128  2022-09-07T07:07:10+00:00  097ce015-bdc4-400c-a187-ca8ceecb81de   \n",
              "129  2022-09-07T07:07:02+00:00  b8510fe3-2dda-429d-8491-70bd8befbdf3   \n",
              "130  2022-09-07T06:59:46+00:00  2c1e5b91-affd-48da-9529-607f15e037f6   \n",
              "131  2022-09-07T07:07:11+00:00  70e28b94-2482-4a39-ae0a-d560f9f8b74d   \n",
              "\n",
              "                 ValidUntilTime  \\\n",
              "0    2022-09-07T07:12:41.884566   \n",
              "1    2022-09-07T07:12:41.884913   \n",
              "2    2022-09-07T07:12:41.885080   \n",
              "3    2022-09-07T07:12:41.885228   \n",
              "4    2022-09-07T07:12:41.885371   \n",
              "..                          ...   \n",
              "127  2022-09-07T07:12:41.911914   \n",
              "128  2022-09-07T07:12:41.912053   \n",
              "129  2022-09-07T07:12:41.912193   \n",
              "130  2022-09-07T07:12:41.912331   \n",
              "131  2022-09-07T07:12:41.912466   \n",
              "\n",
              "                               MonitoredVehicleJourney  \\\n",
              "0    {'LineRef': '7', 'DirectionRef': 'inbound', 'F...   \n",
              "1    {'LineRef': '1', 'DirectionRef': 'outbound', '...   \n",
              "2    {'LineRef': '132', 'DirectionRef': 'outbound',...   \n",
              "3    {'LineRef': '190', 'DirectionRef': 'inbound', ...   \n",
              "4    {'LineRef': '101', 'DirectionRef': 'outbound',...   \n",
              "..                                                 ...   \n",
              "127  {'LineRef': '166', 'DirectionRef': 'inbound', ...   \n",
              "128  {'LineRef': '140', 'DirectionRef': 'outbound',...   \n",
              "129  {'LineRef': '155', 'DirectionRef': 'inbound', ...   \n",
              "130  {'LineRef': '692', 'DirectionRef': 'inbound', ...   \n",
              "131  {'LineRef': '653', 'DirectionRef': 'outbound',...   \n",
              "\n",
              "                                            Extensions  \n",
              "0    {'VehicleJourney': {'Operational': {'TicketMac...  \n",
              "1    {'VehicleJourney': {'Operational': {'TicketMac...  \n",
              "2    {'VehicleJourney': {'Operational': {'TicketMac...  \n",
              "3    {'VehicleJourney': {'Operational': {'TicketMac...  \n",
              "4    {'VehicleJourney': {'Operational': {'TicketMac...  \n",
              "..                                                 ...  \n",
              "127  {'VehicleJourney': {'Operational': {'TicketMac...  \n",
              "128  {'VehicleJourney': {'Operational': {'TicketMac...  \n",
              "129  {'VehicleJourney': {'Operational': {'TicketMac...  \n",
              "130  {'VehicleJourney': {'Operational': {'TicketMac...  \n",
              "131  {'VehicleJourney': {'Operational': {'TicketMac...  \n",
              "\n",
              "[132 rows x 5 columns]"
            ],
            "text/html": [
              "\n",
              "  <div id=\"df-83b1a811-ab74-4b64-a72b-35e3643978c0\">\n",
              "    <div class=\"colab-df-container\">\n",
              "      <div>\n",
              "<style scoped>\n",
              "    .dataframe tbody tr th:only-of-type {\n",
              "        vertical-align: middle;\n",
              "    }\n",
              "\n",
              "    .dataframe tbody tr th {\n",
              "        vertical-align: top;\n",
              "    }\n",
              "\n",
              "    .dataframe thead th {\n",
              "        text-align: right;\n",
              "    }\n",
              "</style>\n",
              "<table border=\"1\" class=\"dataframe\">\n",
              "  <thead>\n",
              "    <tr style=\"text-align: right;\">\n",
              "      <th></th>\n",
              "      <th>RecordedAtTime</th>\n",
              "      <th>ItemIdentifier</th>\n",
              "      <th>ValidUntilTime</th>\n",
              "      <th>MonitoredVehicleJourney</th>\n",
              "      <th>Extensions</th>\n",
              "    </tr>\n",
              "  </thead>\n",
              "  <tbody>\n",
              "    <tr>\n",
              "      <th>0</th>\n",
              "      <td>2022-09-07T07:07:19+00:00</td>\n",
              "      <td>467dce63-7573-45d9-8713-7337ed464c80</td>\n",
              "      <td>2022-09-07T07:12:41.884566</td>\n",
              "      <td>{'LineRef': '7', 'DirectionRef': 'inbound', 'F...</td>\n",
              "      <td>{'VehicleJourney': {'Operational': {'TicketMac...</td>\n",
              "    </tr>\n",
              "    <tr>\n",
              "      <th>1</th>\n",
              "      <td>2022-09-07T07:07:24+00:00</td>\n",
              "      <td>14f33ea4-9c31-4d9a-bfbd-daf3577a3e0d</td>\n",
              "      <td>2022-09-07T07:12:41.884913</td>\n",
              "      <td>{'LineRef': '1', 'DirectionRef': 'outbound', '...</td>\n",
              "      <td>{'VehicleJourney': {'Operational': {'TicketMac...</td>\n",
              "    </tr>\n",
              "    <tr>\n",
              "      <th>2</th>\n",
              "      <td>2022-09-07T07:07:07+00:00</td>\n",
              "      <td>67470c05-e1c5-4178-89cc-075f0036c562</td>\n",
              "      <td>2022-09-07T07:12:41.885080</td>\n",
              "      <td>{'LineRef': '132', 'DirectionRef': 'outbound',...</td>\n",
              "      <td>{'VehicleJourney': {'Operational': {'TicketMac...</td>\n",
              "    </tr>\n",
              "    <tr>\n",
              "      <th>3</th>\n",
              "      <td>2022-09-07T07:07:21+00:00</td>\n",
              "      <td>40333a3d-7fc0-4f01-95fb-370b9832197b</td>\n",
              "      <td>2022-09-07T07:12:41.885228</td>\n",
              "      <td>{'LineRef': '190', 'DirectionRef': 'inbound', ...</td>\n",
              "      <td>{'VehicleJourney': {'Operational': {'TicketMac...</td>\n",
              "    </tr>\n",
              "    <tr>\n",
              "      <th>4</th>\n",
              "      <td>2022-09-07T07:07:24+00:00</td>\n",
              "      <td>2ed7b0ad-8703-4e98-b52d-7e7a81e14ee1</td>\n",
              "      <td>2022-09-07T07:12:41.885371</td>\n",
              "      <td>{'LineRef': '101', 'DirectionRef': 'outbound',...</td>\n",
              "      <td>{'VehicleJourney': {'Operational': {'TicketMac...</td>\n",
              "    </tr>\n",
              "    <tr>\n",
              "      <th>...</th>\n",
              "      <td>...</td>\n",
              "      <td>...</td>\n",
              "      <td>...</td>\n",
              "      <td>...</td>\n",
              "      <td>...</td>\n",
              "    </tr>\n",
              "    <tr>\n",
              "      <th>127</th>\n",
              "      <td>2022-09-07T07:07:25+00:00</td>\n",
              "      <td>f7b4f1d7-5e64-4f33-964a-a869c0484a73</td>\n",
              "      <td>2022-09-07T07:12:41.911914</td>\n",
              "      <td>{'LineRef': '166', 'DirectionRef': 'inbound', ...</td>\n",
              "      <td>{'VehicleJourney': {'Operational': {'TicketMac...</td>\n",
              "    </tr>\n",
              "    <tr>\n",
              "      <th>128</th>\n",
              "      <td>2022-09-07T07:07:10+00:00</td>\n",
              "      <td>097ce015-bdc4-400c-a187-ca8ceecb81de</td>\n",
              "      <td>2022-09-07T07:12:41.912053</td>\n",
              "      <td>{'LineRef': '140', 'DirectionRef': 'outbound',...</td>\n",
              "      <td>{'VehicleJourney': {'Operational': {'TicketMac...</td>\n",
              "    </tr>\n",
              "    <tr>\n",
              "      <th>129</th>\n",
              "      <td>2022-09-07T07:07:02+00:00</td>\n",
              "      <td>b8510fe3-2dda-429d-8491-70bd8befbdf3</td>\n",
              "      <td>2022-09-07T07:12:41.912193</td>\n",
              "      <td>{'LineRef': '155', 'DirectionRef': 'inbound', ...</td>\n",
              "      <td>{'VehicleJourney': {'Operational': {'TicketMac...</td>\n",
              "    </tr>\n",
              "    <tr>\n",
              "      <th>130</th>\n",
              "      <td>2022-09-07T06:59:46+00:00</td>\n",
              "      <td>2c1e5b91-affd-48da-9529-607f15e037f6</td>\n",
              "      <td>2022-09-07T07:12:41.912331</td>\n",
              "      <td>{'LineRef': '692', 'DirectionRef': 'inbound', ...</td>\n",
              "      <td>{'VehicleJourney': {'Operational': {'TicketMac...</td>\n",
              "    </tr>\n",
              "    <tr>\n",
              "      <th>131</th>\n",
              "      <td>2022-09-07T07:07:11+00:00</td>\n",
              "      <td>70e28b94-2482-4a39-ae0a-d560f9f8b74d</td>\n",
              "      <td>2022-09-07T07:12:41.912466</td>\n",
              "      <td>{'LineRef': '653', 'DirectionRef': 'outbound',...</td>\n",
              "      <td>{'VehicleJourney': {'Operational': {'TicketMac...</td>\n",
              "    </tr>\n",
              "  </tbody>\n",
              "</table>\n",
              "<p>132 rows × 5 columns</p>\n",
              "</div>\n",
              "      <button class=\"colab-df-convert\" onclick=\"convertToInteractive('df-83b1a811-ab74-4b64-a72b-35e3643978c0')\"\n",
              "              title=\"Convert this dataframe to an interactive table.\"\n",
              "              style=\"display:none;\">\n",
              "        \n",
              "  <svg xmlns=\"http://www.w3.org/2000/svg\" height=\"24px\"viewBox=\"0 0 24 24\"\n",
              "       width=\"24px\">\n",
              "    <path d=\"M0 0h24v24H0V0z\" fill=\"none\"/>\n",
              "    <path d=\"M18.56 5.44l.94 2.06.94-2.06 2.06-.94-2.06-.94-.94-2.06-.94 2.06-2.06.94zm-11 1L8.5 8.5l.94-2.06 2.06-.94-2.06-.94L8.5 2.5l-.94 2.06-2.06.94zm10 10l.94 2.06.94-2.06 2.06-.94-2.06-.94-.94-2.06-.94 2.06-2.06.94z\"/><path d=\"M17.41 7.96l-1.37-1.37c-.4-.4-.92-.59-1.43-.59-.52 0-1.04.2-1.43.59L10.3 9.45l-7.72 7.72c-.78.78-.78 2.05 0 2.83L4 21.41c.39.39.9.59 1.41.59.51 0 1.02-.2 1.41-.59l7.78-7.78 2.81-2.81c.8-.78.8-2.07 0-2.86zM5.41 20L4 18.59l7.72-7.72 1.47 1.35L5.41 20z\"/>\n",
              "  </svg>\n",
              "      </button>\n",
              "      \n",
              "  <style>\n",
              "    .colab-df-container {\n",
              "      display:flex;\n",
              "      flex-wrap:wrap;\n",
              "      gap: 12px;\n",
              "    }\n",
              "\n",
              "    .colab-df-convert {\n",
              "      background-color: #E8F0FE;\n",
              "      border: none;\n",
              "      border-radius: 50%;\n",
              "      cursor: pointer;\n",
              "      display: none;\n",
              "      fill: #1967D2;\n",
              "      height: 32px;\n",
              "      padding: 0 0 0 0;\n",
              "      width: 32px;\n",
              "    }\n",
              "\n",
              "    .colab-df-convert:hover {\n",
              "      background-color: #E2EBFA;\n",
              "      box-shadow: 0px 1px 2px rgba(60, 64, 67, 0.3), 0px 1px 3px 1px rgba(60, 64, 67, 0.15);\n",
              "      fill: #174EA6;\n",
              "    }\n",
              "\n",
              "    [theme=dark] .colab-df-convert {\n",
              "      background-color: #3B4455;\n",
              "      fill: #D2E3FC;\n",
              "    }\n",
              "\n",
              "    [theme=dark] .colab-df-convert:hover {\n",
              "      background-color: #434B5C;\n",
              "      box-shadow: 0px 1px 3px 1px rgba(0, 0, 0, 0.15);\n",
              "      filter: drop-shadow(0px 1px 2px rgba(0, 0, 0, 0.3));\n",
              "      fill: #FFFFFF;\n",
              "    }\n",
              "  </style>\n",
              "\n",
              "      <script>\n",
              "        const buttonEl =\n",
              "          document.querySelector('#df-83b1a811-ab74-4b64-a72b-35e3643978c0 button.colab-df-convert');\n",
              "        buttonEl.style.display =\n",
              "          google.colab.kernel.accessAllowed ? 'block' : 'none';\n",
              "\n",
              "        async function convertToInteractive(key) {\n",
              "          const element = document.querySelector('#df-83b1a811-ab74-4b64-a72b-35e3643978c0');\n",
              "          const dataTable =\n",
              "            await google.colab.kernel.invokeFunction('convertToInteractive',\n",
              "                                                     [key], {});\n",
              "          if (!dataTable) return;\n",
              "\n",
              "          const docLinkHtml = 'Like what you see? Visit the ' +\n",
              "            '<a target=\"_blank\" href=https://colab.research.google.com/notebooks/data_table.ipynb>data table notebook</a>'\n",
              "            + ' to learn more about interactive tables.';\n",
              "          element.innerHTML = '';\n",
              "          dataTable['output_type'] = 'display_data';\n",
              "          await google.colab.output.renderOutput(dataTable, element);\n",
              "          const docLink = document.createElement('div');\n",
              "          docLink.innerHTML = docLinkHtml;\n",
              "          element.appendChild(docLink);\n",
              "        }\n",
              "      </script>\n",
              "    </div>\n",
              "  </div>\n",
              "  "
            ]
          },
          "metadata": {}
        }
      ],
      "source": [
        "import pandas as pd\n",
        "\n",
        "df=pd.read_json(filenames[0])\n",
        "display (df)"
      ]
    },
    {
      "cell_type": "markdown",
      "source": [
        "### Task 2\n",
        "---\n",
        "Create a list of dataframes called `df_list` from all the filenames in the `filenames` list\n",
        "\n",
        "*hint: you will need to use a for loop*"
      ],
      "metadata": {
        "id": "0pieG4mRydAz"
      }
    },
    {
      "cell_type": "code",
      "source": [
        "def create_list_dataframe():\n",
        "\n",
        "  df_list=[]\n",
        "  for filename in filenames:\n",
        "    if filename != df_list:\n",
        "      df=pd.read_json(filename)\n",
        "      df_list.append(df)\n",
        "  return df_list    \n",
        "\n",
        "create_list_dataframe()  \n",
        "\n",
        "\n"
      ],
      "metadata": {
        "id": "ldB8lDjvyukZ",
        "colab": {
          "base_uri": "https://localhost:8080/"
        },
        "outputId": "6c5414a2-262a-4509-b1f5-b30ef47380c5"
      },
      "execution_count": null,
      "outputs": [
        {
          "output_type": "execute_result",
          "data": {
            "text/plain": [
              "[                RecordedAtTime                        ItemIdentifier  \\\n",
              " 0    2022-09-07T07:07:19+00:00  467dce63-7573-45d9-8713-7337ed464c80   \n",
              " 1    2022-09-07T07:07:24+00:00  14f33ea4-9c31-4d9a-bfbd-daf3577a3e0d   \n",
              " 2    2022-09-07T07:07:07+00:00  67470c05-e1c5-4178-89cc-075f0036c562   \n",
              " 3    2022-09-07T07:07:21+00:00  40333a3d-7fc0-4f01-95fb-370b9832197b   \n",
              " 4    2022-09-07T07:07:24+00:00  2ed7b0ad-8703-4e98-b52d-7e7a81e14ee1   \n",
              " ..                         ...                                   ...   \n",
              " 127  2022-09-07T07:07:25+00:00  f7b4f1d7-5e64-4f33-964a-a869c0484a73   \n",
              " 128  2022-09-07T07:07:10+00:00  097ce015-bdc4-400c-a187-ca8ceecb81de   \n",
              " 129  2022-09-07T07:07:02+00:00  b8510fe3-2dda-429d-8491-70bd8befbdf3   \n",
              " 130  2022-09-07T06:59:46+00:00  2c1e5b91-affd-48da-9529-607f15e037f6   \n",
              " 131  2022-09-07T07:07:11+00:00  70e28b94-2482-4a39-ae0a-d560f9f8b74d   \n",
              " \n",
              "                  ValidUntilTime  \\\n",
              " 0    2022-09-07T07:12:41.884566   \n",
              " 1    2022-09-07T07:12:41.884913   \n",
              " 2    2022-09-07T07:12:41.885080   \n",
              " 3    2022-09-07T07:12:41.885228   \n",
              " 4    2022-09-07T07:12:41.885371   \n",
              " ..                          ...   \n",
              " 127  2022-09-07T07:12:41.911914   \n",
              " 128  2022-09-07T07:12:41.912053   \n",
              " 129  2022-09-07T07:12:41.912193   \n",
              " 130  2022-09-07T07:12:41.912331   \n",
              " 131  2022-09-07T07:12:41.912466   \n",
              " \n",
              "                                MonitoredVehicleJourney  \\\n",
              " 0    {'LineRef': '7', 'DirectionRef': 'inbound', 'F...   \n",
              " 1    {'LineRef': '1', 'DirectionRef': 'outbound', '...   \n",
              " 2    {'LineRef': '132', 'DirectionRef': 'outbound',...   \n",
              " 3    {'LineRef': '190', 'DirectionRef': 'inbound', ...   \n",
              " 4    {'LineRef': '101', 'DirectionRef': 'outbound',...   \n",
              " ..                                                 ...   \n",
              " 127  {'LineRef': '166', 'DirectionRef': 'inbound', ...   \n",
              " 128  {'LineRef': '140', 'DirectionRef': 'outbound',...   \n",
              " 129  {'LineRef': '155', 'DirectionRef': 'inbound', ...   \n",
              " 130  {'LineRef': '692', 'DirectionRef': 'inbound', ...   \n",
              " 131  {'LineRef': '653', 'DirectionRef': 'outbound',...   \n",
              " \n",
              "                                             Extensions  \n",
              " 0    {'VehicleJourney': {'Operational': {'TicketMac...  \n",
              " 1    {'VehicleJourney': {'Operational': {'TicketMac...  \n",
              " 2    {'VehicleJourney': {'Operational': {'TicketMac...  \n",
              " 3    {'VehicleJourney': {'Operational': {'TicketMac...  \n",
              " 4    {'VehicleJourney': {'Operational': {'TicketMac...  \n",
              " ..                                                 ...  \n",
              " 127  {'VehicleJourney': {'Operational': {'TicketMac...  \n",
              " 128  {'VehicleJourney': {'Operational': {'TicketMac...  \n",
              " 129  {'VehicleJourney': {'Operational': {'TicketMac...  \n",
              " 130  {'VehicleJourney': {'Operational': {'TicketMac...  \n",
              " 131  {'VehicleJourney': {'Operational': {'TicketMac...  \n",
              " \n",
              " [132 rows x 5 columns],\n",
              "                 RecordedAtTime                        ItemIdentifier  \\\n",
              " 0    2022-09-07T07:12:10+00:00  e2ee606d-0e59-4d10-a821-80d4490f6070   \n",
              " 1    2022-09-07T07:12:11+00:00  1d054a8c-4d50-4765-b599-c249bd684507   \n",
              " 2    2022-09-07T07:12:23+00:00  0c5ff118-bd13-4fff-aa86-27a18f2a9336   \n",
              " 3    2022-09-07T07:12:10+00:00  d0986160-f115-4496-a94f-9143199c1fb1   \n",
              " 4    2022-09-06T17:28:05+00:00  0225d9a4-4a92-408e-bdfd-5ab16809fe6e   \n",
              " ..                         ...                                   ...   \n",
              " 124  2022-09-07T07:12:30+00:00  f8a47b59-24a8-4841-8fc8-43a1c6781728   \n",
              " 125  2022-09-07T07:12:05+00:00  e4faa46f-0bd3-4752-8b87-33797ba2cfac   \n",
              " 126  2022-09-07T06:59:46+00:00  9c4f63aa-bb9c-4e4f-b56e-9cd3cf1ea0e0   \n",
              " 127  2022-09-07T07:12:10+00:00  1178974b-215d-44fb-9e0c-df2f814650f7   \n",
              " 128  2022-09-07T07:12:23+00:00  871b13eb-1e28-4f51-94ee-28e2e3440beb   \n",
              " \n",
              "                  ValidUntilTime  \\\n",
              " 0    2022-09-07T07:17:42.708906   \n",
              " 1    2022-09-07T07:17:42.709302   \n",
              " 2    2022-09-07T07:17:42.709497   \n",
              " 3    2022-09-07T07:17:42.709670   \n",
              " 4    2022-09-07T07:17:42.709837   \n",
              " ..                          ...   \n",
              " 124  2022-09-07T07:17:42.738038   \n",
              " 125  2022-09-07T07:17:42.738211   \n",
              " 126  2022-09-07T07:17:42.738381   \n",
              " 127  2022-09-07T07:17:42.738541   \n",
              " 128  2022-09-07T07:17:42.738702   \n",
              " \n",
              "                                MonitoredVehicleJourney  \\\n",
              " 0    {'LineRef': '85', 'DirectionRef': 'inbound', '...   \n",
              " 1    {'LineRef': '5', 'DirectionRef': 'inbound', 'F...   \n",
              " 2    {'LineRef': '132', 'DirectionRef': 'outbound',...   \n",
              " 3    {'LineRef': '12', 'DirectionRef': 'inbound', '...   \n",
              " 4    {'LineRef': '176', 'DirectionRef': 'inbound', ...   \n",
              " ..                                                 ...   \n",
              " 124  {'LineRef': '155', 'DirectionRef': 'inbound', ...   \n",
              " 125  {'LineRef': '140', 'DirectionRef': 'outbound',...   \n",
              " 126  {'LineRef': '692', 'DirectionRef': 'inbound', ...   \n",
              " 127  {'LineRef': '653', 'DirectionRef': 'outbound',...   \n",
              " 128  {'LineRef': '9', 'DirectionRef': 'inbound', 'F...   \n",
              " \n",
              "                                             Extensions  \n",
              " 0    {'VehicleJourney': {'Operational': {'TicketMac...  \n",
              " 1    {'VehicleJourney': {'Operational': {'TicketMac...  \n",
              " 2    {'VehicleJourney': {'Operational': {'TicketMac...  \n",
              " 3    {'VehicleJourney': {'Operational': {'TicketMac...  \n",
              " 4    {'VehicleJourney': {'Operational': {'TicketMac...  \n",
              " ..                                                 ...  \n",
              " 124  {'VehicleJourney': {'Operational': {'TicketMac...  \n",
              " 125  {'VehicleJourney': {'Operational': {'TicketMac...  \n",
              " 126  {'VehicleJourney': {'Operational': {'TicketMac...  \n",
              " 127  {'VehicleJourney': {'Operational': {'TicketMac...  \n",
              " 128  {'VehicleJourney': {'Operational': {'TicketMac...  \n",
              " \n",
              " [129 rows x 5 columns],\n",
              "                 RecordedAtTime                        ItemIdentifier  \\\n",
              " 0    2022-09-07T07:17:22+00:00  c7f007a5-bc6e-4a55-adca-c65cd15bcdb3   \n",
              " 1    2022-09-07T07:17:10+00:00  83e9ff92-a3bb-4fde-9160-51ec01411c2f   \n",
              " 2    2022-09-07T07:17:12+00:00  7df10032-4640-4c46-b73e-b9f6d2bdc163   \n",
              " 3    2022-09-07T07:17:31+00:00  d1afd6b9-1e1e-410d-950e-18d0d062ec1e   \n",
              " 4    2022-09-06T17:28:05+00:00  e8577c86-41f4-4a48-97c7-1a05428e2dee   \n",
              " ..                         ...                                   ...   \n",
              " 133  2022-09-07T07:17:33+00:00  18ddce19-6baf-40bb-a4b0-8daca22a1b0f   \n",
              " 134  2022-09-07T07:17:27+00:00  1efc1bcf-ba73-4928-9e09-a7a1fb64113d   \n",
              " 135  2022-09-07T06:59:46+00:00  b61f5f2f-fbc2-406c-bf5d-0ca4658a194a   \n",
              " 136  2022-09-07T07:14:58+00:00  61a7486f-cbf4-4e61-94d0-337bc823c49d   \n",
              " 137  2022-09-07T07:17:26+00:00  42484f85-a3d9-4321-b642-f1407e6d5fe4   \n",
              " \n",
              "                  ValidUntilTime  \\\n",
              " 0    2022-09-07T07:22:43.227532   \n",
              " 1    2022-09-07T07:22:43.227924   \n",
              " 2    2022-09-07T07:22:43.228122   \n",
              " 3    2022-09-07T07:22:43.228293   \n",
              " 4    2022-09-07T07:22:43.228462   \n",
              " ..                          ...   \n",
              " 133  2022-09-07T07:22:43.258039   \n",
              " 134  2022-09-07T07:22:43.258199   \n",
              " 135  2022-09-07T07:22:43.258360   \n",
              " 136  2022-09-07T07:22:43.258521   \n",
              " 137  2022-09-07T07:22:43.258679   \n",
              " \n",
              "                                MonitoredVehicleJourney  \\\n",
              " 0    {'LineRef': '166', 'DirectionRef': 'outbound',...   \n",
              " 1    {'LineRef': '166', 'DirectionRef': 'inbound', ...   \n",
              " 2    {'LineRef': '660', 'DirectionRef': 'outbound',...   \n",
              " 3    {'LineRef': '190', 'DirectionRef': 'inbound', ...   \n",
              " 4    {'LineRef': '176', 'DirectionRef': 'inbound', ...   \n",
              " ..                                                 ...   \n",
              " 133  {'LineRef': '140', 'DirectionRef': 'outbound',...   \n",
              " 134  {'LineRef': '155', 'DirectionRef': 'inbound', ...   \n",
              " 135  {'LineRef': '692', 'DirectionRef': 'inbound', ...   \n",
              " 136  {'LineRef': '653', 'DirectionRef': 'outbound',...   \n",
              " 137  {'LineRef': '176', 'DirectionRef': 'inbound', ...   \n",
              " \n",
              "                                             Extensions  \n",
              " 0    {'VehicleJourney': {'Operational': {'TicketMac...  \n",
              " 1    {'VehicleJourney': {'Operational': {'TicketMac...  \n",
              " 2    {'VehicleJourney': {'Operational': {'TicketMac...  \n",
              " 3    {'VehicleJourney': {'Operational': {'TicketMac...  \n",
              " 4    {'VehicleJourney': {'Operational': {'TicketMac...  \n",
              " ..                                                 ...  \n",
              " 133  {'VehicleJourney': {'Operational': {'TicketMac...  \n",
              " 134  {'VehicleJourney': {'Operational': {'TicketMac...  \n",
              " 135  {'VehicleJourney': {'Operational': {'TicketMac...  \n",
              " 136  {'VehicleJourney': {'Operational': {'TicketMac...  \n",
              " 137  {'VehicleJourney': {'Operational': {'TicketMac...  \n",
              " \n",
              " [138 rows x 5 columns],\n",
              "                 RecordedAtTime                        ItemIdentifier  \\\n",
              " 0    2022-09-07T07:22:26+00:00  da4f2551-7bcd-41b5-b734-e801a8a834c5   \n",
              " 1    2022-09-07T07:22:25+00:00  215772b2-18f5-4f59-b85b-06045b7d2033   \n",
              " 2    2022-09-06T17:28:05+00:00  93f7b0e4-4d0b-4971-af43-8b9da3cf6aba   \n",
              " 3    2022-09-07T07:22:26+00:00  b30f92da-567a-4ce9-893d-df407bf8a35e   \n",
              " 4    2022-09-07T07:22:28+00:00  4f59fb2e-9415-46c2-b994-16d13823fde6   \n",
              " ..                         ...                                   ...   \n",
              " 131  2022-09-07T07:22:04+00:00  653cd0a7-905d-4551-a43f-6af2733ce447   \n",
              " 132  2022-09-07T07:22:20+00:00  b4920bf4-ad1b-46fa-b452-ef6d7beedfe5   \n",
              " 133  2022-09-07T06:59:46+00:00  6ce7b565-d5e4-4d6a-9a9b-aa22fb119c14   \n",
              " 134  2022-09-07T07:14:58+00:00  68c874da-8582-4667-a23b-218d86868c5d   \n",
              " 135  2022-09-07T07:22:31+00:00  54965edc-c335-4482-a40b-77e56480f14e   \n",
              " \n",
              "                  ValidUntilTime  \\\n",
              " 0    2022-09-07T07:27:43.696683   \n",
              " 1    2022-09-07T07:27:43.697044   \n",
              " 2    2022-09-07T07:27:43.697231   \n",
              " 3    2022-09-07T07:27:43.697396   \n",
              " 4    2022-09-07T07:27:43.697554   \n",
              " ..                          ...   \n",
              " 131  2022-09-07T07:27:43.726255   \n",
              " 132  2022-09-07T07:27:43.726418   \n",
              " 133  2022-09-07T07:27:43.726575   \n",
              " 134  2022-09-07T07:27:43.726732   \n",
              " 135  2022-09-07T07:27:43.726888   \n",
              " \n",
              "                                MonitoredVehicleJourney  \\\n",
              " 0    {'LineRef': '182', 'DirectionRef': 'inbound', ...   \n",
              " 1    {'LineRef': '689', 'DirectionRef': 'outbound',...   \n",
              " 2    {'LineRef': '176', 'DirectionRef': 'inbound', ...   \n",
              " 3    {'LineRef': '140', 'DirectionRef': 'outbound',...   \n",
              " 4    {'LineRef': '116', 'DirectionRef': 'outbound',...   \n",
              " ..                                                 ...   \n",
              " 131  {'LineRef': '140', 'DirectionRef': 'outbound',...   \n",
              " 132  {'LineRef': '155', 'DirectionRef': 'inbound', ...   \n",
              " 133  {'LineRef': '692', 'DirectionRef': 'inbound', ...   \n",
              " 134  {'LineRef': '653', 'DirectionRef': 'outbound',...   \n",
              " 135  {'LineRef': '9', 'DirectionRef': 'inbound', 'F...   \n",
              " \n",
              "                                             Extensions  \n",
              " 0    {'VehicleJourney': {'Operational': {'TicketMac...  \n",
              " 1    {'VehicleJourney': {'Operational': {'TicketMac...  \n",
              " 2    {'VehicleJourney': {'Operational': {'TicketMac...  \n",
              " 3    {'VehicleJourney': {'Operational': {'TicketMac...  \n",
              " 4    {'VehicleJourney': {'Operational': {'TicketMac...  \n",
              " ..                                                 ...  \n",
              " 131  {'VehicleJourney': {'Operational': {'TicketMac...  \n",
              " 132  {'VehicleJourney': {'Operational': {'TicketMac...  \n",
              " 133  {'VehicleJourney': {'Operational': {'TicketMac...  \n",
              " 134  {'VehicleJourney': {'Operational': {'TicketMac...  \n",
              " 135  {'VehicleJourney': {'Operational': {'TicketMac...  \n",
              " \n",
              " [136 rows x 5 columns],\n",
              "                 RecordedAtTime                        ItemIdentifier  \\\n",
              " 0    2022-09-07T07:27:11+00:00  1fbcf6ad-b86d-4fb7-95c0-e7221b939672   \n",
              " 1    2022-09-07T07:27:18+00:00  561ccc33-1d8f-4397-9e40-b05fd12c5c52   \n",
              " 2    2022-09-07T07:27:27+00:00  962cf8b0-d902-4afa-a39e-414c4881fa47   \n",
              " 3    2022-09-07T07:27:22+00:00  a613ac18-a0de-4c54-903d-c3b49bd22956   \n",
              " 4    2022-09-07T07:26:21+00:00  e348a98c-ef16-4d20-b658-6a0d40d2ac0e   \n",
              " ..                         ...                                   ...   \n",
              " 134  2022-09-07T07:27:17+00:00  ef4cf5ba-1bf0-409c-b306-b89870f68d2c   \n",
              " 135  2022-09-07T06:59:46+00:00  2e25d9ed-d06f-4b91-80b7-a3a886068209   \n",
              " 136  2022-09-07T07:27:09+00:00  078840d7-6919-4834-900e-f70f4b4292d1   \n",
              " 137  2022-09-07T07:27:32+00:00  e73b6057-50e5-43ea-a0ee-48daeb51dcdc   \n",
              " 138  2022-09-07T07:27:31+00:00  f48cb12d-38d2-43b4-8702-39717f7c6fe5   \n",
              " \n",
              "                  ValidUntilTime  \\\n",
              " 0    2022-09-07T07:32:44.241575   \n",
              " 1    2022-09-07T07:32:44.241951   \n",
              " 2    2022-09-07T07:32:44.242137   \n",
              " 3    2022-09-07T07:32:44.242331   \n",
              " 4    2022-09-07T07:32:44.242503   \n",
              " ..                          ...   \n",
              " 134  2022-09-07T07:32:44.280156   \n",
              " 135  2022-09-07T07:32:44.280316   \n",
              " 136  2022-09-07T07:32:44.280491   \n",
              " 137  2022-09-07T07:32:44.280665   \n",
              " 138  2022-09-07T07:32:44.280826   \n",
              " \n",
              "                                MonitoredVehicleJourney  \\\n",
              " 0    {'LineRef': '176', 'DirectionRef': 'outbound',...   \n",
              " 1    {'LineRef': '341', 'DirectionRef': 'outbound',...   \n",
              " 2    {'LineRef': '85', 'DirectionRef': 'inbound', '...   \n",
              " 3    {'LineRef': '6X', 'DirectionRef': 'inbound', '...   \n",
              " 4    {'LineRef': '660', 'DirectionRef': 'outbound',...   \n",
              " ..                                                 ...   \n",
              " 134  {'LineRef': '155', 'DirectionRef': 'inbound', ...   \n",
              " 135  {'LineRef': '692', 'DirectionRef': 'inbound', ...   \n",
              " 136  {'LineRef': '141', 'DirectionRef': 'inbound', ...   \n",
              " 137  {'LineRef': '647', 'DirectionRef': 'outbound',...   \n",
              " 138  {'LineRef': '176', 'DirectionRef': 'inbound', ...   \n",
              " \n",
              "                                             Extensions  \n",
              " 0    {'VehicleJourney': {'Operational': {'TicketMac...  \n",
              " 1    {'VehicleJourney': {'Operational': {'TicketMac...  \n",
              " 2    {'VehicleJourney': {'Operational': {'TicketMac...  \n",
              " 3    {'VehicleJourney': {'Operational': {'TicketMac...  \n",
              " 4    {'VehicleJourney': {'Operational': {'TicketMac...  \n",
              " ..                                                 ...  \n",
              " 134  {'VehicleJourney': {'Operational': {'TicketMac...  \n",
              " 135  {'VehicleJourney': {'Operational': {'TicketMac...  \n",
              " 136  {'VehicleJourney': {'Operational': {'TicketMac...  \n",
              " 137  {'VehicleJourney': {'Operational': {'TicketMac...  \n",
              " 138  {'VehicleJourney': {'Operational': {'TicketMac...  \n",
              " \n",
              " [139 rows x 5 columns],\n",
              "                 RecordedAtTime                        ItemIdentifier  \\\n",
              " 0    2022-09-07T07:32:37+00:00  94c0a2b7-94a4-4dee-b1f1-9b4222e2cb71   \n",
              " 1    2022-09-07T07:26:21+00:00  00282eb1-502e-479a-9890-5cc089fa9f51   \n",
              " 2    2022-09-07T07:30:33+00:00  eb87b2cd-8e90-4617-91b4-3db916b9b6ab   \n",
              " 3    2022-09-07T07:32:39+00:00  8bd9df38-a92a-4df7-b334-88fd8ac88168   \n",
              " 4    2022-09-07T07:23:38+00:00  d99afdb9-d8ef-4643-9ce1-eca481f346c1   \n",
              " ..                         ...                                   ...   \n",
              " 134  2022-09-07T07:30:00+00:00  17669475-a77a-435a-9e98-8f63db2c348b   \n",
              " 135  2022-09-07T07:32:11+00:00  b990bd12-9813-4194-8b23-0c7b4bbd9ee9   \n",
              " 136  2022-09-07T07:32:37+00:00  e827e916-76a2-48a1-8d6d-1ff201c9e14e   \n",
              " 137  2022-09-07T06:59:46+00:00  d6c5aac3-7ec0-433a-816e-ea19d0e6a7b3   \n",
              " 138  2022-09-07T07:32:24+00:00  a18547a1-b634-432d-aba3-24906ae51b14   \n",
              " \n",
              "                  ValidUntilTime  \\\n",
              " 0    2022-09-07T07:37:45.855393   \n",
              " 1    2022-09-07T07:37:45.855804   \n",
              " 2    2022-09-07T07:37:45.856005   \n",
              " 3    2022-09-07T07:37:45.856176   \n",
              " 4    2022-09-07T07:37:45.856340   \n",
              " ..                          ...   \n",
              " 134  2022-09-07T07:37:45.894430   \n",
              " 135  2022-09-07T07:37:45.894591   \n",
              " 136  2022-09-07T07:37:45.894751   \n",
              " 137  2022-09-07T07:37:45.894911   \n",
              " 138  2022-09-07T07:37:45.895069   \n",
              " \n",
              "                                MonitoredVehicleJourney  \\\n",
              " 0    {'LineRef': '101', 'DirectionRef': 'inbound', ...   \n",
              " 1    {'LineRef': '660', 'DirectionRef': 'outbound',...   \n",
              " 2    {'LineRef': '101', 'DirectionRef': 'outbound',...   \n",
              " 3    {'LineRef': '176', 'DirectionRef': 'inbound', ...   \n",
              " 4    {'LineRef': '176', 'DirectionRef': 'inbound', ...   \n",
              " ..                                                 ...   \n",
              " 134  {'LineRef': '166', 'DirectionRef': 'outbound',...   \n",
              " 135  {'LineRef': '155', 'DirectionRef': 'inbound', ...   \n",
              " 136  {'LineRef': '182', 'DirectionRef': 'outbound',...   \n",
              " 137  {'LineRef': '692', 'DirectionRef': 'inbound', ...   \n",
              " 138  {'LineRef': '647', 'DirectionRef': 'outbound',...   \n",
              " \n",
              "                                             Extensions  \n",
              " 0    {'VehicleJourney': {'Operational': {'TicketMac...  \n",
              " 1    {'VehicleJourney': {'Operational': {'TicketMac...  \n",
              " 2    {'VehicleJourney': {'Operational': {'TicketMac...  \n",
              " 3    {'VehicleJourney': {'Operational': {'TicketMac...  \n",
              " 4    {'VehicleJourney': {'Operational': {'TicketMac...  \n",
              " ..                                                 ...  \n",
              " 134  {'VehicleJourney': {'Operational': {'TicketMac...  \n",
              " 135  {'VehicleJourney': {'Operational': {'TicketMac...  \n",
              " 136  {'VehicleJourney': {'Operational': {'TicketMac...  \n",
              " 137  {'VehicleJourney': {'Operational': {'TicketMac...  \n",
              " 138  {'VehicleJourney': {'Operational': {'TicketMac...  \n",
              " \n",
              " [139 rows x 5 columns]]"
            ]
          },
          "metadata": {},
          "execution_count": 4
        }
      ]
    },
    {
      "cell_type": "markdown",
      "source": [
        "### Task 3 \n",
        "---\n",
        "\n",
        "Create one big dataframe, by appending all the dataframes from task 2 together\n",
        "\n",
        "*hint: you will need to create an empty dataframe and use a for loop*"
      ],
      "metadata": {
        "id": "QF7OPv-NyvAj"
      }
    },
    {
      "cell_type": "code",
      "source": [
        "import pandas as pd\n",
        "big_dataframe=pd.DataFrame()\n",
        "dataframes= create_list_dataframe() \n",
        "for dataframe in dataframes:\n",
        "  big_dataframe=big_dataframe.append(dataframe)\n",
        "print(big_dataframe) \n",
        "\n",
        "\n"
      ],
      "metadata": {
        "id": "6GLmuCHbzJr8",
        "colab": {
          "base_uri": "https://localhost:8080/"
        },
        "outputId": "83d98a53-a331-4591-c13d-75cb05f9a379"
      },
      "execution_count": null,
      "outputs": [
        {
          "output_type": "stream",
          "name": "stdout",
          "text": [
            "                RecordedAtTime                        ItemIdentifier  \\\n",
            "0    2022-09-07T07:07:19+00:00  467dce63-7573-45d9-8713-7337ed464c80   \n",
            "1    2022-09-07T07:07:24+00:00  14f33ea4-9c31-4d9a-bfbd-daf3577a3e0d   \n",
            "2    2022-09-07T07:07:07+00:00  67470c05-e1c5-4178-89cc-075f0036c562   \n",
            "3    2022-09-07T07:07:21+00:00  40333a3d-7fc0-4f01-95fb-370b9832197b   \n",
            "4    2022-09-07T07:07:24+00:00  2ed7b0ad-8703-4e98-b52d-7e7a81e14ee1   \n",
            "..                         ...                                   ...   \n",
            "134  2022-09-07T07:30:00+00:00  17669475-a77a-435a-9e98-8f63db2c348b   \n",
            "135  2022-09-07T07:32:11+00:00  b990bd12-9813-4194-8b23-0c7b4bbd9ee9   \n",
            "136  2022-09-07T07:32:37+00:00  e827e916-76a2-48a1-8d6d-1ff201c9e14e   \n",
            "137  2022-09-07T06:59:46+00:00  d6c5aac3-7ec0-433a-816e-ea19d0e6a7b3   \n",
            "138  2022-09-07T07:32:24+00:00  a18547a1-b634-432d-aba3-24906ae51b14   \n",
            "\n",
            "                 ValidUntilTime  \\\n",
            "0    2022-09-07T07:12:41.884566   \n",
            "1    2022-09-07T07:12:41.884913   \n",
            "2    2022-09-07T07:12:41.885080   \n",
            "3    2022-09-07T07:12:41.885228   \n",
            "4    2022-09-07T07:12:41.885371   \n",
            "..                          ...   \n",
            "134  2022-09-07T07:37:45.894430   \n",
            "135  2022-09-07T07:37:45.894591   \n",
            "136  2022-09-07T07:37:45.894751   \n",
            "137  2022-09-07T07:37:45.894911   \n",
            "138  2022-09-07T07:37:45.895069   \n",
            "\n",
            "                               MonitoredVehicleJourney  \\\n",
            "0    {'LineRef': '7', 'DirectionRef': 'inbound', 'F...   \n",
            "1    {'LineRef': '1', 'DirectionRef': 'outbound', '...   \n",
            "2    {'LineRef': '132', 'DirectionRef': 'outbound',...   \n",
            "3    {'LineRef': '190', 'DirectionRef': 'inbound', ...   \n",
            "4    {'LineRef': '101', 'DirectionRef': 'outbound',...   \n",
            "..                                                 ...   \n",
            "134  {'LineRef': '166', 'DirectionRef': 'outbound',...   \n",
            "135  {'LineRef': '155', 'DirectionRef': 'inbound', ...   \n",
            "136  {'LineRef': '182', 'DirectionRef': 'outbound',...   \n",
            "137  {'LineRef': '692', 'DirectionRef': 'inbound', ...   \n",
            "138  {'LineRef': '647', 'DirectionRef': 'outbound',...   \n",
            "\n",
            "                                            Extensions  \n",
            "0    {'VehicleJourney': {'Operational': {'TicketMac...  \n",
            "1    {'VehicleJourney': {'Operational': {'TicketMac...  \n",
            "2    {'VehicleJourney': {'Operational': {'TicketMac...  \n",
            "3    {'VehicleJourney': {'Operational': {'TicketMac...  \n",
            "4    {'VehicleJourney': {'Operational': {'TicketMac...  \n",
            "..                                                 ...  \n",
            "134  {'VehicleJourney': {'Operational': {'TicketMac...  \n",
            "135  {'VehicleJourney': {'Operational': {'TicketMac...  \n",
            "136  {'VehicleJourney': {'Operational': {'TicketMac...  \n",
            "137  {'VehicleJourney': {'Operational': {'TicketMac...  \n",
            "138  {'VehicleJourney': {'Operational': {'TicketMac...  \n",
            "\n",
            "[813 rows x 5 columns]\n"
          ]
        }
      ]
    },
    {
      "cell_type": "markdown",
      "source": [
        "### Task 4\n",
        "---\n",
        "Create a new dataframe which is normalized (using pd.json_normalize()) by the column `MonitoredVehicleJourney` "
      ],
      "metadata": {
        "id": "b7tJKDpgzkTi"
      }
    },
    {
      "cell_type": "code",
      "source": [
        "import pandas as pd\n",
        "\n",
        "normalized_dataframe=pd.json_normalize(big_dataframe[\"MonitoredVehicleJourney\"])\n",
        "#print(normalized_dataframe)\n",
        "\n",
        " "
      ],
      "metadata": {
        "id": "_sVvlEmnz35q"
      },
      "execution_count": null,
      "outputs": []
    },
    {
      "cell_type": "markdown",
      "source": [
        "### Task 5\n",
        "---\n",
        "Copy the column `RecordedAtTime` from the first big dataframe to the new dataframe you created in Task 4\n",
        "\n",
        "*hint: you will need to convert the old column to a list*\n",
        "\n",
        "**Expected output:** 18 columns "
      ],
      "metadata": {
        "id": "UAWCw1Rxz4Xm"
      }
    },
    {
      "cell_type": "code",
      "source": [
        "import pandas as pd\n",
        "RecordedAtTime=list(big_dataframe['RecordedAtTime'])\n",
        "normalized_dataframe['RecordedAtTime']=RecordedAtTime\n",
        "print(len(normalized_dataframe.columns))"
      ],
      "metadata": {
        "id": "cNn7vfmt0iSL",
        "colab": {
          "base_uri": "https://localhost:8080/"
        },
        "outputId": "da3a1811-ca29-47e4-efdb-0572bd4540b2"
      },
      "execution_count": null,
      "outputs": [
        {
          "output_type": "stream",
          "name": "stdout",
          "text": [
            "18\n"
          ]
        }
      ]
    },
    {
      "cell_type": "markdown",
      "source": [
        "### Task 6\n",
        "---\n",
        "Remove the columns `\"DirectionRef\", \"PublishedLineName\", \"OperatorRef\", \"OriginRef\", \"DestinationRef\", \"DestinationAimedArrivalTime\", \"Bearing\", \"BlockRef\", \"FramedVehicleJourneyRef.DataFrameRef\", 'FramedVehicleJourneyRef.DatedVehicleJourneyRef'`"
      ],
      "metadata": {
        "id": "z4JDEFGjzKq9"
      }
    },
    {
      "cell_type": "code",
      "source": [
        "import pandas as pd\n",
        "column_sorted_normalized_dataframe=normalized_dataframe.drop([\"DirectionRef\", \"PublishedLineName\", \"OperatorRef\", \"OriginRef\", \"DestinationRef\", \"DestinationAimedArrivalTime\", \"Bearing\", \"BlockRef\", \"FramedVehicleJourneyRef.DataFrameRef\", 'FramedVehicleJourneyRef.DatedVehicleJourneyRef'],axis=1)\n",
        "print(len(column_sorted_normalized_dataframe.columns))"
      ],
      "metadata": {
        "id": "2CYX25yd0iz4",
        "colab": {
          "base_uri": "https://localhost:8080/"
        },
        "outputId": "4ddf2f07-9e79-41eb-e302-f5a93b66f20c"
      },
      "execution_count": null,
      "outputs": [
        {
          "output_type": "stream",
          "name": "stdout",
          "text": [
            "8\n"
          ]
        }
      ]
    },
    {
      "cell_type": "markdown",
      "source": [
        "### Task 7\n",
        "---\n"
      ],
      "metadata": {
        "id": "93xTxhF304Ze"
      }
    },
    {
      "cell_type": "markdown",
      "source": [
        "Remove duplicate rows - only remove them if they are the same in all columns "
      ],
      "metadata": {
        "id": "lc3BWJCEhVEN"
      }
    },
    {
      "cell_type": "code",
      "source": [
        "import pandas as pd\n",
        "duplicate_sorted_df=column_sorted_normalized_dataframe.drop_duplicates(subset = ['LineRef', 'OriginName', 'DestinationName', 'OriginAimedDepartureTime','VehicleRef', 'VehicleLocation.Longitude', 'VehicleLocation.Latitude',\n",
        "       'RecordedAtTime'])\n",
        "print(len(duplicate_sorted_df))\n",
        "print(duplicate_sorted_df)"
      ],
      "metadata": {
        "id": "ZZj7THXK064Y",
        "colab": {
          "base_uri": "https://localhost:8080/"
        },
        "outputId": "8b196703-232f-45b7-a1b9-5eac0acfde85"
      },
      "execution_count": null,
      "outputs": [
        {
          "output_type": "stream",
          "name": "stdout",
          "text": [
            "678\n",
            "    LineRef                        OriginName              DestinationName  \\\n",
            "0         7                   Railway_Station         Chequers_Bus_Station   \n",
            "1         1                        The_Strand      Chatham_Railway_Station   \n",
            "2       132  Hempstead_Valley_Shopping_Centre              Grammar_Schools   \n",
            "3       190            Waterfront_Bus_Station    Gravesend_Railway_Station   \n",
            "4       101                      Pudding_Lane                  Duncan_Road   \n",
            "..      ...                               ...                          ...   \n",
            "807     334              Chequers_Bus_Station                        Tesco   \n",
            "808     166            Waterfront_Bus_Station  The_Kestrel_Shopping_Centre   \n",
            "809     155            Waterfront_Bus_Station              Village_Surgery   \n",
            "810     182            Waterfront_Bus_Station              Beechings_Green   \n",
            "812     647                      Chetney_View     The_Sittingbourne_School   \n",
            "\n",
            "      OriginAimedDepartureTime VehicleRef VehicleLocation.Longitude  \\\n",
            "0    2022-09-07T06:41:00+00:00       6516                  0.512874   \n",
            "1    2022-09-07T07:50:00+00:00       4281                  0.533265   \n",
            "2    2022-09-07T07:01:00+00:00       6421                  0.499678   \n",
            "3    2022-09-07T07:00:00+00:00       4312                   0.39291   \n",
            "4    2022-09-07T07:24:00+00:00       6475                  0.525113   \n",
            "..                         ...        ...                       ...   \n",
            "807  2022-09-07T07:03:00+00:00       4279                  0.799603   \n",
            "808  2022-09-07T08:33:00+00:00       4314                  0.524089   \n",
            "809  2022-09-07T09:03:00+00:00       6413                  0.522086   \n",
            "810  2022-09-07T08:28:00+00:00       6420                  0.528473   \n",
            "812  2022-09-07T07:48:00+00:00       1633                  0.751018   \n",
            "\n",
            "    VehicleLocation.Latitude             RecordedAtTime  \n",
            "0                  51.271258  2022-09-07T07:07:19+00:00  \n",
            "1                  51.396786  2022-09-07T07:07:24+00:00  \n",
            "2                  51.374453  2022-09-07T07:07:07+00:00  \n",
            "3                  51.432988  2022-09-07T07:07:21+00:00  \n",
            "4                  51.385695  2022-09-07T07:07:24+00:00  \n",
            "..                       ...                        ...  \n",
            "807                51.433916  2022-09-07T07:32:39+00:00  \n",
            "808                51.384463  2022-09-07T07:30:00+00:00  \n",
            "809                51.380145  2022-09-07T07:32:11+00:00  \n",
            "810                51.392755  2022-09-07T07:32:37+00:00  \n",
            "812                51.337541  2022-09-07T07:32:24+00:00  \n",
            "\n",
            "[678 rows x 8 columns]\n"
          ]
        }
      ]
    },
    {
      "cell_type": "markdown",
      "source": [
        "### Task 8\n",
        "---\n",
        "Remove all rows which are not of **Euro III** standard.   \n",
        "To do this:\n"
      ],
      "metadata": {
        "id": "0ImtvQHyhhR1"
      }
    },
    {
      "cell_type": "markdown",
      "source": [
        "### Task 8.1\n",
        "--- \n",
        "* read into a new dataframe called `regs_emissions` the vehicle registrations dataset from this link: \"https://raw.githubusercontent.com/futureCodersSE/python-programming-for-data/main/Datasets/bus_regs.csv\"\n"
      ],
      "metadata": {
        "id": "-N8elfh_n56A"
      }
    },
    {
      "cell_type": "code",
      "source": [
        "import pandas as pd\n",
        "regs_emissions=pd.read_csv(\"https://raw.githubusercontent.com/futureCodersSE/python-programming-for-data/main/Datasets/bus_regs.csv\")\n",
        "regs_emissions.drop(regs_emissions[regs_emissions[\"Emission Class\"]!=\"EURO III\"].index,inplace=True)\n",
        "print(regs_emissions.columns)"
      ],
      "metadata": {
        "id": "H37qs7hgnzJ-",
        "colab": {
          "base_uri": "https://localhost:8080/"
        },
        "outputId": "b3ed6950-a825-48be-d0cb-4f5829a0c2ea"
      },
      "execution_count": null,
      "outputs": [
        {
          "output_type": "stream",
          "name": "stdout",
          "text": [
            "Index(['Last tracked', 'Type', 'Reg Year', 'Emission Class', 'Livery',\n",
            "       'Branding', 'Name', 'Previous reg', 'Special features', 'Unnamed: 9',\n",
            "       'Unnamed: 10', 'Unnamed: 11', 'Unnamed: 12', 'Unnamed: 13'],\n",
            "      dtype='object')\n"
          ]
        }
      ]
    },
    {
      "cell_type": "markdown",
      "source": [
        "### Task 8.2 \n",
        "---\n",
        "Create a list from the `regs_emissions` dataframe containing all the registrations from `Last tracked` which are Euro III\n",
        "\n",
        "\n",
        "*hint: to_list()*  \n",
        "**Expected Output:**\n",
        "\n",
        "euro3 list has length 56  \n",
        "euro3 list first entry is 1607"
      ],
      "metadata": {
        "id": "feLNzr5So-GB"
      }
    },
    {
      "cell_type": "code",
      "source": [
        "import pandas as pd\n",
        "Last_tracked=regs_emissions[\"Last tracked\"].to_list()\n",
        "print(len(Last_tracked))\n",
        "print(Last_tracked[1])\n"
      ],
      "metadata": {
        "id": "fUs19_1YtVBR",
        "colab": {
          "base_uri": "https://localhost:8080/"
        },
        "outputId": "c2701da0-6f38-4b65-f076-f6dffecdf07e"
      },
      "execution_count": null,
      "outputs": [
        {
          "output_type": "stream",
          "name": "stdout",
          "text": [
            "56\n",
            "1607\n"
          ]
        }
      ]
    },
    {
      "cell_type": "markdown",
      "source": [
        "### Task 8.3\n",
        "---\n",
        "\n",
        "Create a new dataframe called `euro3_buses` which contains only rows where the buses are Euro III standard\n",
        "\n",
        "* find rows where `VehicleRefs` is in the euro III registrations list from 8.2 "
      ],
      "metadata": {
        "id": "kXnV4pE6u_IY"
      }
    },
    {
      "cell_type": "code",
      "source": [
        "import pandas as pd\n",
        "euro3_buses=duplicate_sorted_df[duplicate_sorted_df[\"VehicleRef\"].isin(Last_tracked)]\n",
        "print(euro3_buses)\n"
      ],
      "metadata": {
        "id": "RwXxkn6oxQKJ",
        "colab": {
          "base_uri": "https://localhost:8080/"
        },
        "outputId": "1f1abbf4-d5c3-4e3e-b3e4-54afd9b50d1e"
      },
      "execution_count": null,
      "outputs": [
        {
          "output_type": "stream",
          "name": "stdout",
          "text": [
            "    LineRef                        OriginName         DestinationName  \\\n",
            "2       132  Hempstead_Valley_Shopping_Centre         Grammar_Schools   \n",
            "22      694                        Forge_Lane         Grammar_Schools   \n",
            "23      659                         Bus_Depot             Breton_Road   \n",
            "30      100                   Ship_and_Trades  Waterfront_Bus_Station   \n",
            "34       89                        Kings_Head            Oakwood_Park   \n",
            "..      ...                               ...                     ...   \n",
            "801     191            Waterfront_Bus_Station            Lapwing_Road   \n",
            "802     101                      Pudding_Lane             Duncan_Road   \n",
            "804     164            Waterfront_Bus_Station           Chatham_Grove   \n",
            "809     155            Waterfront_Bus_Station         Village_Surgery   \n",
            "810     182            Waterfront_Bus_Station         Beechings_Green   \n",
            "\n",
            "      OriginAimedDepartureTime VehicleRef VehicleLocation.Longitude  \\\n",
            "2    2022-09-07T07:01:00+00:00       6421                  0.499678   \n",
            "22   2022-09-07T07:30:00+00:00       6428                   0.50606   \n",
            "23   2022-09-07T06:52:00+00:00       6440                  0.509273   \n",
            "30   2022-09-07T08:01:00+00:00       1616                  0.537641   \n",
            "34   2022-09-07T06:43:00+00:00       6438                  0.531008   \n",
            "..                         ...        ...                       ...   \n",
            "801  2022-09-07T07:29:00+00:00       6404                  0.568619   \n",
            "802  2022-09-07T08:12:00+00:00       6441                   0.51814   \n",
            "804  2022-09-07T08:10:00+00:00       1609                   0.52449   \n",
            "809  2022-09-07T09:03:00+00:00       6413                  0.522086   \n",
            "810  2022-09-07T08:28:00+00:00       6420                  0.528473   \n",
            "\n",
            "    VehicleLocation.Latitude             RecordedAtTime  \n",
            "2                  51.374453  2022-09-07T07:07:07+00:00  \n",
            "22                 51.384996  2022-09-07T07:07:07+00:00  \n",
            "23                 51.357056  2022-09-07T07:07:06+00:00  \n",
            "30                 51.402051  2022-09-07T07:07:31+00:00  \n",
            "34                 51.258346  2022-09-07T07:07:30+00:00  \n",
            "..                       ...                        ...  \n",
            "801                51.446633  2022-09-07T07:32:29+00:00  \n",
            "802                51.285385  2022-09-07T07:32:29+00:00  \n",
            "804                 51.38502  2022-09-07T07:32:31+00:00  \n",
            "809                51.380145  2022-09-07T07:32:11+00:00  \n",
            "810                51.392755  2022-09-07T07:32:37+00:00  \n",
            "\n",
            "[134 rows x 8 columns]\n"
          ]
        }
      ]
    },
    {
      "cell_type": "markdown",
      "source": [
        "### Task 9\n",
        "---\n",
        "We need to remove all rows that are not within the boundary of Rainham High Street (the AQMA) \n",
        "\n",
        "The bounding box for the latitude and longitude is as follows:\n",
        "```\n",
        "Max Lat 51.364935                                 Max Lat 51.364935\n",
        "Min Long: 0.603210 ------------------------------ Max Long 0.617510  \n",
        "                   |                            |  \n",
        "                   |                            |  \n",
        "                   |                            |  \n",
        "                   |                            |  \n",
        "                   |                            |\n",
        "Min Lat 51.361462  ------------------------------ Min Lat 51.361462\n",
        "Min Long 0.603210                                 Max Long 0.617510\n",
        "```\n",
        "Therefore, to be in the boundary:\n",
        "* the longitude must be between 0.603210 and 0.617510\n",
        "* the latitude must be between 51.361462 and 51.364935\n",
        "\n",
        "Remove all rows from the `euro3_buses` df where the latitude and longitude are not within the max and min limits\n",
        "* You will first need to convert the latitude and longitude columns to floats\n",
        "\n",
        "*hint: use pd.to_numeric()* "
      ],
      "metadata": {
        "id": "os0AMrSGxyWG"
      }
    },
    {
      "cell_type": "code",
      "source": [
        "import pandas as pd\n",
        "\n",
        "def find_boundary_euro3_buses(bus):\n",
        " bus['VehicleLocation.Longitude']=pd.to_numeric(bus['VehicleLocation.Longitude'])\n",
        " bus['VehicleLocation.Latitude']=pd.to_numeric(bus['VehicleLocation.Latitude'])\n",
        " bus=bus[bus['VehicleLocation.Longitude'].between(0.603210,0.617510)]\n",
        " bus=bus[bus['VehicleLocation.Latitude'].between(51.361462,51.364935)]\n",
        " print(bus)\n",
        "\n",
        "find_boundary_euro3_buses(euro3_buses) \n"
      ],
      "metadata": {
        "id": "-BtLRop-x6oj",
        "colab": {
          "base_uri": "https://localhost:8080/"
        },
        "outputId": "6dfc3889-600e-4477-89f0-fb3d115bcf5b"
      },
      "execution_count": null,
      "outputs": [
        {
          "output_type": "stream",
          "name": "stdout",
          "text": [
            "    LineRef              OriginName                   DestinationName  \\\n",
            "311     132  Waterfront_Bus_Station  Hempstead_Valley_Shopping_Centre   \n",
            "\n",
            "      OriginAimedDepartureTime VehicleRef  VehicleLocation.Longitude  \\\n",
            "311  2022-09-07T07:30:00+00:00       6411                   0.614291   \n",
            "\n",
            "     VehicleLocation.Latitude             RecordedAtTime  \n",
            "311                 51.361575  2022-09-07T07:17:32+00:00  \n"
          ]
        },
        {
          "output_type": "stream",
          "name": "stderr",
          "text": [
            "/usr/local/lib/python3.7/dist-packages/ipykernel_launcher.py:4: SettingWithCopyWarning: \n",
            "A value is trying to be set on a copy of a slice from a DataFrame.\n",
            "Try using .loc[row_indexer,col_indexer] = value instead\n",
            "\n",
            "See the caveats in the documentation: https://pandas.pydata.org/pandas-docs/stable/user_guide/indexing.html#returning-a-view-versus-a-copy\n",
            "  after removing the cwd from sys.path.\n",
            "/usr/local/lib/python3.7/dist-packages/ipykernel_launcher.py:5: SettingWithCopyWarning: \n",
            "A value is trying to be set on a copy of a slice from a DataFrame.\n",
            "Try using .loc[row_indexer,col_indexer] = value instead\n",
            "\n",
            "See the caveats in the documentation: https://pandas.pydata.org/pandas-docs/stable/user_guide/indexing.html#returning-a-view-versus-a-copy\n",
            "  \"\"\"\n"
          ]
        }
      ]
    },
    {
      "cell_type": "markdown",
      "source": [
        "### Task 10 CHALLENGE  \n",
        "--- \n",
        "Can you do task 8 but with this different method:\n",
        "\n",
        "\n",
        "Create a new column which has the corresponding emissions standard for each `VehicleRef` \n",
        "\n",
        "* repeat task 8.2 but for all emissions standards (you should end up with 4 lists, one for each emissions class)\n",
        "* write a function which takes a dataframe as a parameter \n",
        "* use a series of if/elif statements which checks if the column `VehicleRef` is in each list\n",
        "* return the corresponsing emission as a string for if/elif statement\n",
        "* else return None \n",
        "* apply the function to create a new column called `Emissions_standard` to the dataframe from Task 7 \n",
        "* create a new dataframe which keeps only the rows where the `Emissons_standard` is \"Euro III\"  \n",
        "\n",
        "*hint: df[new_col_name] = df.apply(function_name, axis=1)*\n",
        "\n"
      ],
      "metadata": {
        "id": "JBugkZK_tV9D"
      }
    },
    {
      "cell_type": "code",
      "source": [
        "import pandas as pd\n",
        "\n",
        "def four_lists(category):\n",
        "\n",
        " regs_emissions_1=pd.read_csv(\"https://raw.githubusercontent.com/futureCodersSE/python-programming-for-data/main/Datasets/bus_regs.csv\")\n",
        " regs_emissions_1.drop(regs_emissions_1[regs_emissions_1[\"Emission Class\"]!=category].index,inplace=True)\n",
        " Last_tracked=regs_emissions_1[\"Last tracked\"].to_list()\n",
        " return Last_tracked\n",
        " \n",
        "euro3=four_lists(\"EURO III\")\n",
        "euro4=four_lists(\"EURO IV\")\n",
        "euro5=four_lists(\"EURO V\")\n",
        "euro6=four_lists(\"EURO VI\")\n",
        "\n",
        "\n",
        "\n",
        "def check_four_lists(df):\n",
        "   \n",
        "  \n",
        "  if df[\"VehicleRef\"] in (euro3):\n",
        "    return 'EURO III'\n",
        "  elif df[\"VehicleRef\"] in (euro4): \n",
        "    return \"EURO IV\" \n",
        "  elif df[\"VehicleRef\"] in (euro5): \n",
        "    return \"EURO V\" \n",
        "  elif df[\"VehicleRef\"] in (euro6): \n",
        "    return \"EURO VI\"\n",
        "  else:\n",
        "    return \"None\"\n",
        "\n",
        "#check_four_lists(duplicate_sorted_df)  \n",
        "\n",
        "duplicate_sorted_df[\"Emissions_standard\"] = duplicate_sorted_df.apply(check_four_lists, axis=1)\n",
        "print(duplicate_sorted_df.head()) \n",
        "\n",
        "euro3_bus=duplicate_sorted_df[duplicate_sorted_df[\"Emissions_standard\"]==\"EURO III\"]\n",
        "print(euro3_bus.head())\n",
        "\n",
        "\n",
        "\n",
        "\n"
      ],
      "metadata": {
        "id": "NuvzBpj5pTHK",
        "colab": {
          "base_uri": "https://localhost:8080/"
        },
        "outputId": "0efd44af-26fc-4973-d625-097710812135"
      },
      "execution_count": null,
      "outputs": [
        {
          "output_type": "stream",
          "name": "stdout",
          "text": [
            "  LineRef                        OriginName            DestinationName  \\\n",
            "0       7                   Railway_Station       Chequers_Bus_Station   \n",
            "1       1                        The_Strand    Chatham_Railway_Station   \n",
            "2     132  Hempstead_Valley_Shopping_Centre            Grammar_Schools   \n",
            "3     190            Waterfront_Bus_Station  Gravesend_Railway_Station   \n",
            "4     101                      Pudding_Lane                Duncan_Road   \n",
            "\n",
            "    OriginAimedDepartureTime VehicleRef VehicleLocation.Longitude  \\\n",
            "0  2022-09-07T06:41:00+00:00       6516                  0.512874   \n",
            "1  2022-09-07T07:50:00+00:00       4281                  0.533265   \n",
            "2  2022-09-07T07:01:00+00:00       6421                  0.499678   \n",
            "3  2022-09-07T07:00:00+00:00       4312                   0.39291   \n",
            "4  2022-09-07T07:24:00+00:00       6475                  0.525113   \n",
            "\n",
            "  VehicleLocation.Latitude             RecordedAtTime Emissions_standard  \n",
            "0                51.271258  2022-09-07T07:07:19+00:00            EURO VI  \n",
            "1                51.396786  2022-09-07T07:07:24+00:00            EURO VI  \n",
            "2                51.374453  2022-09-07T07:07:07+00:00           EURO III  \n",
            "3                51.432988  2022-09-07T07:07:21+00:00            EURO VI  \n",
            "4                51.385695  2022-09-07T07:07:24+00:00            EURO VI  \n",
            "   LineRef                        OriginName         DestinationName  \\\n",
            "2      132  Hempstead_Valley_Shopping_Centre         Grammar_Schools   \n",
            "22     694                        Forge_Lane         Grammar_Schools   \n",
            "23     659                         Bus_Depot             Breton_Road   \n",
            "30     100                   Ship_and_Trades  Waterfront_Bus_Station   \n",
            "34      89                        Kings_Head            Oakwood_Park   \n",
            "\n",
            "     OriginAimedDepartureTime VehicleRef VehicleLocation.Longitude  \\\n",
            "2   2022-09-07T07:01:00+00:00       6421                  0.499678   \n",
            "22  2022-09-07T07:30:00+00:00       6428                   0.50606   \n",
            "23  2022-09-07T06:52:00+00:00       6440                  0.509273   \n",
            "30  2022-09-07T08:01:00+00:00       1616                  0.537641   \n",
            "34  2022-09-07T06:43:00+00:00       6438                  0.531008   \n",
            "\n",
            "   VehicleLocation.Latitude             RecordedAtTime Emissions_standard  \n",
            "2                 51.374453  2022-09-07T07:07:07+00:00           EURO III  \n",
            "22                51.384996  2022-09-07T07:07:07+00:00           EURO III  \n",
            "23                51.357056  2022-09-07T07:07:06+00:00           EURO III  \n",
            "30                51.402051  2022-09-07T07:07:31+00:00           EURO III  \n",
            "34                51.258346  2022-09-07T07:07:30+00:00           EURO III  \n"
          ]
        },
        {
          "output_type": "stream",
          "name": "stderr",
          "text": [
            "/usr/local/lib/python3.7/dist-packages/ipykernel_launcher.py:33: SettingWithCopyWarning: \n",
            "A value is trying to be set on a copy of a slice from a DataFrame.\n",
            "Try using .loc[row_indexer,col_indexer] = value instead\n",
            "\n",
            "See the caveats in the documentation: https://pandas.pydata.org/pandas-docs/stable/user_guide/indexing.html#returning-a-view-versus-a-copy\n"
          ]
        }
      ]
    }
  ]
}