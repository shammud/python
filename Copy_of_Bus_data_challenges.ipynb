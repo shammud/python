{
  "nbformat": 4,
  "nbformat_minor": 0,
  "metadata": {
    "colab": {
      "provenance": [],
      "collapsed_sections": [],
      "include_colab_link": true
    },
    "kernelspec": {
      "name": "python3",
      "display_name": "Python 3"
    },
    "language_info": {
      "name": "python"
    }
  },
  "cells": [
    {
      "cell_type": "markdown",
      "metadata": {
        "id": "view-in-github",
        "colab_type": "text"
      },
      "source": [
        "<a href=\"https://colab.research.google.com/github/shammud/python/blob/main/Copy_of_Bus_data_challenges.ipynb\" target=\"_parent\"><img src=\"https://colab.research.google.com/assets/colab-badge.svg\" alt=\"Open In Colab\"/></a>"
      ]
    },
    {
      "cell_type": "markdown",
      "source": [
        "# Bus emissions challenge \n",
        "---\n",
        "\n",
        "\n",
        "### Introduction\n",
        "\n",
        "Kent and Medway have the highest proportion of old buses in the country (~40% of fleet). Old buses are detrimental to the environment as the older buses only have Euro III emissions standards which if used for lots of \n",
        "journeys will be dramatically impacting the air quality of the area. \n",
        "\n",
        "The client therefore would like us to find out some information which could then be used as evidence to make a case  to improve the bus emissions in the Kent and Medway area.\n",
        "\n",
        "The datasets we will be using are pubically available. Gov.uk provides data on all bus journeys in the UK and when used in conjunction with Arriva buses fleet emissions data (available from bustimes.org, download [here](https://drive.google.com/uc?export=download&id=1ywtiSwR27JYCC5Sf9G1ZCTOTWNxWBk9_ )) we can build a pretty good \n",
        "picture of how many of these old buses are being used for bus journeys in Kent and Medway.\n",
        "\n",
        "The gov.uk bus data is available in XML format via an api. The data refreshes every 10 seconds so each time you download it, it will show you a snapshot of the buses currently in operation at that time. We have downloaded one snapshot of this \n",
        "data and converted it to JSON format accessible to download [here](https://drive.google.com/uc?export=download&id=1a9vMs0Kke7Nh4LuxCnKHkVIkFDr-az_Z)\n",
        "\n",
        "\n",
        "\n"
      ],
      "metadata": {
        "id": "J7Zhg8Bno-rr"
      }
    },
    {
      "cell_type": "markdown",
      "source": [
        "### Load the data\n",
        "---\n",
        "#### **Please run the cell below to load the data required for this challenge.**  \n",
        "The following code will read both the json file and the bus emissions csv file and create a dictionary (`bus_journeys`) and 2 lists (`vehicle_refs`, `emissions`).\n"
      ],
      "metadata": {
        "id": "zMdU3RE5xjbX"
      }
    },
    {
      "cell_type": "code",
      "source": [
        "import pandas as pd\n",
        "import json\n",
        "import urllib.request\n",
        "\n",
        "url_json = \"https://drive.google.com/uc?export=download&id=1a9vMs0Kke7Nh4LuxCnKHkVIkFDr-az_Z\"\n",
        "csv = \"https://drive.google.com/uc?export=download&id=1ywtiSwR27JYCC5Sf9G1ZCTOTWNxWBk9_\"\n",
        "\n",
        "def get_saved_data(url_json):\n",
        "    if url_json is not None:\n",
        "        try:\n",
        "            with urllib.request.urlopen(url_json) as url:\n",
        "                data = json.loads(url.read().decode())\n",
        "                return data\n",
        "        except:\n",
        "            print(\"An error occurred while reading the file\")\n",
        "\n",
        "\n",
        "def get_dicts_lists():\n",
        "  df = pd.json_normalize(get_saved_data(url_json))\n",
        "  regs = pd.read_csv(csv)\n",
        "\n",
        "  bus = df[['MonitoredVehicleJourney.LineRef','MonitoredVehicleJourney.DirectionRef','MonitoredVehicleJourney.PublishedLineName','MonitoredVehicleJourney.OriginName','MonitoredVehicleJourney.DestinationName','MonitoredVehicleJourney.OriginAimedDepartureTime','MonitoredVehicleJourney.VehicleRef']]\n",
        "  bus.columns = bus.columns.str.lstrip(\"MonitoredVehicleJourney.\")\n",
        "  bus_journeys = bus.to_dict('records')\n",
        "  \n",
        "  regs.rename({'Last tracked': 'VehicleRef'}, axis=1 , inplace=True)\n",
        "  vehiclerefs = regs['VehicleRef'].to_list()\n",
        "  emission_standards = regs['Emission Class'].to_list()\n",
        "  return bus_journeys, vehiclerefs, emission_standards\n",
        "\n",
        "def get_emissions_data():\n",
        "\n",
        "  emissions_data = [\n",
        "      {\"Standard\":\"EURO III\", \"CO2\":2.1, \"Nox\":5, \"PM\":0.1 },\n",
        "      {\"Standard\":\"EURO IV\",\"CO2\":1.5,\"Nox\":3.5,\"PM\":0.02 },\n",
        "      {\"Standard\":\"EURO V\",\"CO2\":1.5,\"Nox\":2,\"PM\":0.02},\n",
        "      {\"Standard\":\"EURO VI\",\"CO2\":1.5,\"Nox\":0.4,\"PM\":0.01}\n",
        "  ]\n",
        "  return emissions_data\n",
        "\n",
        "\n",
        "\n",
        "bus_journeys, vehicle_refs, emission_standards = get_dicts_lists()\n",
        "emissions_data = get_emissions_data()\n"
      ],
      "metadata": {
        "id": "QXaMMOlGsdkV"
      },
      "execution_count": 38,
      "outputs": []
    },
    {
      "cell_type": "markdown",
      "source": [
        "### Task 1 - investigate bus_journeys data\n",
        "---\n"
      ],
      "metadata": {
        "id": "13490nn2yHga"
      }
    },
    {
      "cell_type": "markdown",
      "source": [
        "This is the data dictionary for records in the bus_journeys data (all fields are alphanumeric):  \n",
        "\n",
        "LineRef--------------------------------------bus route number  \n",
        "DirectionRef------------------------------current direction of travel, inbound or outbound   \n",
        "PublishedLineName------------------timetabled service name (may be same as LineRef)  \n",
        "OriginName-------------------------------start location of the current route  \n",
        "DestinationName----------------------end destination on the current route  \n",
        "OriginAimedDepartureTime------the time at which the bus was timetabled to leave its start location    \n",
        "Ref---------------------------------------------a uniquely identifier for the bus vehicle  \n",
        "\n",
        "The bus_journeys data contains a list of records with the fields shown above.  This list contains a records for each bus that is currently on a bus route (assuming that all are tranmitting their locations) \n",
        "  \n",
        "**Task**  \n",
        "Take a look at the `bus_journeys` dictionary\n",
        "\n",
        "* Print the first record\n",
        "* Print the last record\n",
        "* How is an individual bus journey dictionary structured? \n",
        "* How many of these dictionary records are in the list?\n",
        "\n",
        "\n",
        "**Expected Output**   \n",
        "First record will have `LineRef` 177  \n",
        "Last record will have `LineRef` 347  "
      ],
      "metadata": {
        "id": "UESD1OvDBvGn"
      }
    },
    {
      "cell_type": "code",
      "source": [
        "def records_in_bus_journeys():\n",
        "\n",
        " print(bus_journeys[0])\n",
        " print(bus_journeys[-1])\n",
        " print(len(bus_journeys))\n",
        " \n",
        "records_in_bus_journeys() "
      ],
      "metadata": {
        "id": "BXayoSe3yN21",
        "colab": {
          "base_uri": "https://localhost:8080/"
        },
        "outputId": "4d39f81c-3bdc-48f3-cb68-4104257a60bc"
      },
      "execution_count": 6,
      "outputs": [
        {
          "output_type": "stream",
          "name": "stdout",
          "text": [
            "{'LineRef': '177', 'DirectionRef': 'inbound', 'PublishedLineName': '177', 'OriginName': 'Village_Centre', 'DestinationName': 'Victoria_Street', 'OriginAimedDepartureTime': '2022-09-07T11:20:00+00:00', 'Ref': '1655'}\n",
            "{'LineRef': '347', 'DirectionRef': 'anticlockwise', 'PublishedLineName': '347', 'OriginName': 'Bus_Hub', 'DestinationName': 'Coldharbour_Lane_East', 'OriginAimedDepartureTime': '2022-09-07T12:05:00+00:00', 'Ref': '1633'}\n",
            "137\n"
          ]
        }
      ]
    },
    {
      "cell_type": "markdown",
      "source": [
        "### Task 2 - investigate vehicle_refs and emission_standards data lists\n",
        "---\n",
        "Take a look at the `vehicle_refs` and `emission_standards` lists\n",
        "* what is the length of each list?\n",
        "* find how many unique items there are in the emission_standards list - (**hint** : you will need to create another list and use a for loop) *italicised text* \n",
        "* print the unique emission_standards items \n",
        "* find how many unique items there are in the vehicle_refs list\n",
        "* print the length of the unique vehicle_ref items "
      ],
      "metadata": {
        "id": "h7ZyCzxnC1Nk"
      }
    },
    {
      "cell_type": "code",
      "source": [
        "def get_list_length():\n",
        "   return(len(emission_standards),len(vehicle_refs))\n",
        "\n",
        "def get_unique_items(list):\n",
        "  unique_items=[]\n",
        "  for i in list:\n",
        "    if i not in unique_items:\n",
        "      unique_items.append(i)\n",
        "  return (len(unique_items))\n",
        "\n",
        "\n",
        "# Test for get list length\n",
        "expected=(223,223)\n",
        "actual=get_list_length()\n",
        "if actual==expected:\n",
        "  print(\"Test Passed\",actual)\n",
        "else:\n",
        "  print(\"Test Failed\",actual)  \n",
        "\n",
        "# Test for unique emission standards\n",
        "expected=4\n",
        "actual=get_unique_items(emission_standards)\n",
        "if actual==expected:\n",
        "  print(\"Test Passed\",actual)\n",
        "else:\n",
        "  print(\"Test Failed\",actual)  \n",
        "\n",
        "\n",
        "#Tesr for unique_items_vehicle_refs\n",
        "expected=223\n",
        "actual=get_unique_items(vehicle_refs)\n",
        "if actual==expected:\n",
        "  print(\"Test Passed\",actual)\n",
        "else:\n",
        "  print(\"Test Failed\",actual)  \n"
      ],
      "metadata": {
        "id": "2SP_Oo41DSU5",
        "colab": {
          "base_uri": "https://localhost:8080/"
        },
        "outputId": "47674696-7252-46f7-8b0c-5c923569ce53"
      },
      "execution_count": 23,
      "outputs": [
        {
          "output_type": "stream",
          "name": "stdout",
          "text": [
            "Test Passed (223, 223)\n",
            "Test Passed 4\n",
            "Test Passed 223\n"
          ]
        }
      ]
    },
    {
      "cell_type": "markdown",
      "source": [
        "### Task 3 \n",
        "---\n",
        "The client is only concerned about bus routes 116 and 132 specifically.\n",
        "\n",
        "**Task**\n",
        "Create a new list of dictionaries which contains only the records where the `LineRef` is either 116 or 132. \n",
        "\n",
        "*(**hint**: the datatype of the LineRef might not be what you expect - the data came from a .csv file)*\n",
        "\n",
        "**Expected output**\n",
        "There will be 14 records in this list"
      ],
      "metadata": {
        "id": "bhG4CEnrEKe3"
      }
    },
    {
      "cell_type": "code",
      "source": [
        "def create_list_specific_lineref():\n",
        "  \n",
        "  new_Lineref=[]\n",
        "  for bus_journey in bus_journeys:\n",
        "    if bus_journey['LineRef']== \"116\" or bus_journey['LineRef'] == \"132\":\n",
        "     if bus_journey not in new_Lineref:\n",
        "      new_Lineref.append(bus_journey)\n",
        "  return (len(new_Lineref))\n",
        "\n",
        "# Test for create_list_specific_lineref  \n",
        "expected=14\n",
        "actual=create_list_specific_lineref()\n",
        "if actual==expected:\n",
        "  print(\"Test Passed\",actual) \n",
        "else:\n",
        "  print(\"Test Failed\",actual)    "
      ],
      "metadata": {
        "id": "txQCeFVPEYOI",
        "colab": {
          "base_uri": "https://localhost:8080/"
        },
        "outputId": "0fd78d94-fd5a-4fbc-e2b8-182c4ddd631c"
      },
      "execution_count": 33,
      "outputs": [
        {
          "output_type": "stream",
          "name": "stdout",
          "text": [
            "Test Passed 14\n"
          ]
        }
      ]
    },
    {
      "cell_type": "markdown",
      "source": [
        "### Task 4 \n",
        "---\n",
        "\n",
        "The indexes of `vehicle_refs` match the indexes of `emissions`.   \n",
        "Create a new list, which contains dictionaries.  Each dictionary will contain a vehicle_ref and its corresponding emission_class. \n",
        "*hint: you will need to use a for loop and indexing and should create dictionaries with two keys: vehicle_ref and emission_class*"
      ],
      "metadata": {
        "id": "1ct6UYStFA2s"
      }
    },
    {
      "cell_type": "code",
      "source": [
        "def create_list_vehicleref_emissionclass():\n",
        "\n",
        " new_list=[]\n",
        " for vehicle in range(len(vehicle_refs)):\n",
        "  key=vehicle_refs[vehicle]\n",
        " for category in range(len(emission_standards)):\n",
        "  value=emission_standards[category]\n",
        "  new_dict={\"vehicle_ref\":key,\"emission_class\":value}\n",
        "  new_list.append(new_dict)    \n",
        " return (len(new_list))\n",
        "\n",
        "\n",
        "#Test for create_list_vehicleref_emissionclass\n",
        "expected=223\n",
        "actual=create_list_vehicleref_emissionclass()\n",
        "if actual==expected:\n",
        "  print(\"Test Passed\",actual) \n",
        "else:\n",
        "  print(\"Test Failed\",actual)    "
      ],
      "metadata": {
        "colab": {
          "base_uri": "https://localhost:8080/"
        },
        "id": "g1HbLhYoOFoJ",
        "outputId": "7bada3b3-be0c-410d-bda5-db1d97d4351a"
      },
      "execution_count": 30,
      "outputs": [
        {
          "output_type": "stream",
          "name": "stdout",
          "text": [
            "Test Passed 223\n"
          ]
        }
      ]
    },
    {
      "cell_type": "markdown",
      "source": [
        "### Task 5 \n",
        "--- \n",
        "\n",
        "The list of dictionaries you created in the last exercise is very long. A more intuitive way to hold this data would be by collating data. \n",
        "\n",
        "Create a dictionary where each unique emission_class is a key and its corresponding value is a list of all vehicle_refs with that emission_class \n",
        "\n",
        "*(**hint**: you could think about using the unique_em list you created earlier)*\n",
        "\n",
        "**Example Output**\n",
        "\n",
        "{\"EURO III\": [1234, 4567, 8910], \"EURO IV\": [1028, 1283, 1234]}"
      ],
      "metadata": {
        "id": "ICrc2gAJFk3a"
      }
    },
    {
      "cell_type": "code",
      "source": [
        "from collections import defaultdict\n",
        "def create_sorted_dict():\n",
        "\n",
        " sorted_dict=defaultdict(list)\n",
        " for group,vehicle in zip(emission_standards,vehicle_refs):\n",
        "   sorted_dict[group].append(vehicle)\n",
        " print(sorted_dict) \n",
        " return len(sorted_dict)\n",
        "\n",
        "\n",
        "# Test for create_sorted_dict\n",
        "expected=4\n",
        "actual=create_sorted_dict()\n",
        "if actual==expected:\n",
        "  print(\"Test Passed\",actual)\n",
        "else:\n",
        "  print(\"Test Failed\",actual) "
      ],
      "metadata": {
        "id": "ATpxmk4RFlN1",
        "colab": {
          "base_uri": "https://localhost:8080/"
        },
        "outputId": "bf824314-358a-4c5a-80dd-46e5e17683e8"
      },
      "execution_count": 64,
      "outputs": [
        {
          "output_type": "stream",
          "name": "stdout",
          "text": [
            "defaultdict(<class 'list'>, {'EURO III': ['6260', '1607', '1609', '1616', '6401', '6402', '6404', '6405', '6406', '6407', '6408', '6410', '6411', '6412', '6413', '6417', '6418', '6419', '6420', '6421', '6422', '6423', '6424', '6425', '6427', '6428', '6429', '6430', '6431', '6432', '6436', '6437', '6438', '6439', '6440', '6441', '6442', '6443', '6444', '6445', '6446', '6447', '6448', '6449', '6005', '6007', '6136', '6132', '6135', '6129', '6124', '6125', '6126', '6127', '6152', '6154'], 'EURO IV': ['6139', '6138', '6143', '6141', '6144', '1633', '1634', '1635', '1636', '3984', '3987', '3988', '3994', '3995', '3996', '1637', '1638', '1639', '1640', '1641', '1642', '4007', '4006', '4005', '6146', '6147', '6150', '6151', '6149', '6148', '6237', '6238', '1523'], 'EURO V': ['3906', '3908', '6200', '6201', '6203', '6205', '4046', '4048', '4050', '4051', '4054', '4055', '4056', '4057', '4058', '4059', '4013', '4014', '4060', '4061', '4062', '4063', '4064', '4065', '4066', '4224', '4219', '4220', '4221', '4222', '4223', '1653', '1650', '1652', '1651', '4218', '1654', 'T83', '4464', '4469', '4470', '4471', '4455', '4460', '4463', '4450', '4452', '6471', '6472', '1522', '1518', '1519', '1503', '1524', '1526'], 'EURO VI': ['4279', '4280', '4281', '4282', '4283', '4284', '1655', '4263', '4289', '4290', '4291', '4292', '4293', '4294', '4295', '4296', '4297', '4298', '4299', '4300', '4308', '4309', '4310', '4311', '4312', '4313', '4314', '4315', '4316', '4317', '4318', '4319', '4264', '4265', '4266', '4267', '4268', '4269', '4270', '4271', '4272', '4273', '4261', '1656', '1657', '1658', '1659', '1660', '1661', '4233', '4234', '4071', '4072', '4073', '4074', '4075', '6479', '6480', '6481', '6482', '6483', '6484', '4106', '4108', '6516', '4120', '4121', '4126', '6520', '6521', '6522', '6528', '6473', '6474', '6475', '6476', '6477', '6478', '6493']})\n",
            "Test Passed 4\n"
          ]
        }
      ]
    },
    {
      "cell_type": "markdown",
      "source": [
        "### Task 6\n",
        "---\n",
        "Find all the polluting buses that were running when the data was collected.   \n",
        "Using the `bus_journeys` dictionary, find all the records where a Euro III bus was used. \n",
        "\n",
        "You can find the `Refs` which are polluting from the dictionary you created in the last task. \n",
        "\n",
        "* Create a new list of dictionaries which only contains the records from `bus_journeys` which were found as polluting bus. \n",
        "* how many polluting buses were being used?\n"
      ],
      "metadata": {
        "id": "9fexYArxGZFq"
      }
    },
    {
      "cell_type": "code",
      "source": [
        "from collections import defaultdict\n",
        "def find_polluting_buses(key):\n",
        "\n",
        " sorted_dict=defaultdict(list)\n",
        " for group,vehicle in zip(emission_standards,vehicle_refs):\n",
        "   sorted_dict[group].append(vehicle)  \n",
        " reference_num=sorted_dict[key]\n",
        " #print(\"length_emission_class\",key,len(reference_num))  \n",
        " polluting_bus=[]\n",
        " for bus_journey in bus_journeys:\n",
        "  if bus_journey['Ref'] in reference_num:\n",
        "   if bus_journey not in polluting_bus:  \n",
        "    polluting_bus.append(bus_journey)\n",
        " print(\"length_emission_class_bus_journeys\",key,len(polluting_bus))   \n",
        " return(len(polluting_bus))\n",
        " \n",
        "\n",
        "\n",
        "\n",
        "#Test for find_polluting_buses(key)\n",
        "expected=len(bus_journeys)\n",
        "EURO_III=find_polluting_buses('EURO III') \n",
        "EURO_IV=find_polluting_buses('EURO IV') \n",
        "EURO_V=find_polluting_buses('EURO V') \n",
        "EURO_VI=find_polluting_buses('EURO VI') \n",
        "actual=EURO_III+EURO_IV+EURO_V+EURO_VI\n",
        "if actual == expected:\n",
        "  print(\"Test passed!\\nExpected: {}\\nActual: {}\".format(expected, actual))\n",
        "else:\n",
        "  print(\"Test failed!\\nExpected: {}\\nActual: {}\".format(expected, actual))\n",
        "  print(\"Reason for failing : IN THE 'bus_journeys' records 3 buses 'Ref' is missing.so total length is 137,Ref length is 134\")"
      ],
      "metadata": {
        "id": "IVa0LHGWHRwK",
        "colab": {
          "base_uri": "https://localhost:8080/"
        },
        "outputId": "12bbb8fa-56b5-4b56-ee4a-ee24e4cc9e8a"
      },
      "execution_count": 44,
      "outputs": [
        {
          "output_type": "stream",
          "name": "stdout",
          "text": [
            "length_emission_class_bus_journeys EURO III 30\n",
            "length_emission_class_bus_journeys EURO IV 15\n",
            "length_emission_class_bus_journeys EURO V 29\n",
            "length_emission_class_bus_journeys EURO VI 60\n",
            "Test failed!\n",
            "Expected: 137\n",
            "Actual: 134\n",
            "Reason for failing : IN THE 'bus_journeys' records 3 buses 'Ref' is missing.so total length is 137,Ref length is 134\n"
          ]
        }
      ]
    },
    {
      "cell_type": "markdown",
      "source": [
        "# Challenge\n",
        "\n",
        "Can we find out how much pollution one bus on the 116 route emits?\n",
        "\n",
        "Can we find out how much pollution one bus on the 132 route emits?\n",
        "\n",
        "Can we find out how much pollution, in total, all the buses on these routes at the recorded point in time will be emitting?\n",
        "\n",
        "**Some numbers to play with:**  \n",
        "NOTE: These are NOT fact checked but give a rough idea of some numbers we might be able to use for a rough first model\n",
        "\n",
        "*  A typical old diesel bus will typically get 5 miles per gallon, which is 2.126km per litre (divide mpg by 2.352)\n",
        "*  One litre of diesel fuel has the energy content of 10.8 kWh\n",
        "*  If the bus's fuel consumption is 2.126km per litre, this gives an energy content of 5.08 kWh/km (divide 10.8 by fuel consumption)\n",
        "\n",
        "Emissions data is in this variable: ***emissions_data***\n",
        "\n",
        "**Emissions Data dictionary**\n",
        "\n",
        "Field------------------------------Data Type------------Description  \n",
        "Emission Standard-------Alphanumeric------Euro III, IV, V or VI\t\n",
        "CO2-------------------------------Float--------------------grams of CO2 emitted per KWhr  \n",
        "Nox-------------------------------Float--------------------grams of Nox emitted per KWhr  \n",
        "PM--------------------------------Float--------------------grams of particulate matter emitted per gm/KWhr  \n",
        "\t\t\t\n",
        "**Route information**  \n",
        "The 132 route is 12.5km from end to end  \n",
        "The 116 route is 15.25km  \n",
        "\n",
        "####**Task**  \n",
        "\n",
        "Write a function that takes the miles per gallon and the route (LineRef) as a parameter and calculates the emission of each of the 3 pollutants for a return journey on that route.\n",
        "\n",
        "####**Extension**  \n",
        "\n",
        "Find all the 116 and 132 buses in the data set (a snapshot of what is on the road at that particular point in time).  \n",
        "\n",
        "Count how many of these buses are Euro III.  \n",
        "\n",
        "Then calculate the total emissions for each pollutant for all the buses you have found."
      ],
      "metadata": {
        "id": "w6cU5Gf8V5R7"
      }
    },
    {
      "cell_type": "code",
      "source": [
        "def find_pollution_onebus_emits(bus_route,route_length):\n",
        "\n",
        "  total_fuel_consumption=round(((route_length)/2.126),2)\n",
        "  total_energy_content=round((total_fuel_consumption*10.8),2)\n",
        "  CO2_emission=round((total_energy_content*2.1),2)\n",
        "  Nox_emission=round((total_energy_content*5),2)\n",
        "  PM_emission=round((total_energy_content*0.1),2)\n",
        "  return(CO2_emission, Nox_emission,PM_emission)\n",
        "  \n",
        "find_pollution_onebus_emits(116,15.25)\n",
        "find_pollution_onebus_emits(132,12.5)\n",
        "\n",
        "\n",
        "#Test for find_pollution_onebus_emits(116,15.25)\n",
        "expected=(162.62,387.2,7.74)\n",
        "actual=find_pollution_onebus_emits(116,15.25)\n",
        "if actual == expected:\n",
        "  print(\"Test passed!\\nExpected: {}\\nActual: {}\".format(expected, actual))\n",
        "else:\n",
        "  print(\"Test failed!\\nExpected: {}\\nActual: {}\".format(expected, actual))\n",
        "\n",
        "# #Test for find_pollution_onebus_emits(132,12.5)\n",
        "expected=(133.35,317.5,6.35)\n",
        "actual=find_pollution_onebus_emits(132,12.5)\n",
        "if actual == expected:\n",
        "  print(\"Test passed!\\nExpected: {}\\nActual: {}\".format(expected, actual))\n",
        "else:\n",
        "  print(\"Test failed!\\nExpected: {}\\nActual: {}\".format(expected, actual))\n"
      ],
      "metadata": {
        "id": "J0QHWV5p0KH2",
        "colab": {
          "base_uri": "https://localhost:8080/"
        },
        "outputId": "87545f10-b2fc-4823-a057-f322766a1cef"
      },
      "execution_count": 94,
      "outputs": [
        {
          "output_type": "stream",
          "name": "stdout",
          "text": [
            "Test passed!\n",
            "Expected: (162.62, 387.2, 7.74)\n",
            "Actual: (162.62, 387.2, 7.74)\n",
            "Test passed!\n",
            "Expected: (133.35, 317.5, 6.35)\n",
            "Actual: (133.35, 317.5, 6.35)\n"
          ]
        }
      ]
    },
    {
      "cell_type": "code",
      "source": [
        "from collections import defaultdict\n",
        "def find_euro3_lineref(bus_route):    \n",
        "\n",
        "  new_Lineref=[]\n",
        "  for bus_journey in bus_journeys:\n",
        "    if bus_journey['LineRef']== bus_route:\n",
        "     if bus_journey not in new_Lineref:\n",
        "      new_Lineref.append(bus_journey)\n",
        "  print(\"Number of records for \",bus_route,\" in bus_journeys :\",len(new_Lineref))\n",
        "  sorted_dict=defaultdict(list)\n",
        "  for group,vehicle in zip(emission_standards,vehicle_refs):\n",
        "    sorted_dict[group].append(vehicle)  \n",
        "  reference_num=sorted_dict['EURO III']  \n",
        "  polluting_bus=[] \n",
        "  for Lineref in new_Lineref:\n",
        "   if Lineref['Ref'] in reference_num:\n",
        "    if Lineref not in polluting_bus:  \n",
        "     polluting_bus.append(Lineref)\n",
        "  print(\"bus_route \",bus_route,\"has\",len(polluting_bus),\"record in 'EURO III'\")   \n",
        "  print(polluting_bus,bus_route)\n",
        "\n",
        "\n",
        "  pollution1=find_pollution_onebus_emits(132,12.5)\n",
        "  pollution2=find_pollution_onebus_emits(116,15.25)\n",
        "  total_pollution=((pollution1[0]+pollution2[0]),(pollution1[1]+pollution2[1]),(pollution1[2]+pollution2[2]))\n",
        "  print(\"TOTAL POLLUTION : \",total_pollution)\n",
        "\n",
        "find_euro3_lineref('132')\n",
        "find_euro3_lineref('116')     "
      ],
      "metadata": {
        "colab": {
          "base_uri": "https://localhost:8080/"
        },
        "id": "6eyW_Cif-VrP",
        "outputId": "62922319-0551-4c7d-848d-7869ba8bff49"
      },
      "execution_count": 100,
      "outputs": [
        {
          "output_type": "stream",
          "name": "stdout",
          "text": [
            "Number of records for  132  in bus_journeys : 9\n",
            "bus_route  132 has 1 record in 'EURO III'\n",
            "[{'LineRef': '132', 'DirectionRef': 'inbound', 'PublishedLineName': '132', 'OriginName': 'Waterfront_Bus_Station', 'DestinationName': 'Hempstead_Valley_Shopping_Centre', 'OriginAimedDepartureTime': '2022-09-07T12:06:00+00:00', 'Ref': '6411'}] 132\n",
            "TOTAL POLLUTION :  (295.97, 704.7, 14.09)\n",
            "Number of records for  116  in bus_journeys : 5\n",
            "bus_route  116 has 1 record in 'EURO III'\n",
            "[{'LineRef': '116', 'DirectionRef': 'outbound', 'PublishedLineName': '116', 'OriginName': 'Waterfront_Bus_Station', 'DestinationName': 'Hempstead_Valley_Shopping_Centre', 'OriginAimedDepartureTime': '2022-09-07T11:12:00+00:00', 'Ref': '6430'}] 116\n",
            "TOTAL POLLUTION :  (295.97, 704.7, 14.09)\n"
          ]
        }
      ]
    },
    {
      "cell_type": "markdown",
      "source": [
        "# Summary\n",
        "\n",
        "Having completed the challenges.  What new information do we know?  What more might we try to find?\n",
        "\n",
        "Add some ideas in the box below (double click to open it)"
      ],
      "metadata": {
        "id": "tRY5LJmh0LRr"
      }
    },
    {
      "cell_type": "markdown",
      "source": [
        "In task6,the Ref is missing in bus_journeys record.we have to investigate this one.In extension ,I have added the tuples by it's indexes.Have to check for other ways of doing this."
      ],
      "metadata": {
        "id": "51FqaKXv0apa"
      }
    }
  ]
}