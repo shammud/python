{
  "cells": [
    {
      "cell_type": "markdown",
      "metadata": {
        "id": "view-in-github",
        "colab_type": "text"
      },
      "source": [
        "<a href=\"https://colab.research.google.com/github/shammud/python/blob/main/Copy_of_Copy_of_WhileLoops1.ipynb\" target=\"_parent\"><img src=\"https://colab.research.google.com/assets/colab-badge.svg\" alt=\"Open In Colab\"/></a>"
      ]
    },
    {
      "cell_type": "markdown",
      "metadata": {
        "id": "OWGIE_ptimyf"
      },
      "source": [
        "# While loops\n",
        "\n",
        "---\n"
      ]
    },
    {
      "cell_type": "markdown",
      "metadata": {
        "id": "Kjh4DVogizl5"
      },
      "source": [
        "There are many situations when an external event (such as an input from the user or finding an invalid data value) will be the thing that will cause the loop to stop.\n",
        "\n",
        "A while loop allows us to say \"repeat these instructions while something has not yet happened, or repeat these instruction while a particular state exists\"\n",
        "\n",
        "For example, we want to ask a user to enter some positive numbers to be added to a total. They will indicate that there are no more numbers by entering -1.\n",
        "\n"
      ]
    },
    {
      "cell_type": "code",
      "execution_count": null,
      "metadata": {
        "id": "HieVx4BrtJlU"
      },
      "outputs": [],
      "source": [
        "# initialise a total to 0\n",
        "# read the first number\n",
        "# add the number to the total and keep reading next number and adding to total until -1 entered\n",
        "\n",
        "def running_total():\n",
        "    total = 0\n",
        "    num = int(input(\"Enter a number, or type -1 to stop\"))\n",
        "    while num != -1:\n",
        "        total = total + num\n",
        "        num = int(input(\"Enter a number, or type -1 to stop\"))\n",
        "    print(total)\n",
        "\n",
        "running_total()"
      ]
    },
    {
      "cell_type": "markdown",
      "metadata": {
        "id": "X8pROiEYtKbA"
      },
      "source": [
        "**Another example**\n",
        "\n",
        "We want to take a number from the user and keep dividing it by 2 until the answer is 1 or less, then to print the number of times it was divided. Try it out. If you enter 8 then the answer should be 3, if you enter 6 the answer will also be 3."
      ]
    },
    {
      "cell_type": "code",
      "execution_count": null,
      "metadata": {
        "id": "eL9nJORbtTUb"
      },
      "outputs": [],
      "source": [
        "def div_by_two():\n",
        "  num = int(input(\"Enter a number to be processed\"))\n",
        "  number_times_divided = 0\n",
        "  while num > 1:\n",
        "    number_times_divided = number_times_divided + 1\n",
        "    num = num/2\n",
        "  print(\"Your number was divided\", number_times_divided, \"times\") \n",
        "   \n",
        "div_by_two()"
      ]
    },
    {
      "cell_type": "markdown",
      "metadata": {
        "id": "jKqqk9LstW83"
      },
      "source": [
        "*Here are some more examples of use of while loops.*\n",
        "\n",
        "### Ensuring valid input  \n",
        "When reading from the keyboard it is important to ensure that the user only enters valid data. You can do this in a number of ways but a while loop can be used to make the user keep entering data until they enter something that is valid."
      ]
    },
    {
      "cell_type": "code",
      "execution_count": null,
      "metadata": {
        "id": "7_CoIBfluIUG"
      },
      "outputs": [],
      "source": [
        "# read a number from the user\n",
        "# check that the number is a positive integer.  If not, display error messages\n",
        "# keep reading until a positive integer is read\n",
        "\n",
        "def positive_num():\n",
        "  number = -1\n",
        "  while number < 0:\n",
        "    print(\"You must type a number above 0\")\n",
        "    number = int(input(\"Enter a positive number\"))\n",
        "  print(\"Thank you for typing the number\", number)\n",
        "\n",
        "positive_num()"
      ]
    },
    {
      "cell_type": "markdown",
      "metadata": {
        "id": "YiO-WgJ8zzjp"
      },
      "source": [
        "### Take home points\n",
        "\n",
        "* An algorithm is the method for solving a particular problem (e.g. getting the right sort of number, selecting a message depending on input, calculating a new figure, etc)\n",
        "* A while loop will keep repeating while the given condition is TRUE\n",
        "* As soon as the condition becomes false the loop will stop executing\n",
        "* We use while loops when we don't necessarily know how many times a loop will need to repeat, but we do know under what conditions it does need to repeat."
      ]
    },
    {
      "cell_type": "markdown",
      "metadata": {
        "id": "4CS8CNrmQUbO"
      },
      "source": [
        "---\n",
        "### Exercise 1 - get a valid username\n",
        "\n",
        "Write a function called **get_username()** which will:  \n",
        "\n",
        "*  assign the value False to a boolean variable called **valid**  \n",
        "*  start a while loop that will continue to loop while `valid` is False  \n",
        "*  in the loop:  ask the user to enter a **username**,  if the `username` is \"user\" assign the value True to `valid`, otherwise print the message \"Incorrect user name\"   \n",
        "*  after the loop, display the message \"Welcome `username`, you will now be asked to enter your password  \n",
        "\n",
        "Test input:  \n",
        "username   \n",
        "user  \n",
        "\n",
        "Expected output:  \n",
        "Incorrect username  \n",
        "Welcome user you will now be asked to enter your password  "
      ]
    },
    {
      "cell_type": "code",
      "execution_count": null,
      "metadata": {
        "colab": {
          "base_uri": "https://localhost:8080/"
        },
        "id": "nwq55T5eRv7_",
        "outputId": "0ca4f7a5-6f32-4f83-b397-5b90c632138a"
      },
      "outputs": [
        {
          "name": "stdout",
          "output_type": "stream",
          "text": [
            "Enter username :username\n",
            "Incorrect username\n",
            "Enter username :user\n",
            "Welcome user you will now be asked to enter your password\n"
          ]
        }
      ],
      "source": [
        "def get_username():\n",
        "  valid=False\n",
        "  while valid == False:\n",
        "    name=input(\"Enter username :\")\n",
        "    if name == \"user\":\n",
        "      valid = True\n",
        "    else:\n",
        "      print(\"Incorrect username\")\n",
        "  print(\"Welcome\", name ,\"you will now be asked to enter your password\")\n",
        "get_username()        "
      ]
    },
    {
      "cell_type": "markdown",
      "metadata": {
        "id": "FXN6-MtQRwb9"
      },
      "source": [
        "---\n",
        "### Exercise 2 - get a valid passcode  \n",
        "\n",
        "Write a function called **get_passcode()** which will:  \n",
        "\n",
        "*  assign the value False to a boolean variable called **valid**  \n",
        "*  start a while loop that will continue to loop while `valid` is False  \n",
        "*  in the loop:  ask the user to enter a **passcode**, if the `passcode` is \"9876\" assign the value True to `valid`, otherwise print the message \"Incorrect passcode\"  \n",
        "*  after the loop, display the message \"Passcode accepted\"    \n",
        "\n",
        "Test input:  \n",
        "1234   \n",
        "9876  \n",
        "\n",
        "Expected output:  \n",
        "Incorrect passcode  \n",
        "Passcode accepted  "
      ]
    },
    {
      "cell_type": "code",
      "execution_count": null,
      "metadata": {
        "colab": {
          "base_uri": "https://localhost:8080/"
        },
        "id": "a0Z_ACOiSxsP",
        "outputId": "a44d95dd-671b-4250-b71d-1c705ebfc137"
      },
      "outputs": [
        {
          "name": "stdout",
          "output_type": "stream",
          "text": [
            "Enter passcode : 1234\n",
            "Incorrect passcode\n",
            "Enter passcode : 9876\n",
            "Passcode accepted\n"
          ]
        }
      ],
      "source": [
        "def get_passcode():\n",
        "  valid=False\n",
        "  while valid==False:\n",
        "    passcode=int(input(\"Enter passcode : \"))\n",
        "    if passcode==9876:\n",
        "      valid=True\n",
        "    else :\n",
        "        print(\"Incorrect passcode\")\n",
        "  print(\"Passcode accepted\")\n",
        "get_passcode()        "
      ]
    },
    {
      "cell_type": "markdown",
      "metadata": {
        "id": "DMeDXd7TS0ar"
      },
      "source": [
        "---\n",
        "### Exercise 3 - single digit input  \n",
        "\n",
        "Write a function called **get_digit()** which will:  \n",
        "\n",
        "*  assign the value False to a boolean variable called **valid_digit**  \n",
        "*  use a while loop to repeatedly ask the user to enter a single digit until the value they enter is less than 10     \n",
        "*  in the loop:  ask the user to enter a **single_digit**, if the `single_digit` is less than 10 assign the value True to `valid`, otherwise print the message \"Not a digit\"  \n",
        "*  after the loop, display the message \"Single digit entered\"    \n",
        "\n",
        "Test input:  \n",
        "10   \n",
        "9  \n",
        "\n",
        "Expected output:  \n",
        "Not a digit  \n",
        "Single digit entered  "
      ]
    },
    {
      "cell_type": "code",
      "execution_count": null,
      "metadata": {
        "colab": {
          "base_uri": "https://localhost:8080/"
        },
        "id": "4oGXPcmqTtVN",
        "outputId": "89cde06f-2df0-4ac6-e70f-0445fc016908"
      },
      "outputs": [
        {
          "name": "stdout",
          "output_type": "stream",
          "text": [
            "Enter num : 10\n",
            "Not a digit\n",
            "Enter num : 9\n",
            "Single digit entered\n"
          ]
        }
      ],
      "source": [
        "def get_digit():\n",
        "  valid_digit=False\n",
        "  while valid_digit==False:\n",
        "    n=int(input(\"Enter num : \"))\n",
        "    if n < 10:\n",
        "     # print (\"Single digit enered\")\n",
        "      valid_digit=True\n",
        "    else:\n",
        "      print(\"Not a digit\")\n",
        "  print(\"Single digit entered\")     \n",
        "get_digit()      "
      ]
    },
    {
      "cell_type": "markdown",
      "metadata": {
        "id": "o80s4nzfi37X"
      },
      "source": [
        "---\n",
        "### Exercise 4 - positive number input \n",
        "\n",
        "Write a function called **positive_number()** which will:\n",
        "*  ask the user to enter a **number**, the message should indicate that it must be a positive number  \n",
        "*  if `number` is not positive **(ie. less than 1)** show an error message and ask user to re-enter the `number` \n",
        "*  when the `number` is positive, print the `number`\n",
        "\n",
        "Test input:  \n",
        "-1\n",
        "0\n",
        "1\n",
        "\n",
        "Expected output:  \n",
        "It must be a positive number, try again  \n",
        "It must be a positive number, try again  \n",
        "1  "
      ]
    },
    {
      "cell_type": "code",
      "execution_count": null,
      "metadata": {
        "colab": {
          "base_uri": "https://localhost:8080/"
        },
        "id": "BmZjI8PzwdT-",
        "outputId": "3bdc02e4-fe9b-446a-ab2b-5e70debb9ef4"
      },
      "outputs": [
        {
          "name": "stdout",
          "output_type": "stream",
          "text": [
            "Enter num : -1\n",
            "It must be a positive number,try again\n",
            "Enter num : 0\n",
            "It must be a positive number,try again\n",
            "Enter num : 1\n",
            "1\n"
          ]
        }
      ],
      "source": [
        "def positive_number():\n",
        "  valid=False\n",
        "  while valid==False:\n",
        "    n=int(input(\"Enter num : \"))\n",
        "    if n >= 1:\n",
        "      #print(n)\n",
        "      valid=True\n",
        "    else:\n",
        "      print(\"It must be a positive number,try again\")\n",
        "  print(n)    \n",
        "positive_number()        \n"
      ]
    },
    {
      "cell_type": "markdown",
      "metadata": {
        "id": "xPJfd9lUyULa"
      },
      "source": [
        "---\n",
        "### Exercise 5 - getting a number within limits \n",
        "\n",
        "Write a function called **test_limits()** which will:\n",
        "\n",
        "*  ask the user to enter a number between **1 and 31**\n",
        "*  if the number entered is less than 1 or more than 31, display the error message \"Number out of limits\"  \n",
        "*  continue asking the user until a valid input is given \n",
        "*  when a valid number is given, display the message \"Your number was `number`\" and end the program \n",
        "\n",
        "Test input:  \n",
        "40  \n",
        "50  \n",
        "30  \n",
        "\n",
        "Expected output:  \n",
        "Number out of limits  \n",
        "Number out of limits  \n",
        "Your number was 30  \n"
      ]
    },
    {
      "cell_type": "code",
      "execution_count": null,
      "metadata": {
        "colab": {
          "base_uri": "https://localhost:8080/"
        },
        "id": "MVxhTY6zzq8k",
        "outputId": "c2c58515-5328-4cc5-871f-57cb2d21f212"
      },
      "outputs": [
        {
          "name": "stdout",
          "output_type": "stream",
          "text": [
            "Enter num : 40\n",
            "Number out of limits\n",
            "Enter num : 50\n",
            "Number out of limits\n",
            "Enter num : 30\n",
            "Your number was 30\n"
          ]
        }
      ],
      "source": [
        "def test_limits():\n",
        "  valid=False\n",
        "  while valid == False:\n",
        "    n=int(input(\"Enter num : \"))\n",
        "    if n>1 and n<31:\n",
        "      valid=True\n",
        "    else:\n",
        "      print(\"Number out of limits\")\n",
        "  print(\"Your number was\",n)      \n",
        "\n",
        "test_limits()      "
      ]
    },
    {
      "cell_type": "markdown",
      "metadata": {
        "id": "WcHiG9AlUPdr"
      },
      "source": [
        "---\n",
        "### Exercise 6 - getting a number outside range\n",
        "\n",
        "Write a function called **test_outlier()** which will:\n",
        "\n",
        "*  ask the user to enter a **number** that is NOT between 40 and 50  \n",
        "*  if the `number` entered is between 40 and 50 (including both 40 and 50, display the error message \"This is not an outlier\"\n",
        "*  continue asking the user until a valid `number` is given\n",
        "*  when a valid `number` is given, display the message \"You have entered an outlier\" and end the program  \n",
        "\n",
        "Test input:  \n",
        "34  \n",
        "\n",
        "Expected output:  \n",
        "You have entered an outlier  \n",
        "\n",
        "Test input:  \n",
        "44  \n",
        "50  \n",
        "40  \n",
        "34  \n",
        "\n",
        "Expected output:  \n",
        "This is not an outlier  \n",
        "This is not an outlier  \n",
        "This is not an outlier  \n",
        "You have entered an outlier  "
      ]
    },
    {
      "cell_type": "code",
      "execution_count": null,
      "metadata": {
        "colab": {
          "base_uri": "https://localhost:8080/"
        },
        "id": "PqvtQXYnUQ8E",
        "outputId": "b01bfc98-e7a1-40c1-9647-115a91303a7e"
      },
      "outputs": [
        {
          "name": "stdout",
          "output_type": "stream",
          "text": [
            "Enter num : 44\n",
            "This is not an outlier\n",
            "Enter num : 50\n",
            "This is not an outlier\n",
            "Enter num : 40\n",
            "This is not an outlier\n",
            "Enter num : 34\n",
            "You have entered an outlier\n"
          ]
        }
      ],
      "source": [
        "def test_outlier():\n",
        "  valid=False\n",
        "  while valid == False :\n",
        "    n=int(input(\"Enter num : \"))\n",
        "    if n not in range(39,51):\n",
        "      valid=True\n",
        "    else:\n",
        "      print(\"This is not an outlier\")\n",
        "  print(\"You have entered an outlier\")\n",
        "test_outlier()        \n"
      ]
    },
    {
      "cell_type": "markdown",
      "metadata": {
        "id": "53kjOj7nzri1"
      },
      "source": [
        "---\n",
        "### Exercise 7 - multiplying a number to be greater than 20,000\n",
        "\n",
        "Write a function called **increase_to_twenty_thousand()** that will:\n",
        "\n",
        "*  ask the user to input a **number**\n",
        "*  multiply given `number` by itself repeatedly, printing its value each time it changes, until the  number has become greater (>) than 20,000\n",
        "\n",
        "Test input:  \n",
        "5\n",
        "\n",
        "Expected output:  \n",
        "5   \n",
        "25  \n",
        "125  \n",
        "625  \n",
        "3125  \n",
        "15625  \n",
        "78125  \n",
        " "
      ]
    },
    {
      "cell_type": "code",
      "execution_count": 31,
      "metadata": {
        "id": "9vzat0W21tNA",
        "colab": {
          "base_uri": "https://localhost:8080/"
        },
        "outputId": "4b27a7e8-b14e-4608-8ca4-8ffc4a14b6a3"
      },
      "outputs": [
        {
          "output_type": "stream",
          "name": "stdout",
          "text": [
            "Enter num : 5\n",
            "25\n",
            "125\n",
            "625\n",
            "3125\n",
            "15625\n",
            "78125\n"
          ]
        }
      ],
      "source": [
        "def increase_to_twenty_thousand():\n",
        "  a=int(input(\"Enter num : \"))\n",
        "  result=a\n",
        "  valid=False\n",
        "  while valid == False:\n",
        "      result*=a\n",
        "      if result>20000:\n",
        "        valid=True\n",
        "      print(result)\n",
        "increase_to_twenty_thousand()      "
      ]
    },
    {
      "cell_type": "markdown",
      "metadata": {
        "id": "wepL2Ufj1uvT"
      },
      "source": [
        "---\n",
        "### Exercise 8 - even and odds \n",
        "\n",
        "Write a function called **get_even_number()** that:\n",
        "\n",
        "*  asks the user to input an even number (divisible by 2)\n",
        "*  if an odd number is given, display message \"That number is odd\"\n",
        "*  once valid input given (even number), display message \"Thanks, that number is even\"\n",
        "\n",
        "Test input:  \n",
        "3  \n",
        "1  \n",
        "2  \n",
        "\n",
        "Expected output:  \n",
        "That number is odd  \n",
        "That number is odd  \n",
        "Thanks, that number is even  \n",
        "\n"
      ]
    },
    {
      "cell_type": "code",
      "execution_count": null,
      "metadata": {
        "colab": {
          "base_uri": "https://localhost:8080/"
        },
        "id": "KME9Qfcs45yJ",
        "outputId": "1efa365e-e8dd-40fe-d28a-ec51588a242d"
      },
      "outputs": [
        {
          "name": "stdout",
          "output_type": "stream",
          "text": [
            "Enter num : 3\n",
            "That number is odd\n",
            "Enter num : 1\n",
            "That number is odd\n",
            "Enter num : 2\n",
            "Thanks,that number is even\n"
          ]
        }
      ],
      "source": [
        "def get_even_number():\n",
        "  valid=False\n",
        "  while valid==False:\n",
        "    n=int(input(\"Enter num : \"))\n",
        "    if n%2 == 0:\n",
        "      valid=True\n",
        "    else:\n",
        "      print(\"That number is odd\") \n",
        "  print(\"Thanks,that number is even\") \n",
        "get_even_number()      \n"
      ]
    },
    {
      "cell_type": "markdown",
      "metadata": {
        "id": "-p3LVygZwd6R"
      },
      "source": [
        "### Exercise 9 - menu choice \n",
        "\n",
        "Write a function called **show_special_numbers()** which will:\n",
        "\n",
        "*  display the following menu \n",
        "\n",
        "*What value would you like to see?*\n",
        "\n",
        "1. *Pi*\n",
        "2. *Plank’s constant*\n",
        "3. *E*\n",
        "4. *Square root of 2*\n",
        "5. *Quit the program*\n",
        "\n",
        "*  ask the user to input which value they would like to see by typing a number between 1 - 5 \n",
        "*  read and process the choice while the user selects anything other than 5 (Quit the program)\n",
        "\n",
        "To process the choice:  \n",
        "* if the number is 1 - print 3.14159265359\n",
        "* if the number is 2 - print 6.62607004 × 10-34 (in Python this would be written 6.62607004E-34\n",
        "* if the number is 3 - print 2.71828\n",
        "* if the number is 4 - print 1.414\n",
        "* if the number is 5 - print the message (\"Thank you for using this program\")\n",
        "* if the number is anything else - print \"Invalid choice\"\n",
        "\n",
        "The program will print the message associated with the menu choice and will then display the menu again and ask the user to select a choice.  \n",
        "\n",
        "When the user enters 5, the program should stop repeating.\n",
        "\n",
        "Test input:    \n",
        "1  \n",
        "4  \n",
        "6  \n",
        "5  \n",
        "\n",
        "Expected output:    \n",
        "3.14159265359  \n",
        "1.414  \n",
        "Invalid choice  \n",
        "Thank you for using this program  "
      ]
    },
    {
      "cell_type": "code",
      "execution_count": null,
      "metadata": {
        "colab": {
          "base_uri": "https://localhost:8080/"
        },
        "id": "EZdR70D-yP_Y",
        "outputId": "259d0475-8bd8-461c-b5d1-40f4834f3341"
      },
      "outputs": [
        {
          "output_type": "stream",
          "name": "stdout",
          "text": [
            "What value would you like to see ? \n",
            "1.Pi\n",
            "2.Plank's constant\n",
            "3.E\n",
            "4.Square root of 2\n",
            "5.Quit the program\n",
            "Enter num : 1\n",
            "3.14159265359\n",
            "Enter num : 4\n",
            "1.414\n",
            "Enter num : 6\n",
            "Invalid choice\n",
            "Enter num : 5\n",
            "Thank you for using this program\n"
          ]
        }
      ],
      "source": [
        "def show_special_numbers():\n",
        "   valid=False\n",
        "   while valid==False:\n",
        "    n=int(input(\"Enter num : \"))\n",
        "    if n==1:\n",
        "      print(\"3.14159265359\")\n",
        "    elif n==2:\n",
        "      print(\"6.62607004E-34\")\n",
        "    elif n==3:\n",
        "     print(\"2.71828\")\n",
        "    elif n==4:\n",
        "     print(\"1.414\")\n",
        "    elif n==5:\n",
        "     valid=True\n",
        "     print(\"Thank you for using this program\")\n",
        "    if n>5:\n",
        "     print(\"Invalid choice\")\n",
        "print(\"What value would you like to see ? \")\n",
        "print(\"1.Pi\")\n",
        "print(\"2.Plank's constant\")\n",
        "print(\"3.E\")\n",
        "print(\"4.Square root of 2\")\n",
        "print(\"5.Quit the program\")\n",
        "show_special_numbers()\n",
        "\n"
      ]
    },
    {
      "cell_type": "markdown",
      "metadata": {
        "id": "Ig_WrlmPWG4v"
      },
      "source": [
        "---\n",
        "### Exercise 10 - Guess the number  \n",
        "\n",
        "Write a function called **guess_number(number)** which will:  \n",
        "\n",
        "Ask the user to guess the number within 6 attempts.  \n",
        "\n",
        "The function will be given a random number (called `number`) and should use a while loop that will continue while the user has not guessed correctly and has had less than 6 attempts (don't forget to set the number of attempts to 0 before the loop and increment it every time a guess is made).  \n",
        "\n",
        "In the loop:  \n",
        "\n",
        "*  ask the user to enter a **guess**  \n",
        "*  if the `guess` is greater than the `number` print \"Too high\", if less than the number print \"Too low\" or if correct print \"You guessed it\"  \n",
        "*  count the `attempt`  \n",
        "\n",
        "After the loop if the maximum attempts has been reached, print \"Too many attempts\"\n",
        "\n",
        "\n"
      ]
    },
    {
      "cell_type": "code",
      "execution_count": null,
      "metadata": {
        "colab": {
          "base_uri": "https://localhost:8080/"
        },
        "id": "7qagArrHWHGV",
        "outputId": "24c5c152-7f59-4f6d-e063-d3c767d5bc1d"
      },
      "outputs": [
        {
          "name": "stdout",
          "output_type": "stream",
          "text": [
            "Enter guess : 2\n",
            "Too low\n",
            "Enter guess : 6\n",
            "Too low\n",
            "Enter guess : 8\n",
            "Too low\n",
            "Enter guess : 2\n",
            "Too low\n",
            "Enter guess : 1\n",
            "Too low\n",
            "Enter guess : 45\n",
            "Too high\n",
            "Too many attempts\n",
            "number of attempts 6\n"
          ]
        }
      ],
      "source": [
        "from random import randint\n",
        "\n",
        "def guess_number(number):\n",
        "  # add your code below here, remembering to indent\n",
        "  attempts=0\n",
        "  count=0\n",
        "  while  attempts<6 :\n",
        "    guess=int(input(\"Enter guess : \"))\n",
        "    count+=1\n",
        "    attempts+=1\n",
        "    if guess > number:\n",
        "      print(\"Too high\")\n",
        "    elif guess < number :\n",
        "      print(\"Too low\")\n",
        "    elif guess == number:\n",
        "      print(\"you guessed it\")\n",
        "    if attempts==6:\n",
        "      print(\"Too many attempts\")\n",
        "      \n",
        "  print(\"number of attempts\", str(count))\n",
        "guess_number(randint(1,50))"
      ]
    }
  ],
  "metadata": {
    "colab": {
      "collapsed_sections": [],
      "name": "Copy of Copy of WhileLoops1.ipynb",
      "provenance": [],
      "include_colab_link": true
    },
    "kernelspec": {
      "display_name": "Python 3",
      "name": "python3"
    }
  },
  "nbformat": 4,
  "nbformat_minor": 0
}