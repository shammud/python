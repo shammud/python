{
  "nbformat": 4,
  "nbformat_minor": 0,
  "metadata": {
    "colab": {
      "name": "Copy of Sea-Level-Project.ipynb",
      "provenance": [],
      "collapsed_sections": [],
      "include_colab_link": true
    },
    "kernelspec": {
      "name": "python3",
      "display_name": "Python 3"
    },
    "language_info": {
      "name": "python"
    }
  },
  "cells": [
    {
      "cell_type": "markdown",
      "metadata": {
        "id": "view-in-github",
        "colab_type": "text"
      },
      "source": [
        "<a href=\"https://colab.research.google.com/github/shammud/python/blob/main/Copy_of_Sea_Level_Project.ipynb\" target=\"_parent\"><img src=\"https://colab.research.google.com/assets/colab-badge.svg\" alt=\"Open In Colab\"/></a>"
      ]
    },
    {
      "cell_type": "markdown",
      "source": [
        "# Using numpy to look for a correlation between time data and sea level rise\n",
        "---\n",
        "\n",
        "### Data Source\n",
        "Global Average Absolute Sea Level Change, 1880-2014 from the US Environmental Protection Agency using data from CSIRO, 2015; NOAA, 2015.\n",
        "https://datahub.io/core/sea-level-rise\n",
        "\n",
        "The data describes annual sea levels from 1880 to 2013.  Measures are adjusted using two standards: Commonwealth Scientific and Industrial Research Organisation(CSIRO) and National Oceanic and Atmospheric Administration (NOAA)  \n",
        "\n",
        "Raw Data file:  https://raw.githubusercontent.com/freeCodeCamp/boilerplate-sea-level-predictor/master/epa-sea-level.csv\n",
        "\n",
        "For this exercise:\n",
        "*  import the pandas library\n",
        "*  import the numpy library\n",
        "*  read the csv dataset containing data on sea-levels from the year 1880 to 2013 into a dataframe (df)\n",
        "*  use df.head() and df.info() to inspect the data and the column data types\n",
        "\n"
      ],
      "metadata": {
        "id": "jBYNdCdQ9_cu"
      }
    },
    {
      "cell_type": "code",
      "source": [
        "import pandas as pd\n",
        "import numpy as np\n",
        "from matplotlib import pyplot as plt\n",
        "from scipy import stats\n",
        "df=pd.read_csv(\"https://raw.githubusercontent.com/freeCodeCamp/boilerplate-sea-level-predictor/master/epa-sea-level.csv\")\n",
        "\n",
        "def calculate_linear_correlation():\n",
        "  Year=df['Year'].to_numpy('int64')\n",
        "  CSIRO_Adjusted_Sea_Level =df['CSIRO Adjusted Sea Level'].to_numpy('float64')\n",
        "  NOAA_Adjusted_Sea_Level =df['NOAA Adjusted Sea Level'].to_numpy('float64') \n",
        "  CSIRO_Adjusted_Sea_Level_mean=CSIRO_Adjusted_Sea_Level.mean()\n",
        "  CSIRO_Adjusted_Sea_Level_std=CSIRO_Adjusted_Sea_Level.std()\n",
        "  CSIRO_Adjusted_Sea_Level_total=CSIRO_Adjusted_Sea_Level.sum()\n",
        "  CSIRO_Adjusted_Sea_Level_max=CSIRO_Adjusted_Sea_Level.max()\n",
        "  CSIRO_Adjusted_Sea_Level_min=CSIRO_Adjusted_Sea_Level.min()\n",
        "  NOAA_Adjusted_Sea_Level_mean=df['NOAA Adjusted Sea Level'].mean()\n",
        "  NOAA_Adjusted_Sea_Level_std=df['NOAA Adjusted Sea Level'].std()\n",
        "  NOAA_Adjusted_Sea_Level_total=df['NOAA Adjusted Sea Level'].sum()\n",
        "  print(\"CSIRO_Adjusted_Sea_Level_mean : \",CSIRO_Adjusted_Sea_Level_mean)\n",
        "  print(\"CSIRO_Adjusted_Sea_Level_std : \",CSIRO_Adjusted_Sea_Level_std)\n",
        "  print(\"CSIRO_Adjusted_Sea_Level_total : \",CSIRO_Adjusted_Sea_Level_total)\n",
        "  print(\"NOAA_Adjusted_Sea_Level_mean : \",NOAA_Adjusted_Sea_Level_mean)\n",
        "  print(\"NOAA_Adjusted_Sea_Level_std : \",NOAA_Adjusted_Sea_Level_std)\n",
        "  print(\"NOAA_Adjusted_Sea_Level_total : \", NOAA_Adjusted_Sea_Level_total)\n",
        "  print( \"CSIRO_Adjusted_Sea_Level_max : \",CSIRO_Adjusted_Sea_Level_max)\n",
        "  print( \"CSIRO_Adjusted_Sea_Level_min : \",CSIRO_Adjusted_Sea_Level_min)\n",
        "  biggest_rise_index= np.where(CSIRO_Adjusted_Sea_Level ==CSIRO_Adjusted_Sea_Level_max)\n",
        "  lowest_rise_index=np.where(CSIRO_Adjusted_Sea_Level ==CSIRO_Adjusted_Sea_Level_min)\n",
        "  print(\"biggest_rise_index : \",biggest_rise_index)\n",
        "  print(\"lowest_rise_index : \",lowest_rise_index)\n",
        "  print(\"Year_biggest_rise : \",Year[132])\n",
        "  print(\"Year_lowest_rise : \",Year[2])\n",
        "  coef_year_rise_level=np.corrcoef(Year,CSIRO_Adjusted_Sea_Level)\n",
        "  print(\"coef_year_rise_level : \",coef_year_rise_level)\n",
        "\n",
        "linear_correlation()  "
      ],
      "metadata": {
        "id": "r1XUCWHV_Cj9",
        "colab": {
          "base_uri": "https://localhost:8080/"
        },
        "outputId": "16be54f6-e3ae-406a-ddd4-8791a82e9793"
      },
      "execution_count": 35,
      "outputs": [
        {
          "output_type": "stream",
          "name": "stdout",
          "text": [
            "CSIRO_Adjusted_Sea_Level_mean :  3.650340811880598\n",
            "CSIRO_Adjusted_Sea_Level_std :  2.476399631426498\n",
            "CSIRO_Adjusted_Sea_Level_total :  489.1456687920001\n",
            "NOAA_Adjusted_Sea_Level_mean :  7.363745767333332\n",
            "NOAA_Adjusted_Sea_Level_std :  0.6910380781791361\n",
            "NOAA_Adjusted_Sea_Level_total :  154.63866111399997\n",
            "CSIRO_Adjusted_Sea_Level_max :  9.326771644\n",
            "CSIRO_Adjusted_Sea_Level_min :  -0.440944881\n",
            "biggest_rise_index :  (array([132]),)\n",
            "lowest_rise_index :  (array([2]),)\n",
            "Year_biggest_rise :  2012\n",
            "Year_lowest_rise :  1882\n",
            "coef_year_rise_level :  [[1.         0.98475713]\n",
            " [0.98475713 1.        ]]\n"
          ]
        }
      ]
    },
    {
      "cell_type": "markdown",
      "source": [
        "### Then\n",
        "---\n",
        "1.  Calculate some statistics on the level array, eg:\n",
        "*  mean\n",
        "*  standard deviation\n",
        "*  total \n",
        "\n",
        "2.  Use the fact that the arrays are aligned (e.g. the first number in the level array is linked to the first year in the year array and display:\n",
        "\n",
        "*  the year with the biggest rise in level\n",
        "*  the year with the lowest rise in level\n",
        "\n",
        "*(**Hint**:  to do this you can use a new numpy function np.where() )*\n",
        " ```\n",
        "np.where(array == value_to_find)\n",
        "```\n",
        "*There is some reference material [here](https://thispointer.com/find-the-index-of-a-value-in-numpy-array/)*\n",
        "\n",
        "**Note**: ```np.where(...)``` will return a tuple containing all indexes where that value was found.  You can print all, or you can print the first value (it is likely that there will only be one in this case) using [0][0].  *With the correct code you should get an answer of 2012*\n",
        "\n",
        "\n",
        "3.  Calculate the Pearson product-moment correlation coefficient between year and the rise in sea level.  (*Expected output:  0.98 when rounded to 2 decimal places*)"
      ],
      "metadata": {
        "id": "3cf1YPgnBSc2"
      }
    },
    {
      "cell_type": "code",
      "execution_count": null,
      "metadata": {
        "id": "8VWUtmK4YhoU"
      },
      "outputs": [],
      "source": [
        ""
      ]
    },
    {
      "cell_type": "markdown",
      "metadata": {
        "id": "yQyytEbnZ1lw"
      },
      "source": [
        "# Reflection\n",
        "----\n",
        "\n",
        "## What skills have you demonstrated in completing this notebook?"
      ]
    },
    {
      "cell_type": "markdown",
      "metadata": {
        "id": "MM00hR5aZk1-"
      },
      "source": [
        "Your answer: "
      ]
    },
    {
      "cell_type": "markdown",
      "metadata": {
        "id": "Zgexd27sZ1ly"
      },
      "source": [
        "## What caused you the most difficulty?"
      ]
    },
    {
      "cell_type": "markdown",
      "metadata": {
        "id": "-Y_nrVBwaGXr"
      },
      "source": [
        "Your answer: "
      ]
    }
  ]
}