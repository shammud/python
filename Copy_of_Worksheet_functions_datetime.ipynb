{
  "nbformat": 4,
  "nbformat_minor": 0,
  "metadata": {
    "colab": {
      "name": "Copy of Worksheet-functions-datetime.ipynb",
      "provenance": [],
      "collapsed_sections": [],
      "include_colab_link": true
    },
    "kernelspec": {
      "name": "python3",
      "display_name": "Python 3"
    },
    "language_info": {
      "name": "python"
    }
  },
  "cells": [
    {
      "cell_type": "markdown",
      "metadata": {
        "id": "view-in-github",
        "colab_type": "text"
      },
      "source": [
        "<a href=\"https://colab.research.google.com/github/shammud/python/blob/main/Copy_of_Worksheet_functions_datetime.ipynb\" target=\"_parent\"><img src=\"https://colab.research.google.com/assets/colab-badge.svg\" alt=\"Open In Colab\"/></a>"
      ]
    },
    {
      "cell_type": "markdown",
      "metadata": {
        "id": "7iQyKP-SQiw1"
      },
      "source": [
        "# User-defined functions using datetime library\n",
        "\n",
        "---\n"
      ]
    },
    {
      "cell_type": "markdown",
      "metadata": {
        "id": "Vi93h5I4QnKs"
      },
      "source": [
        "When working with dates and times, fairly common in data sets, we need to be able to extract certain bits of information.  \n",
        "\n",
        "In Python, as with other languages, dates and times are stored in a data structure that combines the two together and stores the information as a number of seconds since a start point (often 1st January 1900).  This is obviously a large number but every bit of information about a date can be extracted from it and used to give a wide range of information.  \n",
        "\n",
        "Have a go at the exercises below to use a selection of datetime functions and return a new bit of data from each, to be printed by the caller.\n",
        "\n",
        "Before you can use datetime functions you will need to import them. Import the datetime functions like this:\n",
        "\n",
        "`from datetime import datetime`  \n",
        "\n",
        "\n",
        "For more information about datetime functions visit [w3Schools-Python datetime](https://www.w3schools.com/python/python_datetime.asp) and [Python docs](https://docs.python.org/3/library/datetime.html)"
      ]
    },
    {
      "cell_type": "markdown",
      "metadata": {
        "id": "MIDLi7CNR034"
      },
      "source": [
        "---\n",
        "### Exercise 1 - print current date and time\n",
        "\n",
        "Write a function that will return the date and time now.  The caller will print it.  \n",
        "\n",
        "*Hint:  the format has been added for you, the other exercises will follow a similar format.   Always remember to import datetime from datetime as shown below*"
      ]
    },
    {
      "cell_type": "code",
      "metadata": {
        "id": "gS6GJdXbQfHp",
        "colab": {
          "base_uri": "https://localhost:8080/"
        },
        "outputId": "c9a579a2-ec7d-4e5a-ecf9-d25ac81530a4"
      },
      "source": [
        "import datetime\n",
        "# add your function, called get_datetime_now() below here\n",
        "def get_datetime_now():\n",
        " x=datetime.datetime.now()\n",
        " return x\n",
        "\n",
        "now_date_time = get_datetime_now()\n",
        "print(now_date_time)"
      ],
      "execution_count": null,
      "outputs": [
        {
          "output_type": "stream",
          "name": "stdout",
          "text": [
            "2022-07-18 09:29:59.413252\n"
          ]
        }
      ]
    },
    {
      "cell_type": "markdown",
      "metadata": {
        "id": "Yy24sL0bUtpF"
      },
      "source": [
        "---\n",
        "Exercise 2 - print the current year\n",
        "\n",
        "Write a function that will return the current year.  The caller will print the year."
      ]
    },
    {
      "cell_type": "code",
      "metadata": {
        "id": "YqlQqPIqUtyr",
        "colab": {
          "base_uri": "https://localhost:8080/"
        },
        "outputId": "5a830927-e764-47c8-8564-b73567c8c8e6"
      },
      "source": [
        "import datetime\n",
        "def current_year():\n",
        "  y=datetime.datetime.now()\n",
        "  return(y.year)\n",
        "current=current_year()\n",
        "print(current)"
      ],
      "execution_count": null,
      "outputs": [
        {
          "output_type": "stream",
          "name": "stdout",
          "text": [
            "2022\n"
          ]
        }
      ]
    },
    {
      "cell_type": "markdown",
      "metadata": {
        "id": "FzSVCaJKV1O1"
      },
      "source": [
        "---\n",
        "### Exercise 3 - print the current day of the week\n",
        "\n",
        "Write a function that will return the current day of the week.  The caller will print it."
      ]
    },
    {
      "cell_type": "code",
      "metadata": {
        "id": "OP4ZIXBWV1Yj",
        "colab": {
          "base_uri": "https://localhost:8080/"
        },
        "outputId": "5bbe8e85-2c95-49e3-f8fe-205b0cd70361"
      },
      "source": [
        "import datetime\n",
        "def current_day():\n",
        "  x=datetime.datetime.now()\n",
        "  return(x.strftime(\"%A\"))\n",
        "day=current_day()\n",
        "print(day)"
      ],
      "execution_count": null,
      "outputs": [
        {
          "output_type": "stream",
          "name": "stdout",
          "text": [
            "Monday\n"
          ]
        }
      ]
    },
    {
      "cell_type": "markdown",
      "metadata": {
        "id": "a8euCtdmWIDE"
      },
      "source": [
        "---\n",
        "### Exercise 4 - create a new date\n",
        "\n",
        "Write a function that will take 3 parameters, day, month, year (3 numbers that make a valid date) and will create, and return a new date.  The caller will print the date."
      ]
    },
    {
      "cell_type": "code",
      "metadata": {
        "id": "FbOFnTwnWILN",
        "colab": {
          "base_uri": "https://localhost:8080/"
        },
        "outputId": "c280e2c6-4468-49c5-8463-09b681db297b"
      },
      "source": [
        "import datetime\n",
        "def new_date():\n",
        "  x=datetime.date(2022,7,20)\n",
        "  return x\n",
        "y=new_date()\n",
        "print(y)  "
      ],
      "execution_count": null,
      "outputs": [
        {
          "output_type": "stream",
          "name": "stdout",
          "text": [
            "2022-07-20\n"
          ]
        }
      ]
    },
    {
      "cell_type": "markdown",
      "metadata": {
        "id": "f5SKVuE0WfcE"
      },
      "source": [
        "---\n",
        "### Exercise 5 - create a valid date\n",
        "\n",
        "Write a function that will take 3 parameters, day, month, year (3 numbers) and will:  \n",
        "*   check that the month is between 1 and 12  \n",
        "*   check that the day is valid for the month (e.g. if the month is 2, then the day must be between 1 and 28 (don't worry about leap years for the moment)  \n",
        "*   if the date is not valid, print an error message and return None (which the caller will print)  \n",
        "*   if the date is valid, store it in a new variable, return the variable and the caller will print it."
      ]
    },
    {
      "cell_type": "code",
      "metadata": {
        "id": "gclt-f9-XfdG",
        "colab": {
          "base_uri": "https://localhost:8080/"
        },
        "outputId": "f5cdfa9f-f781-4bda-e8a5-d44359d253f5"
      },
      "source": [
        "#import datetime\n",
        "def valid_date():\n",
        "  date=input(\"Enter the date in dd/mm/yy format : \")\n",
        "  dd,mm,yy=date.split('/')\n",
        "  yy=int(yy)\n",
        "  mm=int(mm)\n",
        "  dd=int(dd)\n",
        "  a=\"valid\"\n",
        "  x=\"error\"\n",
        "  if (mm==1 or mm==3 or mm==5 or mm==7 or mm==8 or mm==10 or mm==12) and (0< dd < 32):\n",
        "    return a\n",
        "  elif (mm==2) and (0< dd <29):\n",
        "   return a\n",
        "  elif (mm==4 or mm==6 or mm==9 or mm==11) and (0<dd<31):\n",
        "     return a\n",
        "  else:\n",
        "    return x\n",
        "z=valid_date()\n",
        "print(z)\n",
        "\n",
        "\n",
        "\n",
        "\n"
      ],
      "execution_count": null,
      "outputs": [
        {
          "output_type": "stream",
          "name": "stdout",
          "text": [
            "Enter the date in dd/mm/yy format : 18/04/16\n",
            "valid\n"
          ]
        }
      ]
    },
    {
      "cell_type": "markdown",
      "metadata": {
        "id": "js7fy2HWXfm2"
      },
      "source": [
        "---\n",
        "### Exercise 6 - is it a leap year?\n",
        "\n",
        "Write a function that will take a date as a parameter (you will need to create the date variable before calling the function) and will determine if it is a leap year, returning True or False.\n",
        "\n",
        "*Hint:  a leap year is a year that is divisible by 4 but the centuries (1900, 2000, etc are only leap years if they are divisible by 400)*"
      ]
    },
    {
      "cell_type": "code",
      "metadata": {
        "id": "KY1jtf3lX_ps",
        "colab": {
          "base_uri": "https://localhost:8080/"
        },
        "outputId": "fef2e0d9-2cc2-43f3-9c43-5e0c22442dfe"
      },
      "source": [
        "from datetime import datetime\n",
        "def is_leap_year(date):\n",
        " # add your code below here\n",
        "  date=input(\"Enter the date in yyyy-mm-dd format : \")\n",
        "  yyyy,mm,dd=date.split('-')\n",
        "  yyyy=int(yyyy)\n",
        "  mm=int(mm)\n",
        "  dd=int(dd)\n",
        "  if (yyyy%4==0) or (yyyy%400==0):\n",
        "    return('True',yyyy,'is a leap year')\n",
        "  else:\n",
        "   return('False',yyyy,'is not a leap year')\n",
        "is_leap_year(1996-12-15)"
      ],
      "execution_count": 59,
      "outputs": [
        {
          "name": "stdout",
          "output_type": "stream",
          "text": [
            "Enter the date in yyyy-mm-dd format : 1996-12-15\n"
          ]
        },
        {
          "output_type": "execute_result",
          "data": {
            "text/plain": [
              "('True', 1996, 'is a leap year')"
            ]
          },
          "metadata": {},
          "execution_count": 59
        }
      ]
    },
    {
      "cell_type": "markdown",
      "metadata": {
        "id": "9BuRDi08YAO0"
      },
      "source": [
        "---\n",
        "### Exercise 7 - display parts of date/time\n",
        "\n",
        "Write a function that will take a date and print from it the following:  \n",
        "*  given date and time  \n",
        "*  year (in full) \n",
        "*  month (as a number) \n",
        "*  month name \n",
        "*  week number of the year  \n",
        "*  weekday of the week (as a number)  \n",
        "*  day of year  \n",
        "*  day of the month  \n",
        "*  day of week (as a name)  \n",
        "\n",
        "*Hint:  see w3Schools for [strftime reference](https://www.w3schools.com/python/python_datetime.asp)*\n",
        "\n"
      ]
    },
    {
      "cell_type": "code",
      "metadata": {
        "id": "zl-37Ez9ahym",
        "colab": {
          "base_uri": "https://localhost:8080/"
        },
        "outputId": "e712e161-1584-4e65-db0e-de9f4c187e55"
      },
      "source": [
        "import datetime\n",
        "def display():\n",
        "  x=datetime.date.today()\n",
        "  print(x)\n",
        "  print(x.year)\n",
        "  print(x.strftime(\"%m\"))\n",
        "  print(x.strftime(\"%B\"))\n",
        "  print(x.strftime(\"%U\"))\n",
        "  print(x.strftime(\"%w\"))\n",
        "  print(x.strftime(\"%j\"))\n",
        "  print(x.strftime(\"%d\"))\n",
        "  print(x.strftime(\"%A\"))\n",
        "display()"
      ],
      "execution_count": null,
      "outputs": [
        {
          "output_type": "stream",
          "name": "stdout",
          "text": [
            "2022-07-18\n",
            "2022\n",
            "07\n",
            "July\n",
            "29\n",
            "1\n",
            "199\n",
            "18\n",
            "Monday\n"
          ]
        }
      ]
    },
    {
      "cell_type": "markdown",
      "metadata": {
        "id": "_rpTIoSDaiBj"
      },
      "source": [
        "---\n",
        "### Exercise 8 - next 6 days\n",
        "\n",
        "Write a function that will take a date and generate the dates of the following 6 days.  It should print each of the 6 days in the form:  \n",
        "\n",
        "DAY OF THE WEEK, MONTH NAME, FULL YEAR\n",
        "\n",
        "Hint:  to generate the days, use the function datetime.timedelta(), there is a good example of its use [here](https://www.geeksforgeeks.org/python-datetime-timedelta-function/)  "
      ]
    },
    {
      "cell_type": "code",
      "metadata": {
        "id": "1d-oXqLLb0vX",
        "colab": {
          "base_uri": "https://localhost:8080/"
        },
        "outputId": "397a304c-1150-4aa0-dda1-1250e3e8146d"
      },
      "source": [
        "import datetime\n",
        "from datetime import timedelta\n",
        "def generate_dates():\n",
        "  a=datetime.date.today()\n",
        "  b=a+timedelta(days=1)\n",
        "  c=a+timedelta(days=2)\n",
        "  d=a+timedelta(days=3)\n",
        "  e=a+timedelta(days=4)\n",
        "  f=a+timedelta(days=5)\n",
        "  g=a+timedelta(days=6)\n",
        "  print(b.strftime(\"%A %B %Y\"))\n",
        "  print(c.strftime(\"%A %B %Y\"))\n",
        "  print(d.strftime(\"%A %B %Y\"))\n",
        "  print(e.strftime(\"%A %B %Y\"))\n",
        "  print(f.strftime(\"%A %B %Y\"))\n",
        "  print(g.strftime(\"%A %B %Y\"))\n",
        "generate_dates()\n"
      ],
      "execution_count": null,
      "outputs": [
        {
          "output_type": "stream",
          "name": "stdout",
          "text": [
            "Tuesday July 2022\n",
            "Wednesday July 2022\n",
            "Thursday July 2022\n",
            "Friday July 2022\n",
            "Saturday July 2022\n",
            "Sunday July 2022\n"
          ]
        }
      ]
    },
    {
      "cell_type": "markdown",
      "metadata": {
        "id": "22Rhwx2Sb1Ey"
      },
      "source": [
        "---\n",
        "### Optional extra practice\n",
        "\n",
        "There are some similar and some more challenging exercises [here](https://www.w3resource.com/python-exercises/date-time-exercise/) if you would like to practice more. The site has its own editor."
      ]
    }
  ]
}