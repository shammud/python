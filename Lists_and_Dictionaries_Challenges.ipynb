{
  "nbformat": 4,
  "nbformat_minor": 0,
  "metadata": {
    "colab": {
      "name": "Lists and Dictionaries Challenges.ipynb",
      "provenance": [],
      "collapsed_sections": [],
      "include_colab_link": true
    },
    "kernelspec": {
      "name": "python3",
      "display_name": "Python 3"
    },
    "language_info": {
      "name": "python"
    }
  },
  "cells": [
    {
      "cell_type": "markdown",
      "metadata": {
        "id": "view-in-github",
        "colab_type": "text"
      },
      "source": [
        "<a href=\"https://colab.research.google.com/github/shammud/python/blob/main/Lists_and_Dictionaries_Challenges.ipynb\" target=\"_parent\"><img src=\"https://colab.research.google.com/assets/colab-badge.svg\" alt=\"Open In Colab\"/></a>"
      ]
    },
    {
      "cell_type": "markdown",
      "metadata": {
        "id": "nEJLJX3J9B2k"
      },
      "source": [
        "# Some challenges to help you become more confident with using Lists, Tuples and Dictionaries\n",
        "\n",
        "---\n",
        "\n"
      ]
    },
    {
      "cell_type": "markdown",
      "metadata": {
        "id": "JvV6htgh9Nc1"
      },
      "source": [
        "### Exercise 1 - extending a list\n",
        "\n",
        "There are three ways to extend a list in Python:  \n",
        "*  use `list_name.append(item)`, `list_name.insert(item)`\n",
        "*  concatenate two lists using the + operator (e.g. new_list = list1 + list2)\n",
        "*  use `list1_name.extend(list2_name)`\n",
        "\n",
        "The last method allows us to add all the `list2` items onto `list1` and for the new, extended list to now be `list1`.  `list2` will always be added to the end of `list1`.  \n",
        "\n",
        "If the objective is to add list2 before list1 then use `list2.extend(list1)`\n",
        "\n",
        "Write a function which will:  \n",
        "*  create a list of **years** containing the years 1960, 1970, 1980, 1990, 2000  \n",
        "*  print the list of years  \n",
        "*  calculate how long ago each year was and print the year and how long ago it was (e.g. 1990 was 30 years ago)  *(Hint:  use the datetime library to get the current year)*   \n",
        "*  create a second list, **years2** containing the years 2010 and 2020, extend `years` to include these later years\n",
        "*  create a third list, **years3** containing the years 1930, 1940 and 1950 and extend the list to include all the years between 1930 and 2020\n",
        "*  print the final list\n",
        "\n",
        "Expected output:  \n",
        "[1960, 1970, 1980, 1990]  \n",
        "1960 was 61 years ago  \n",
        "1970 was 51 years ago  \n",
        "1980 was 41 years ago  \n",
        "1990 was 31 years ago  \n",
        "2000 was 21 years ago  \n",
        "[1930, 1940, 1950, 1960, 1970, 1980, 1990, 2000, 2010, 2020] "
      ]
    },
    {
      "cell_type": "code",
      "metadata": {
        "id": "QAyTVqoO8-08",
        "colab": {
          "base_uri": "https://localhost:8080/"
        },
        "outputId": "03a0875f-6350-49fe-f94a-54cb06ee9bd9"
      },
      "source": [
        "from datetime import date\n",
        "def extending_list():\n",
        "  years=[1960,1970,1980,1990,2000]\n",
        "  print(years)\n",
        "  today=date.today()\n",
        "  current_year=today.year\n",
        "  print(current_year)\n",
        "  for year in years:\n",
        "    print(year,\" was \",current_year-year,\" years ago\")\n",
        "  years1=[2010,2020]\n",
        "  years2=years+years1\n",
        "  years3=[1930,1940,1950]\n",
        "  years4=years3+years2\n",
        "  print(years4)\n",
        "  \n",
        "\n",
        "\n",
        "extending_list()"
      ],
      "execution_count": null,
      "outputs": [
        {
          "output_type": "stream",
          "name": "stdout",
          "text": [
            "[1960, 1970, 1980, 1990, 2000]\n",
            "2022\n",
            "1960  was  62  years ago\n",
            "1970  was  52  years ago\n",
            "1980  was  42  years ago\n",
            "1990  was  32  years ago\n",
            "2000  was  22  years ago\n",
            "[1930, 1940, 1950, 1960, 1970, 1980, 1990, 2000, 2010, 2020]\n"
          ]
        }
      ]
    },
    {
      "cell_type": "markdown",
      "metadata": {
        "id": "S5iPicFzBzOW"
      },
      "source": [
        "---\n",
        "### Exercise 2 - creating a dictionary from a tuple and three lists\n",
        "\n",
        "Write a function which will create a list of dictionary items using the values in a tuple as the dictionary keys and the values in three corresponding lists as the dictionary values.\n",
        "\n",
        "*  loop through the status items in the tuple called task_status\n",
        "*  for each status, loop through the list with the same name (*Hint:  you can use eval(status) to access the list with the matching name  e.g. for task in eval(status)* )\n",
        "*  each time round this second loop, create a dictionary object with the  key:value pair {status : task}\n",
        "*  add each new dictionary to a list called **project_board** that was created as an empty list before the loops  \n",
        "*  print the project_board list\n",
        "\n",
        "Expected output:  \n",
        "\n",
        "[{'assigned': 'task1'}, {'assigned': 'task2'}, {'assigned': 'task3'}, {'inprogress': 'task4'}, {'inprogress': 'task5'}, {'inprogress': 'task6'}, {'completed': 'task7'}, {'completed': 'task8'}, {'completed': 'task9'}] \n",
        "\n"
      ]
    },
    {
      "cell_type": "code",
      "metadata": {
        "id": "KXYOSHY-C7m4",
        "colab": {
          "base_uri": "https://localhost:8080/"
        },
        "outputId": "b0ce50ce-298d-4548-c64e-1e20191a26c3"
      },
      "source": [
        "def create_project_board():\n",
        "  task_status = (\"assigned\", \"inprogress\", \"completed\")\n",
        "  assigned = ['task1','task2','task3']\n",
        "  inprogress = ['task4','task5','task6']\n",
        "  completed = ['task7','task8','task9']\n",
        "  #  add your code below here\n",
        "  project_board=[]\n",
        "  for status in task_status:\n",
        "    for task in eval(status):\n",
        "      key=status\n",
        "      value=task\n",
        "      d={}\n",
        "      d[key]=value\n",
        "      project_board.append(d)\n",
        "\n",
        "  print(project_board)\n",
        "\n",
        "\n",
        "\n",
        "create_project_board()\n"
      ],
      "execution_count": null,
      "outputs": [
        {
          "output_type": "stream",
          "name": "stdout",
          "text": [
            "[{'assigned': 'task1'}, {'assigned': 'task2'}, {'assigned': 'task3'}, {'inprogress': 'task4'}, {'inprogress': 'task5'}, {'inprogress': 'task6'}, {'completed': 'task7'}, {'completed': 'task8'}, {'completed': 'task9'}]\n"
          ]
        }
      ]
    },
    {
      "cell_type": "markdown",
      "metadata": {
        "id": "M1BuTu9p19Ma"
      },
      "source": [
        "---\n",
        "### Exercise 3 - names and heights\n",
        "\n",
        "Write a function which will allow a user to enter the names and heights of a set of people and add each set of information as a record (dictionary) to a list. The function will stop collecting names and heights when the user enters \"STOP\" as the name.\n",
        "\n",
        "Then, the function will:  \n",
        "\n",
        "*   produce a list of names in order of the shortest person to the tallest\n",
        "*   calculate the name of the tallest person\n",
        "*   calculate the name of the shortest person\n",
        "*   calculate the average height\n",
        "*   calculate the name of the person who is closest to the average height\n",
        "\n",
        "\n",
        "\n",
        "\n"
      ]
    },
    {
      "cell_type": "code",
      "source": [
        "\n"
      ],
      "metadata": {
        "id": "09mexPUUlW8P"
      },
      "execution_count": null,
      "outputs": []
    },
    {
      "cell_type": "code",
      "metadata": {
        "id": "reuyww3e18uv",
        "colab": {
          "base_uri": "https://localhost:8080/"
        },
        "outputId": "c7c92d0b-5417-47b4-b761-42d55a28f3eb"
      },
      "source": [
        "def names_type():\n",
        "  details=[]\n",
        "  valid=False\n",
        "  while valid==False:\n",
        "    name=input(\"Enter name : \").lower()\n",
        "    if name == \"stop\":\n",
        "      break\n",
        "    height=int(input(\"Enter height : \"))                      \n",
        "    key=name\n",
        "    value=height\n",
        "    d={\"name\":\"\",\"height\":0}\n",
        "    d[\"name\"]=key\n",
        "    d[\"height\"]=value\n",
        "    details.append(d)\n",
        "  print(\"Original_list : \",details)\n",
        "  a=sorted(details, key=lambda x:x['height'])\n",
        "  print(\"Sorted_list : \",a)\n",
        "  maximum=max(details, key=lambda x:x['height'])\n",
        "  print(\"Tallest_person : \",maximum)\n",
        "  minimum=min(details, key=lambda x:x['height'])\n",
        "  print(\"Shortest_person : \",minimum)\n",
        "  average=sum(d['height'] for d in details)/len(details)\n",
        "  print(\"Average_height : \",round(average,2),\"cm\")\n",
        "  difference=10000\n",
        "  for d in details:\n",
        "    if abs(average - d['height']) < difference:\n",
        "      difference = abs(average-d['height'])\n",
        "      averageName = d[\"name\"]\n",
        "  print(\"Closest_person_average_height : \",averageName)\n",
        "names_type()"
      ],
      "execution_count": 12,
      "outputs": [
        {
          "output_type": "stream",
          "name": "stdout",
          "text": [
            "Enter name : anna\n",
            "Enter height : 175\n",
            "Enter name : tim\n",
            "Enter height : 182\n",
            "Enter name : jack\n",
            "Enter height : 169\n",
            "Enter name : stop\n",
            "Original_list :  [{'name': 'anna', 'height': 175}, {'name': 'tim', 'height': 182}, {'name': 'jack', 'height': 169}]\n",
            "Sorted_list :  [{'name': 'jack', 'height': 169}, {'name': 'anna', 'height': 175}, {'name': 'tim', 'height': 182}]\n",
            "Tallest_person :  {'name': 'tim', 'height': 182}\n",
            "Shortest_person :  {'name': 'jack', 'height': 169}\n",
            "Average_height :  175.33 cm\n",
            "Closest_person_average_height :  anna\n"
          ]
        }
      ]
    }
  ]
}
