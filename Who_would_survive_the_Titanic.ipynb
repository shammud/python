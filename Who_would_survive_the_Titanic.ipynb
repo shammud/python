{
  "nbformat": 4,
  "nbformat_minor": 0,
  "metadata": {
    "colab": {
      "name": "Who would survive the Titanic.ipynb",
      "provenance": [],
      "collapsed_sections": [],
      "include_colab_link": true
    },
    "kernelspec": {
      "name": "python3",
      "display_name": "Python 3"
    },
    "language_info": {
      "name": "python"
    }
  },
  "cells": [
    {
      "cell_type": "markdown",
      "metadata": {
        "id": "view-in-github",
        "colab_type": "text"
      },
      "source": [
        "<a href=\"https://colab.research.google.com/github/shammud/python/blob/main/Who_would_survive_the_Titanic.ipynb\" target=\"_parent\"><img src=\"https://colab.research.google.com/assets/colab-badge.svg\" alt=\"Open In Colab\"/></a>"
      ]
    },
    {
      "cell_type": "markdown",
      "source": [
        "# Who Would Survive The Titanic?\n",
        "---"
      ],
      "metadata": {
        "id": "N17abBc4T7Cj"
      }
    },
    {
      "cell_type": "markdown",
      "source": [
        "This worksheet will explore the possibility that a person's financial status may have affected their chances of survival of the Titanic disaster. We will use passenger data from the Titanic to discover the surival rate of passengers from different classes, ages and genders and to draw conclusions as to how they may have affected a person's odds of surviving the disaster."
      ],
      "metadata": {
        "id": "itn7U5GzhFBl"
      }
    },
    {
      "cell_type": "markdown",
      "source": [
        "---\n",
        "\n",
        "## Prerequisite\n",
        "\n",
        "Run the following code to gain access to the Titanic passenger data and to create the subsequent lists which will be used later."
      ],
      "metadata": {
        "id": "OF6cO3E_bX45"
      }
    },
    {
      "cell_type": "code",
      "execution_count": 2,
      "metadata": {
        "id": "iyDSJtrub50u"
      },
      "outputs": [],
      "source": [
        "### ~ DO NOT EDIT BELOW THIS POINT ~ ###\n",
        "\n",
        "import pandas as pd\n",
        "\n",
        "def get_pclass_and_survived():   \n",
        "  url = \"https://raw.githubusercontent.com/pandas-dev/pandas/master/doc/data/titanic.csv\"\n",
        "  data_table = pd.read_csv(url)\n",
        "  return (data_table[\"Survived\"].tolist(), \n",
        "          data_table[\"Pclass\"].tolist(),\n",
        "          data_table[\"Sex\"].tolist(),\n",
        "          data_table[\"Age\"].tolist())\n",
        "\n",
        "survived, Pclass, Sex, Age = get_pclass_and_survived()\n",
        "\n",
        "### ~ DO NOT EDIT ABOVE THIS POINT ~ ###"
      ]
    },
    {
      "cell_type": "markdown",
      "source": [
        "---\n",
        "\n",
        "### Exercise 1 - Find the percentage of people with third class tickets who survived the Titanic\n",
        "\n",
        "Write a function called get_third_class_survival_rate() which will get the percentage of survivors in third class: \n",
        "\n",
        "\n",
        "*   assign the value 0 to variables **passenger_count** and **survivor_count**\n",
        "\n",
        "*   use a **for** loop to loop through the `Pclass` list\n",
        "\n",
        "*   in the loop: use an **if** statement to add to the passenger count `if` the passenger was in third class (e.g. if passenger_class == 3)\n",
        "\n",
        "*   use a second **for** loop in the **range** of the Pclass list to loop through the length of the list\n",
        "\n",
        "*   in the second loop: use an **if** statement to add to the survivor count `if` the passenger was in third class and survived\n",
        "\n",
        "*   create a new variable and called **class_survival_rate** and calculate the survival rate as a percentage ( (survivor count ÷ passenger count) x 100 ) and return the result\n",
        "\n",
        "*   store the calling function in a new variable called **third_class_survivors** and print it along with a statement\n",
        "\n",
        "Expected Output:\n",
        "\n",
        "The survival rate of third class passengers was 24%"
      ],
      "metadata": {
        "id": "fdQojJVc4Vsx"
      }
    },
    {
      "cell_type": "code",
      "source": [
        "def get_third_class_survival_rate():\n",
        "  passenger_count=0\n",
        "  survivor_count=0\n",
        "  for passenger in Pclass:\n",
        "      if passenger==3:\n",
        "        passenger_count+=1\n",
        "  for i in range(len(Pclass)):\n",
        "     if Pclass[i]==3 and survived[i]==1:\n",
        "        survivor_count+=1\n",
        "  class_survival_rate=round((survivor_count/passenger_count)*100,0)\n",
        "  return class_survival_rate\n",
        "\n",
        "\n",
        "third_class_survivors = get_third_class_survival_rate()\n",
        "print(\"The survival rate of third class passengers was: {}%\".format(third_class_survivors))"
      ],
      "metadata": {
        "id": "Mm4cLimh4U6J",
        "colab": {
          "base_uri": "https://localhost:8080/"
        },
        "outputId": "760b83d7-7f0a-4cb6-c6a2-ca1ab0e2a930"
      },
      "execution_count": 3,
      "outputs": [
        {
          "output_type": "stream",
          "name": "stdout",
          "text": [
            "The survival rate of third class passengers was: 24.0%\n"
          ]
        }
      ]
    },
    {
      "cell_type": "markdown",
      "source": [
        "---\n",
        "\n",
        "### Exercise 2 - Adapt your function to get the percentage for any class\n",
        "\n",
        "Using the code from exercise 1, adjust your function so it can be used to find the survival rates for any passenger class:\n",
        "\n",
        "*   change the function name to **get_class_survival_rate**\n",
        "\n",
        "*   add a parameter for **class_num** inside the brackets of your function definition\n",
        "\n",
        "*   replace instances of the class number being used with the class_num parameter\n",
        "\n",
        "*   for each class, store the calling functions in new variables with their respective class_num argument ( e.g. **first_class_survivors** = **get_class_survival_rate(1)** ) and print the survival rates with statements\n",
        "\n",
        "Expected Output:\n",
        "\n",
        "The survival rate of first class passengers was 63%\n",
        "\n",
        "The survival rate of second class passengers was 47%\n",
        "\n",
        "The survival rate of third class passengers was 24%"
      ],
      "metadata": {
        "id": "Idkv_Nw28kKT"
      }
    },
    {
      "cell_type": "code",
      "source": [
        "def get_class_survival_rate(class_num):\n",
        "  passenger_count=0\n",
        "  survivor_count=0\n",
        "  for passenger in Pclass:\n",
        "      if passenger==int(class_num):\n",
        "        passenger_count+=1\n",
        "  for i in range(len(Pclass)):\n",
        "     if Pclass[i]==int(class_num) and survived[i]==1:\n",
        "        survivor_count+=1\n",
        "  class_survival_rate=round((survivor_count/passenger_count)*100,0)\n",
        "  return class_survival_rate \n",
        "\n",
        "\n",
        "\n",
        "first_class_survivors = (get_class_survival_rate(1))\n",
        "print(\"The survival rate of first class passengers was: {}%\".format(first_class_survivors))\n",
        "\n",
        "second_class_survivors = (get_class_survival_rate(2))\n",
        "print(\"The survival rate of second class passengers was: {}%\".format(second_class_survivors))\n",
        "\n",
        "third_class_survivors = (get_class_survival_rate(3))\n",
        "print(\"The survival rate of third class passengers was: {}%\".format(third_class_survivors))"
      ],
      "metadata": {
        "id": "isNsveqB883T",
        "colab": {
          "base_uri": "https://localhost:8080/"
        },
        "outputId": "f1fdacbe-278f-439e-89aa-daa3e65eb2f5"
      },
      "execution_count": 4,
      "outputs": [
        {
          "output_type": "stream",
          "name": "stdout",
          "text": [
            "The survival rate of first class passengers was: 63.0%\n",
            "The survival rate of second class passengers was: 47.0%\n",
            "The survival rate of third class passengers was: 24.0%\n"
          ]
        }
      ]
    },
    {
      "cell_type": "markdown",
      "source": [
        "---\n",
        "\n",
        "### Exercise 3 - Use similar methods to work out if men were more likely to survive than women\n",
        "\n",
        "Write a function called **get_sex_survival_rate()** which will find the chance of survival for men and women:\n",
        "\n",
        "*   use a parameter in your function ( e.g. get_sex_survival_rate(**Psex**) ) so it can be used for both males and females\n",
        "\n",
        "*   assign the value 0 to variables **passenger_count** and **survivor_count**\n",
        "\n",
        "*   use a **for** loop to loop through the `Sex` list\n",
        "\n",
        "*   in the loop: use an **if** statement to add to the passenger count `if` the passenger is equal to Psex (the functions parameter)\n",
        "\n",
        "*   use a second **for** loop in the **range** of the Sex list to loop through the length of the list\n",
        "\n",
        "*   in the second loop: use an **if** statement to add to the survivor count `if` the passenger was male/female and survived\n",
        "\n",
        "*   create a new variable and called **sex_survival_rate** and calculate the survival rate as a percentage ( (survivor count ÷ passenger count) x 100 ) and return the result\n",
        "\n",
        "*   store the calling functions in new variables called **male_survivors** and **female_survivors** and print them along with a statement\n",
        "\n",
        "Expected Output:\n",
        "\n",
        "The survival rate of male passengers was: 19%\n",
        "\n",
        "The survival rate of female passengers was: 74%"
      ],
      "metadata": {
        "id": "u_BwoQI9JTms"
      }
    },
    {
      "cell_type": "code",
      "source": [
        "def get_sex_survival_rate(Psex):\n",
        "  passenger_count=0\n",
        "  survivor_count=0\n",
        "  for i in Sex:\n",
        "    if i==Psex:\n",
        "      passenger_count+=1\n",
        "  for n in range(len(Sex)):\n",
        "    if Sex[n]==Psex and survived[n]==1:\n",
        "      survivor_count+=1\n",
        "  sex_survival_rate=round((survivor_count/passenger_count)*100,0)\n",
        "  return sex_survival_rate\n",
        "\n",
        "male_survivors = get_sex_survival_rate('male')\n",
        "print(\"The survival rate of male passengers was: {}%\".format(male_survivors))\n",
        "\n",
        "female_survivors = get_sex_survival_rate('female')\n",
        "print(\"The survival rate of female passengers was: {}%\".format(female_survivors))"
      ],
      "metadata": {
        "colab": {
          "base_uri": "https://localhost:8080/"
        },
        "id": "rsG3VBs5KOkb",
        "outputId": "ee6f18f8-5a58-45a4-e1e5-9d446d6172c7"
      },
      "execution_count": 5,
      "outputs": [
        {
          "output_type": "stream",
          "name": "stdout",
          "text": [
            "The survival rate of male passengers was: 19.0%\n",
            "The survival rate of female passengers was: 74.0%\n"
          ]
        }
      ]
    },
    {
      "cell_type": "markdown",
      "source": [
        "---\n",
        "\n",
        "### Exercise 4 - Use similar methods to work out if young people (below 40yrs old) were more likely to survive\n",
        "\n",
        "Write a function called get_age_survival_rate() which will find the chance of survival for passengers under the age of 40:\n",
        "\n",
        "*Note: In the 'Age' list some entries are empty and will result in an error when trying to use an if statement therefore in your if statements you must include ' is not None' ( e.g. passenger_age < 40 and passenger_age is not None ) to circumvent this*\n",
        "\n",
        "*   assign the value 0 to variables **passenger_count** and **survivor_count**\n",
        "\n",
        "*   use a **for** loop to loop through the `Age` list\n",
        "\n",
        "*   in the loop: use an **if** statement to add to the passenger count `if` the passenger's age is less than 40 and not none\n",
        "\n",
        "*   use a second **for** loop in the **range** of the Age list to loop through the length of the list\n",
        "\n",
        "*   in the second loop: use an **if** statement to add to the survivor count `if` the passenger's age is less than 40 and survived and is not none\n",
        "\n",
        "*   create a new variable and called **age_survival_rate** and calculate the survival rate as a percentage ( (survivor count ÷ passenger count) x 100 ) and return the result\n",
        "\n",
        "*   store the calling function in a new variable called **young_survivors** and print it along with a statement"
      ],
      "metadata": {
        "id": "qqaLEA0tNAUa"
      }
    },
    {
      "cell_type": "code",
      "source": [
        "def get_age_survival_rate():\n",
        "  passenger_count=0\n",
        "  survivor_count=0\n",
        "  for i in Age:\n",
        "    if i<40 and i is not None:\n",
        "      passenger_count+=1\n",
        "  for n in range(len(Age)):\n",
        "    if Age[n]<40 and survived[n]==1:\n",
        "      survivor_count+=1\n",
        "  age_survival_rate=round((survivor_count/passenger_count)*100,0)\n",
        "  return age_survival_rate\n",
        "\n",
        "young_survivors = get_age_survival_rate()\n",
        "print(\"The survival rate of young people (below 40yrs old) was: {}%\".format(young_survivors))"
      ],
      "metadata": {
        "colab": {
          "base_uri": "https://localhost:8080/"
        },
        "id": "MoPASbZxWmTn",
        "outputId": "eaa3816d-62d8-4cde-9ed2-7ea643971aaf"
      },
      "execution_count": 6,
      "outputs": [
        {
          "output_type": "stream",
          "name": "stdout",
          "text": [
            "The survival rate of young people (below 40yrs old) was: 42.0%\n"
          ]
        }
      ]
    },
    {
      "cell_type": "markdown",
      "source": [
        "---\n",
        "\n",
        "### Exercise 5 - Determine chance of survival from user inputs\n",
        "\n",
        "This time, let the user choose what groups they would like to use (ie process according to type of ticket, sex, age)  The function should give the user a menu of categories to calculate on (ticket class, sex, age), then should ask for a value of the chosen category to search for, then should use the relevant function from above (get_class_survival_rate, get_sex_survival_rate, get_age_survival_rate\n",
        "\n",
        "Use this number to calculate the percentage of all passengers who survived.\n",
        "\n",
        "Challenge:  you could modify the age so that it is possible to get a range (ie 0 to 20, 20 to 40, etc) for age.\n",
        "\n",
        "The function should return the percentage so that it can be printed by the code that is already in the box below."
      ],
      "metadata": {
        "id": "UeEOVCcGc5ID"
      }
    },
    {
      "cell_type": "code",
      "source": [
        "def get_chance_of_survival():\n",
        "  print(\"LIST OF CATAGORIES :Ticket class, Sex, Age\" )  \n",
        "  category=input(\"Enter Category : \").lower()\n",
        "  if category == \"ticket class\":\n",
        "    class_num=int(input(\"enter class num : \"))\n",
        "    survival_chance= get_class_survival_rate(class_num)\n",
        "    return survival_chance\n",
        "  if category ==\"sex\":\n",
        "    Psex=input(\"Enter male or female : \").lower()\n",
        "    survival_chance=get_sex_survival_rate(Psex)\n",
        "    return survival_chance\n",
        "  if category==\"age\":\n",
        "    a=int(input(\"Enter starting age range : \"))\n",
        "    b=int(input(\"Enter ending age range : \"))\n",
        "    passenger_count=0\n",
        "    survivor_count=0\n",
        "    for i in Age:\n",
        "      if i in range(a,b):\n",
        "        passenger_count+=1\n",
        "    for n in range(len(Age)):\n",
        "      if Age[n] in range(a,b) and survived[n]==1:\n",
        "         survivor_count+=1\n",
        "    survival_chance=round((survivor_count/passenger_count)*100,0)\n",
        "    return survival_chance\n",
        "survival_chance = get_chance_of_survival()\n",
        "print(\"The chance of survival for passengers would be: {}%\".format(survival_chance))"
      ],
      "metadata": {
        "id": "UfCYMdxOdJvG",
        "colab": {
          "base_uri": "https://localhost:8080/"
        },
        "outputId": "e24e3ab1-145a-4597-f208-4e7070a557b9"
      },
      "execution_count": 16,
      "outputs": [
        {
          "output_type": "stream",
          "name": "stdout",
          "text": [
            "LIST OF CATAGORIES :Ticket class, Sex, Age\n",
            "Enter Category : age\n",
            "Enter starting age range : 20\n",
            "Enter ending age range : 40\n",
            "The chance of survival for passengers would be: 40.0%\n"
          ]
        }
      ]
    },
    {
      "cell_type": "markdown",
      "source": [
        "# Reflection\n",
        "\n",
        "What went well in this project?  What did you find the most challenging?  What is the most interesting thing you have learnt?\n",
        "\n",
        "Type your reflection in the box below."
      ],
      "metadata": {
        "id": "3L62LqXYmFTV"
      }
    },
    {
      "cell_type": "markdown",
      "source": [
        ""
      ],
      "metadata": {
        "id": "bjX00bshmP8a"
      }
    },
    {
      "cell_type": "markdown",
      "source": [
        "I overcomed the fear of length of data and its information.Whatever the length the coding is the same.In this project, I learned to use function calling in the required areas and passing datas within the function.Finding the percentage of survival of user input age range is bit challenging one.I also learned how to test the part of the coding without intending other parts by returning the output."
      ],
      "metadata": {
        "id": "mFGdtX5fqPNR"
      }
    }
  ]
}
